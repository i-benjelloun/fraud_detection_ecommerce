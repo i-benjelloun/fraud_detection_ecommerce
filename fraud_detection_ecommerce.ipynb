{
 "cells": [
  {
   "cell_type": "markdown",
   "metadata": {},
   "source": [
    "# Introduction"
   ]
  },
  {
   "cell_type": "markdown",
   "metadata": {},
   "source": [
    "Company \"X\" is an e-commerce company that sells handmade clothing.\n",
    "\n",
    "In this notebook, we are going analyze a list of transactions from the company's database and build a model that detects fraudulent transactions.\n",
    "\n",
    "First, we are going to explore and process our data. Then, we are going to build and evaluate several classification models for our problem."
   ]
  },
  {
   "cell_type": "markdown",
   "metadata": {},
   "source": [
    "# 1 - Importing libraries"
   ]
  },
  {
   "cell_type": "markdown",
   "metadata": {},
   "source": [
    "First, let's install and import some libraries for data exploration and processing."
   ]
  },
  {
   "cell_type": "code",
   "execution_count": 1,
   "metadata": {},
   "outputs": [],
   "source": [
    "# Data manipulation libraries\n",
    "import pandas as pd\n",
    "import numpy as np\n",
    "from datetime import datetime\n",
    "\n",
    "# Data preprocessing and modeling libraries\n",
    "from sklearn.model_selection import train_test_split, GridSearchCV\n",
    "from sklearn.impute import SimpleImputer\n",
    "from sklearn.preprocessing import StandardScaler, PolynomialFeatures, OneHotEncoder\n",
    "from sklearn.compose import ColumnTransformer\n",
    "from sklearn.pipeline import Pipeline\n",
    "from sklearn.metrics import f1_score, confusion_matrix, classification_report\n",
    "from sklearn.ensemble import RandomForestClassifier\n",
    "from sklearn.linear_model import LogisticRegression\n",
    "from xgboost import XGBClassifier\n",
    "\n",
    "# Data visualization libraries\n",
    "import matplotlib.pyplot as plt\n",
    "import seaborn as sns\n",
    "%matplotlib inline\n",
    "from IPython.display import display\n",
    "\n",
    "import warnings\n",
    "warnings.filterwarnings('ignore')"
   ]
  },
  {
   "cell_type": "markdown",
   "metadata": {},
   "source": [
    "Now, let's load our transactions data."
   ]
  },
  {
   "cell_type": "markdown",
   "metadata": {},
   "source": [
    "# 2 - Loading data"
   ]
  },
  {
   "cell_type": "markdown",
   "metadata": {},
   "source": [
    "## 2.1 - Transactions data"
   ]
  },
  {
   "cell_type": "markdown",
   "metadata": {},
   "source": [
    "This dataset contains a list of unique transactions for an E-commerce site. Each transaction has some information such as :\n",
    "\n",
    "**Features :**\n",
    "* **user_id**: unique ID of the user\n",
    "* **signup_time**: The exact time the user signed up to the website\n",
    "* **purchase_time**: The exact time the transaction happened\n",
    "* **purchase_value**: amount of transaction\n",
    "* **device_id**\n",
    "* **source**\n",
    "* **browse**r: The browser used for the transaction\n",
    "* **sex**: gender of the user\n",
    "* **age**: age of the user\n",
    "* **ip_address**: IP address of the user\n",
    "\n",
    "**Target variable (class)**\n",
    "\n",
    "* **0** if non fraudulent transaction\n",
    "* **1** if the transaction is fraudulent"
   ]
  },
  {
   "cell_type": "code",
   "execution_count": 2,
   "metadata": {},
   "outputs": [
    {
     "data": {
      "text/html": [
       "<div>\n",
       "<style scoped>\n",
       "    .dataframe tbody tr th:only-of-type {\n",
       "        vertical-align: middle;\n",
       "    }\n",
       "\n",
       "    .dataframe tbody tr th {\n",
       "        vertical-align: top;\n",
       "    }\n",
       "\n",
       "    .dataframe thead th {\n",
       "        text-align: right;\n",
       "    }\n",
       "</style>\n",
       "<table border=\"1\" class=\"dataframe\">\n",
       "  <thead>\n",
       "    <tr style=\"text-align: right;\">\n",
       "      <th></th>\n",
       "      <th>user_id</th>\n",
       "      <th>signup_time</th>\n",
       "      <th>purchase_time</th>\n",
       "      <th>purchase_value</th>\n",
       "      <th>device_id</th>\n",
       "      <th>source</th>\n",
       "      <th>browser</th>\n",
       "      <th>sex</th>\n",
       "      <th>age</th>\n",
       "      <th>ip_address</th>\n",
       "      <th>class</th>\n",
       "    </tr>\n",
       "  </thead>\n",
       "  <tbody>\n",
       "    <tr>\n",
       "      <th>0</th>\n",
       "      <td>22058</td>\n",
       "      <td>2015-02-24 22:55:49</td>\n",
       "      <td>2015-04-18 02:47:11</td>\n",
       "      <td>34</td>\n",
       "      <td>QVPSPJUOCKZAR</td>\n",
       "      <td>SEO</td>\n",
       "      <td>Chrome</td>\n",
       "      <td>M</td>\n",
       "      <td>39</td>\n",
       "      <td>7.327584e+08</td>\n",
       "      <td>0</td>\n",
       "    </tr>\n",
       "    <tr>\n",
       "      <th>1</th>\n",
       "      <td>333320</td>\n",
       "      <td>2015-06-07 20:39:50</td>\n",
       "      <td>2015-06-08 01:38:54</td>\n",
       "      <td>16</td>\n",
       "      <td>EOGFQPIZPYXFZ</td>\n",
       "      <td>Ads</td>\n",
       "      <td>Chrome</td>\n",
       "      <td>F</td>\n",
       "      <td>53</td>\n",
       "      <td>3.503114e+08</td>\n",
       "      <td>0</td>\n",
       "    </tr>\n",
       "    <tr>\n",
       "      <th>2</th>\n",
       "      <td>1359</td>\n",
       "      <td>2015-01-01 18:52:44</td>\n",
       "      <td>2015-01-01 18:52:45</td>\n",
       "      <td>15</td>\n",
       "      <td>YSSKYOSJHPPLJ</td>\n",
       "      <td>SEO</td>\n",
       "      <td>Opera</td>\n",
       "      <td>M</td>\n",
       "      <td>53</td>\n",
       "      <td>2.621474e+09</td>\n",
       "      <td>1</td>\n",
       "    </tr>\n",
       "    <tr>\n",
       "      <th>3</th>\n",
       "      <td>150084</td>\n",
       "      <td>2015-04-28 21:13:25</td>\n",
       "      <td>2015-05-04 13:54:50</td>\n",
       "      <td>44</td>\n",
       "      <td>ATGTXKYKUDUQN</td>\n",
       "      <td>SEO</td>\n",
       "      <td>Safari</td>\n",
       "      <td>M</td>\n",
       "      <td>41</td>\n",
       "      <td>3.840542e+09</td>\n",
       "      <td>0</td>\n",
       "    </tr>\n",
       "    <tr>\n",
       "      <th>4</th>\n",
       "      <td>221365</td>\n",
       "      <td>2015-07-21 07:09:52</td>\n",
       "      <td>2015-09-09 18:40:53</td>\n",
       "      <td>39</td>\n",
       "      <td>NAUITBZFJKHWW</td>\n",
       "      <td>Ads</td>\n",
       "      <td>Safari</td>\n",
       "      <td>M</td>\n",
       "      <td>45</td>\n",
       "      <td>4.155831e+08</td>\n",
       "      <td>0</td>\n",
       "    </tr>\n",
       "  </tbody>\n",
       "</table>\n",
       "</div>"
      ],
      "text/plain": [
       "   user_id          signup_time        purchase_time  purchase_value  \\\n",
       "0    22058  2015-02-24 22:55:49  2015-04-18 02:47:11              34   \n",
       "1   333320  2015-06-07 20:39:50  2015-06-08 01:38:54              16   \n",
       "2     1359  2015-01-01 18:52:44  2015-01-01 18:52:45              15   \n",
       "3   150084  2015-04-28 21:13:25  2015-05-04 13:54:50              44   \n",
       "4   221365  2015-07-21 07:09:52  2015-09-09 18:40:53              39   \n",
       "\n",
       "       device_id source browser sex  age    ip_address  class  \n",
       "0  QVPSPJUOCKZAR    SEO  Chrome   M   39  7.327584e+08      0  \n",
       "1  EOGFQPIZPYXFZ    Ads  Chrome   F   53  3.503114e+08      0  \n",
       "2  YSSKYOSJHPPLJ    SEO   Opera   M   53  2.621474e+09      1  \n",
       "3  ATGTXKYKUDUQN    SEO  Safari   M   41  3.840542e+09      0  \n",
       "4  NAUITBZFJKHWW    Ads  Safari   M   45  4.155831e+08      0  "
      ]
     },
     "metadata": {},
     "output_type": "display_data"
    }
   ],
   "source": [
    "# Load transactions data\n",
    "data = pd.read_csv(\"Fraud_Data.csv\")\n",
    "\n",
    "# Data preview\n",
    "display(data.head())"
   ]
  },
  {
   "cell_type": "markdown",
   "metadata": {},
   "source": [
    "## 2.2 - IP address - Country mapping data"
   ]
  },
  {
   "cell_type": "markdown",
   "metadata": {},
   "source": [
    "This dataset allows to derive the country of the user based on his IP address. If an IP address is within a specif interval (defined by a lower bound and an upper bound), it can be mapped to a specific country. "
   ]
  },
  {
   "cell_type": "code",
   "execution_count": 3,
   "metadata": {},
   "outputs": [
    {
     "data": {
      "text/html": [
       "<div>\n",
       "<style scoped>\n",
       "    .dataframe tbody tr th:only-of-type {\n",
       "        vertical-align: middle;\n",
       "    }\n",
       "\n",
       "    .dataframe tbody tr th {\n",
       "        vertical-align: top;\n",
       "    }\n",
       "\n",
       "    .dataframe thead th {\n",
       "        text-align: right;\n",
       "    }\n",
       "</style>\n",
       "<table border=\"1\" class=\"dataframe\">\n",
       "  <thead>\n",
       "    <tr style=\"text-align: right;\">\n",
       "      <th></th>\n",
       "      <th>lower_bound_ip_address</th>\n",
       "      <th>upper_bound_ip_address</th>\n",
       "      <th>country</th>\n",
       "    </tr>\n",
       "  </thead>\n",
       "  <tbody>\n",
       "    <tr>\n",
       "      <th>0</th>\n",
       "      <td>16777216.0</td>\n",
       "      <td>16777471</td>\n",
       "      <td>Australia</td>\n",
       "    </tr>\n",
       "    <tr>\n",
       "      <th>1</th>\n",
       "      <td>16777472.0</td>\n",
       "      <td>16777727</td>\n",
       "      <td>China</td>\n",
       "    </tr>\n",
       "    <tr>\n",
       "      <th>2</th>\n",
       "      <td>16777728.0</td>\n",
       "      <td>16778239</td>\n",
       "      <td>China</td>\n",
       "    </tr>\n",
       "    <tr>\n",
       "      <th>3</th>\n",
       "      <td>16778240.0</td>\n",
       "      <td>16779263</td>\n",
       "      <td>Australia</td>\n",
       "    </tr>\n",
       "    <tr>\n",
       "      <th>4</th>\n",
       "      <td>16779264.0</td>\n",
       "      <td>16781311</td>\n",
       "      <td>China</td>\n",
       "    </tr>\n",
       "  </tbody>\n",
       "</table>\n",
       "</div>"
      ],
      "text/plain": [
       "   lower_bound_ip_address  upper_bound_ip_address    country\n",
       "0              16777216.0                16777471  Australia\n",
       "1              16777472.0                16777727      China\n",
       "2              16777728.0                16778239      China\n",
       "3              16778240.0                16779263  Australia\n",
       "4              16779264.0                16781311      China"
      ]
     },
     "metadata": {},
     "output_type": "display_data"
    }
   ],
   "source": [
    "# Loading mapping data\n",
    "ip_country = pd.read_csv(\"IpAddress_to_Country.csv\")\n",
    "\n",
    "# Data preview\n",
    "display(ip_country.head())"
   ]
  },
  {
   "cell_type": "markdown",
   "metadata": {},
   "source": [
    "# 3 - Exploratory Data Analysis"
   ]
  },
  {
   "cell_type": "markdown",
   "metadata": {},
   "source": [
    "## 3.1 - General description"
   ]
  },
  {
   "cell_type": "markdown",
   "metadata": {},
   "source": [
    "Looking at our dataset's shape, we notice that we have a significant amount of observations (150K) and few explanatory variables (10)."
   ]
  },
  {
   "cell_type": "code",
   "execution_count": 4,
   "metadata": {},
   "outputs": [
    {
     "name": "stdout",
     "output_type": "stream",
     "text": [
      "Number of rows : 151112\n",
      "Number of columns : 11\n"
     ]
    }
   ],
   "source": [
    "# Shape obh the dataset\n",
    "print(\"Number of rows : {}\".format(data.shape[0]))\n",
    "print(\"Number of columns : {}\".format(data.shape[1]))"
   ]
  },
  {
   "cell_type": "markdown",
   "metadata": {},
   "source": [
    "Also, looking at some quick statistics on our data, we notice that:\n",
    "\n",
    "* We do not have any missing values accross the dataset\n",
    "* There are no incoherent values\n",
    "* Our data is largely skewed as we have only 9.36% of fraudulent transactions"
   ]
  },
  {
   "cell_type": "code",
   "execution_count": 5,
   "metadata": {},
   "outputs": [
    {
     "data": {
      "text/html": [
       "<div>\n",
       "<style scoped>\n",
       "    .dataframe tbody tr th:only-of-type {\n",
       "        vertical-align: middle;\n",
       "    }\n",
       "\n",
       "    .dataframe tbody tr th {\n",
       "        vertical-align: top;\n",
       "    }\n",
       "\n",
       "    .dataframe thead th {\n",
       "        text-align: right;\n",
       "    }\n",
       "</style>\n",
       "<table border=\"1\" class=\"dataframe\">\n",
       "  <thead>\n",
       "    <tr style=\"text-align: right;\">\n",
       "      <th></th>\n",
       "      <th>user_id</th>\n",
       "      <th>signup_time</th>\n",
       "      <th>purchase_time</th>\n",
       "      <th>purchase_value</th>\n",
       "      <th>device_id</th>\n",
       "      <th>source</th>\n",
       "      <th>browser</th>\n",
       "      <th>sex</th>\n",
       "      <th>age</th>\n",
       "      <th>ip_address</th>\n",
       "      <th>class</th>\n",
       "    </tr>\n",
       "  </thead>\n",
       "  <tbody>\n",
       "    <tr>\n",
       "      <th>count</th>\n",
       "      <td>151112.000000</td>\n",
       "      <td>151112</td>\n",
       "      <td>151112</td>\n",
       "      <td>151112.000000</td>\n",
       "      <td>151112</td>\n",
       "      <td>151112</td>\n",
       "      <td>151112</td>\n",
       "      <td>151112</td>\n",
       "      <td>151112.000000</td>\n",
       "      <td>1.511120e+05</td>\n",
       "      <td>151112.000000</td>\n",
       "    </tr>\n",
       "    <tr>\n",
       "      <th>unique</th>\n",
       "      <td>NaN</td>\n",
       "      <td>151112</td>\n",
       "      <td>150679</td>\n",
       "      <td>NaN</td>\n",
       "      <td>137956</td>\n",
       "      <td>3</td>\n",
       "      <td>5</td>\n",
       "      <td>2</td>\n",
       "      <td>NaN</td>\n",
       "      <td>NaN</td>\n",
       "      <td>NaN</td>\n",
       "    </tr>\n",
       "    <tr>\n",
       "      <th>top</th>\n",
       "      <td>NaN</td>\n",
       "      <td>2015-01-19 15:17:35</td>\n",
       "      <td>2015-06-08 09:42:04</td>\n",
       "      <td>NaN</td>\n",
       "      <td>ITUMJCKWEYNDD</td>\n",
       "      <td>SEO</td>\n",
       "      <td>Chrome</td>\n",
       "      <td>M</td>\n",
       "      <td>NaN</td>\n",
       "      <td>NaN</td>\n",
       "      <td>NaN</td>\n",
       "    </tr>\n",
       "    <tr>\n",
       "      <th>freq</th>\n",
       "      <td>NaN</td>\n",
       "      <td>1</td>\n",
       "      <td>3</td>\n",
       "      <td>NaN</td>\n",
       "      <td>20</td>\n",
       "      <td>60615</td>\n",
       "      <td>61432</td>\n",
       "      <td>88293</td>\n",
       "      <td>NaN</td>\n",
       "      <td>NaN</td>\n",
       "      <td>NaN</td>\n",
       "    </tr>\n",
       "    <tr>\n",
       "      <th>mean</th>\n",
       "      <td>200171.040970</td>\n",
       "      <td>NaN</td>\n",
       "      <td>NaN</td>\n",
       "      <td>36.935372</td>\n",
       "      <td>NaN</td>\n",
       "      <td>NaN</td>\n",
       "      <td>NaN</td>\n",
       "      <td>NaN</td>\n",
       "      <td>33.140704</td>\n",
       "      <td>2.152145e+09</td>\n",
       "      <td>0.093646</td>\n",
       "    </tr>\n",
       "    <tr>\n",
       "      <th>std</th>\n",
       "      <td>115369.285024</td>\n",
       "      <td>NaN</td>\n",
       "      <td>NaN</td>\n",
       "      <td>18.322762</td>\n",
       "      <td>NaN</td>\n",
       "      <td>NaN</td>\n",
       "      <td>NaN</td>\n",
       "      <td>NaN</td>\n",
       "      <td>8.617733</td>\n",
       "      <td>1.248497e+09</td>\n",
       "      <td>0.291336</td>\n",
       "    </tr>\n",
       "    <tr>\n",
       "      <th>min</th>\n",
       "      <td>2.000000</td>\n",
       "      <td>NaN</td>\n",
       "      <td>NaN</td>\n",
       "      <td>9.000000</td>\n",
       "      <td>NaN</td>\n",
       "      <td>NaN</td>\n",
       "      <td>NaN</td>\n",
       "      <td>NaN</td>\n",
       "      <td>18.000000</td>\n",
       "      <td>5.209350e+04</td>\n",
       "      <td>0.000000</td>\n",
       "    </tr>\n",
       "    <tr>\n",
       "      <th>25%</th>\n",
       "      <td>100642.500000</td>\n",
       "      <td>NaN</td>\n",
       "      <td>NaN</td>\n",
       "      <td>22.000000</td>\n",
       "      <td>NaN</td>\n",
       "      <td>NaN</td>\n",
       "      <td>NaN</td>\n",
       "      <td>NaN</td>\n",
       "      <td>27.000000</td>\n",
       "      <td>1.085934e+09</td>\n",
       "      <td>0.000000</td>\n",
       "    </tr>\n",
       "    <tr>\n",
       "      <th>50%</th>\n",
       "      <td>199958.000000</td>\n",
       "      <td>NaN</td>\n",
       "      <td>NaN</td>\n",
       "      <td>35.000000</td>\n",
       "      <td>NaN</td>\n",
       "      <td>NaN</td>\n",
       "      <td>NaN</td>\n",
       "      <td>NaN</td>\n",
       "      <td>33.000000</td>\n",
       "      <td>2.154770e+09</td>\n",
       "      <td>0.000000</td>\n",
       "    </tr>\n",
       "    <tr>\n",
       "      <th>75%</th>\n",
       "      <td>300054.000000</td>\n",
       "      <td>NaN</td>\n",
       "      <td>NaN</td>\n",
       "      <td>49.000000</td>\n",
       "      <td>NaN</td>\n",
       "      <td>NaN</td>\n",
       "      <td>NaN</td>\n",
       "      <td>NaN</td>\n",
       "      <td>39.000000</td>\n",
       "      <td>3.243258e+09</td>\n",
       "      <td>0.000000</td>\n",
       "    </tr>\n",
       "    <tr>\n",
       "      <th>max</th>\n",
       "      <td>400000.000000</td>\n",
       "      <td>NaN</td>\n",
       "      <td>NaN</td>\n",
       "      <td>154.000000</td>\n",
       "      <td>NaN</td>\n",
       "      <td>NaN</td>\n",
       "      <td>NaN</td>\n",
       "      <td>NaN</td>\n",
       "      <td>76.000000</td>\n",
       "      <td>4.294850e+09</td>\n",
       "      <td>1.000000</td>\n",
       "    </tr>\n",
       "  </tbody>\n",
       "</table>\n",
       "</div>"
      ],
      "text/plain": [
       "              user_id          signup_time        purchase_time  \\\n",
       "count   151112.000000               151112               151112   \n",
       "unique            NaN               151112               150679   \n",
       "top               NaN  2015-01-19 15:17:35  2015-06-08 09:42:04   \n",
       "freq              NaN                    1                    3   \n",
       "mean    200171.040970                  NaN                  NaN   \n",
       "std     115369.285024                  NaN                  NaN   \n",
       "min          2.000000                  NaN                  NaN   \n",
       "25%     100642.500000                  NaN                  NaN   \n",
       "50%     199958.000000                  NaN                  NaN   \n",
       "75%     300054.000000                  NaN                  NaN   \n",
       "max     400000.000000                  NaN                  NaN   \n",
       "\n",
       "        purchase_value      device_id  source browser     sex            age  \\\n",
       "count    151112.000000         151112  151112  151112  151112  151112.000000   \n",
       "unique             NaN         137956       3       5       2            NaN   \n",
       "top                NaN  ITUMJCKWEYNDD     SEO  Chrome       M            NaN   \n",
       "freq               NaN             20   60615   61432   88293            NaN   \n",
       "mean         36.935372            NaN     NaN     NaN     NaN      33.140704   \n",
       "std          18.322762            NaN     NaN     NaN     NaN       8.617733   \n",
       "min           9.000000            NaN     NaN     NaN     NaN      18.000000   \n",
       "25%          22.000000            NaN     NaN     NaN     NaN      27.000000   \n",
       "50%          35.000000            NaN     NaN     NaN     NaN      33.000000   \n",
       "75%          49.000000            NaN     NaN     NaN     NaN      39.000000   \n",
       "max         154.000000            NaN     NaN     NaN     NaN      76.000000   \n",
       "\n",
       "          ip_address          class  \n",
       "count   1.511120e+05  151112.000000  \n",
       "unique           NaN            NaN  \n",
       "top              NaN            NaN  \n",
       "freq             NaN            NaN  \n",
       "mean    2.152145e+09       0.093646  \n",
       "std     1.248497e+09       0.291336  \n",
       "min     5.209350e+04       0.000000  \n",
       "25%     1.085934e+09       0.000000  \n",
       "50%     2.154770e+09       0.000000  \n",
       "75%     3.243258e+09       0.000000  \n",
       "max     4.294850e+09       1.000000  "
      ]
     },
     "execution_count": 5,
     "metadata": {},
     "output_type": "execute_result"
    }
   ],
   "source": [
    "data.describe(include=\"all\")"
   ]
  },
  {
   "cell_type": "markdown",
   "metadata": {},
   "source": [
    "## 3.2 - Time columns"
   ]
  },
  {
   "cell_type": "markdown",
   "metadata": {},
   "source": [
    "Before contiuing our EDA, we must handle time features (purchase time & signup time) to extract some useful information."
   ]
  },
  {
   "cell_type": "markdown",
   "metadata": {},
   "source": [
    "### 3.2.1 - Conversion to datetime"
   ]
  },
  {
   "cell_type": "code",
   "execution_count": 6,
   "metadata": {},
   "outputs": [
    {
     "name": "stdout",
     "output_type": "stream",
     "text": [
      "<class 'pandas.core.frame.DataFrame'>\n",
      "RangeIndex: 151112 entries, 0 to 151111\n",
      "Data columns (total 11 columns):\n",
      " #   Column          Non-Null Count   Dtype  \n",
      "---  ------          --------------   -----  \n",
      " 0   user_id         151112 non-null  int64  \n",
      " 1   signup_time     151112 non-null  object \n",
      " 2   purchase_time   151112 non-null  object \n",
      " 3   purchase_value  151112 non-null  int64  \n",
      " 4   device_id       151112 non-null  object \n",
      " 5   source          151112 non-null  object \n",
      " 6   browser         151112 non-null  object \n",
      " 7   sex             151112 non-null  object \n",
      " 8   age             151112 non-null  int64  \n",
      " 9   ip_address      151112 non-null  float64\n",
      " 10  class           151112 non-null  int64  \n",
      "dtypes: float64(1), int64(4), object(6)\n",
      "memory usage: 12.7+ MB\n"
     ]
    }
   ],
   "source": [
    "# General data information\n",
    "data.info()"
   ]
  },
  {
   "cell_type": "markdown",
   "metadata": {},
   "source": [
    "\"signup_time\" and \"purchase_time\" are formatted as object type. They have to be converted to datetime in order to be exploited and integrated in an evental model. The pandas method *to_datetime()* can be used to achieve that."
   ]
  },
  {
   "cell_type": "code",
   "execution_count": 7,
   "metadata": {},
   "outputs": [
    {
     "data": {
      "text/plain": [
       "signup_time      datetime64[ns]\n",
       "purchase_time    datetime64[ns]\n",
       "dtype: object"
      ]
     },
     "execution_count": 7,
     "metadata": {},
     "output_type": "execute_result"
    }
   ],
   "source": [
    "# Converting time columns from object to datetime format\n",
    "data['signup_time'] = pd.to_datetime(data['signup_time'])\n",
    "data['purchase_time'] = pd.to_datetime(data['purchase_time'])\n",
    "\n",
    "# Checking if the conversion was successful\n",
    "data[['signup_time', 'purchase_time']].dtypes"
   ]
  },
  {
   "cell_type": "markdown",
   "metadata": {},
   "source": [
    "### 3.2.2 - Time features extraction and exploration"
   ]
  },
  {
   "cell_type": "markdown",
   "metadata": {},
   "source": [
    "Now that we have successfully converted our data, we can derive some additional information such as the month and date. Our data is only for 2015 transactions so we won't be using the year information."
   ]
  },
  {
   "cell_type": "code",
   "execution_count": 8,
   "metadata": {},
   "outputs": [],
   "source": [
    "# Deriving purchase month and day\n",
    "data['purchase_month'] = data['purchase_time'].dt.month\n",
    "data['purchase_day'] = data['purchase_time'].dt.day\n",
    "\n",
    "# Deriving sign-up month and day\n",
    "data['signup_month'] = data['signup_time'].dt.month\n",
    "data['signup_day'] = data['signup_time'].dt.day"
   ]
  },
  {
   "cell_type": "markdown",
   "metadata": {},
   "source": [
    "\n",
    "\n",
    "\n",
    "Since we are facing a classification problem, we can visualize the potential relationship between our new features and the fraud status. From the plots below, we can see a clearly that **most fraudulent transactions occure in January**, and usually **within the first half of the month**."
   ]
  },
  {
   "cell_type": "code",
   "execution_count": 9,
   "metadata": {},
   "outputs": [
    {
     "data": {
      "image/png": "[encoded data removed]",
      "text/plain": [
       "<Figure size 1440x1080 with 4 Axes>"
      ]
     },
     "metadata": {
      "needs_background": "light"
     },
     "output_type": "display_data"
    }
   ],
   "source": [
    "# Plotting time features VS fraud status\n",
    "fig, ax = plt.subplots(2,2, figsize=(20,15))\n",
    "\n",
    "# Purchase Month VS Fraud Status\n",
    "plt.subplot(2, 2, 1)\n",
    "ax[0,0] = sns.countplot(x='purchase_month', hue='class', data=data)\n",
    "ax[0,0].set_title('Purchase Month VS Fraud Status')\n",
    "ax[0,0].set_xlabel('Purchase Month')\n",
    "ax[0,0].legend(title='Fraud Status')\n",
    "\n",
    "# Purchase Day VS Fraud Status\n",
    "plt.subplot(2, 2, 2)\n",
    "ax[0,1] = sns.pointplot(x='purchase_day', y='class', data=data)\n",
    "ax[0,1].set_title('Purchase Day VS Fraud Status')\n",
    "ax[0,1].set_xlabel('Purchase Day')\n",
    "ax[0,1].set_ylabel('Fraud Status')\n",
    "\n",
    "# Sign-up Month VS Fraud Status\n",
    "plt.subplot(2, 2, 3)\n",
    "ax[1,0] = sns.countplot(x='signup_month', hue='class', data=data)\n",
    "ax[1,0].set_title('Sign-up Month VS Fraud Status')\n",
    "ax[1,0].set_xlabel('Sing-up Month')\n",
    "ax[1,0].legend(title='Fraud Status')\n",
    "\n",
    "# Sign-up Day VS Fraud status\n",
    "plt.subplot(2, 2, 4)\n",
    "ax[1,1] = sns.pointplot(x='signup_day', y='class', data=data)\n",
    "ax[1,1].set_title('Sign-up Day VS Fraud Status')\n",
    "ax[1,1].set_xlabel('Sign-up Day')\n",
    "ax[1,1].set_ylabel('Fraud Status')\n",
    "\n",
    "# Display figure\n",
    "plt.show()"
   ]
  },
  {
   "cell_type": "markdown",
   "metadata": {},
   "source": [
    "Intuitively, one could say that **fraudulent transactions happen with new users rather than old ones**. We could easily check that by computing the time **difference between sign-up an purchase time**."
   ]
  },
  {
   "cell_type": "code",
   "execution_count": 10,
   "metadata": {},
   "outputs": [],
   "source": [
    "# Computing time delta\n",
    "data['time_delta'] = (data['purchase_time'] - data['signup_time']).astype('timedelta64[s]')"
   ]
  },
  {
   "cell_type": "markdown",
   "metadata": {},
   "source": [
    "The below plot confirms our intuition: most of fraudulent transactions come from new users"
   ]
  },
  {
   "cell_type": "code",
   "execution_count": 11,
   "metadata": {},
   "outputs": [
    {
     "data": {
      "image/png": "[encoded data removed]",
      "text/plain": [
       "<Figure size 720x432 with 1 Axes>"
      ]
     },
     "metadata": {
      "needs_background": "light"
     },
     "output_type": "display_data"
    }
   ],
   "source": [
    "# plotting time-delta data\n",
    "plt.figure(figsize=(10,6))\n",
    "\n",
    "for c in set(data['class']):\n",
    "    sns.distplot(data.loc[data['class']==c, 'time_delta'], label=c)\n",
    "    \n",
    "plt.legend(title=\"Fraud status\")\n",
    "plt.title(\"Time-delta for fraudulent and non-fraudulent activities\")\n",
    "\n",
    "# Display figure\n",
    "plt.show()"
   ]
  },
  {
   "cell_type": "markdown",
   "metadata": {},
   "source": [
    "## 3.3 - Purchase value"
   ]
  },
  {
   "cell_type": "markdown",
   "metadata": {},
   "source": [
    "Let's look at the distribution of purchase values for each fraud status."
   ]
  },
  {
   "cell_type": "code",
   "execution_count": 12,
   "metadata": {},
   "outputs": [
    {
     "data": {
      "image/png": "[encoded data removed]",
      "text/plain": [
       "<Figure size 720x432 with 1 Axes>"
      ]
     },
     "metadata": {
      "needs_background": "light"
     },
     "output_type": "display_data"
    }
   ],
   "source": [
    "# Purchase value VS fraud status\n",
    "plt.figure(figsize=(10,6))\n",
    "sns.boxplot(x='class' , y='purchase_value', data=data)\n",
    "\n",
    "plt.xlabel('Fraud Status')\n",
    "plt.ylabel('Purchase Value')\n",
    "plt.title('Purchase Value VS Fraud Status')\n",
    "\n",
    "plt.show()"
   ]
  },
  {
   "cell_type": "markdown",
   "metadata": {},
   "source": [
    "Looking at the distribution of purchase value data, **we cannot conclude on a relationship** with our target data since **both fraudulent and non-fraudulent transactions fall into the same range**. However let's keep this feature for our model."
   ]
  },
  {
   "cell_type": "markdown",
   "metadata": {},
   "source": [
    "## 3.4 - Device ID"
   ]
  },
  {
   "cell_type": "code",
   "execution_count": 13,
   "metadata": {},
   "outputs": [
    {
     "data": {
      "text/plain": [
       "137956"
      ]
     },
     "execution_count": 13,
     "metadata": {},
     "output_type": "execute_result"
    }
   ],
   "source": [
    "# Count of unique device Ids\n",
    "data['device_id'].nunique()"
   ]
  },
  {
   "cell_type": "markdown",
   "metadata": {},
   "source": [
    "The device ID has too much modalities accross the dataset and can't be used as it is, we will not considered it for the classification."
   ]
  },
  {
   "cell_type": "markdown",
   "metadata": {},
   "source": [
    "## 3.5 - Source"
   ]
  },
  {
   "cell_type": "code",
   "execution_count": 14,
   "metadata": {},
   "outputs": [
    {
     "data": {
      "text/plain": [
       "SEO       60615\n",
       "Ads       59881\n",
       "Direct    30616\n",
       "Name: source, dtype: int64"
      ]
     },
     "execution_count": 14,
     "metadata": {},
     "output_type": "execute_result"
    }
   ],
   "source": [
    "# Value counts for Source feature\n",
    "data['source'].value_counts()"
   ]
  },
  {
   "cell_type": "code",
   "execution_count": 15,
   "metadata": {},
   "outputs": [
    {
     "data": {
      "image/png": "[encoded data removed]",
      "text/plain": [
       "<Figure size 720x432 with 1 Axes>"
      ]
     },
     "metadata": {
      "needs_background": "light"
     },
     "output_type": "display_data"
    }
   ],
   "source": [
    "# Source VS Fraud Status\n",
    "plt.figure(figsize=(10,6))\n",
    "sns.countplot(x='source', hue='class', data=data)\n",
    "plt.title('Source VS Fraud Status')\n",
    "plt.xlabel('Source')\n",
    "plt.legend(title='Fraud Status')\n",
    "plt.show()"
   ]
  },
  {
   "cell_type": "markdown",
   "metadata": {},
   "source": [
    "**We cannot conclude on a clear relationship between the Fraud Status and the Source feature**."
   ]
  },
  {
   "cell_type": "markdown",
   "metadata": {},
   "source": [
    "## 3.6 - Browser"
   ]
  },
  {
   "cell_type": "code",
   "execution_count": 16,
   "metadata": {},
   "outputs": [
    {
     "data": {
      "text/plain": [
       "Chrome     61432\n",
       "IE         36727\n",
       "Safari     24667\n",
       "FireFox    24610\n",
       "Opera       3676\n",
       "Name: browser, dtype: int64"
      ]
     },
     "execution_count": 16,
     "metadata": {},
     "output_type": "execute_result"
    }
   ],
   "source": [
    "# Value counts for Browser feature\n",
    "data['browser'].value_counts()"
   ]
  },
  {
   "cell_type": "code",
   "execution_count": 17,
   "metadata": {},
   "outputs": [
    {
     "data": {
      "image/png": "[encoded data removed]",
      "text/plain": [
       "<Figure size 720x432 with 1 Axes>"
      ]
     },
     "metadata": {
      "needs_background": "light"
     },
     "output_type": "display_data"
    }
   ],
   "source": [
    "# Browser VS Fraud Status\n",
    "plt.figure(figsize=(10,6))\n",
    "sns.countplot(x=\"browser\", hue=\"class\", data=data)\n",
    "plt.title('Browser VS Fraud Status')\n",
    "plt.xlabel('Browser')\n",
    "plt.legend(title='Fraud Status')\n",
    "plt.show()"
   ]
  },
  {
   "cell_type": "markdown",
   "metadata": {},
   "source": [
    "Most of fraudulent transactions were performed using Google Chrome followed by Internet Explorer."
   ]
  },
  {
   "cell_type": "markdown",
   "metadata": {},
   "source": [
    "## 3.7 - Age"
   ]
  },
  {
   "cell_type": "code",
   "execution_count": 18,
   "metadata": {},
   "outputs": [
    {
     "data": {
      "image/png": "[encoded data removed]",
      "text/plain": [
       "<Figure size 720x432 with 1 Axes>"
      ]
     },
     "metadata": {
      "needs_background": "light"
     },
     "output_type": "display_data"
    }
   ],
   "source": [
    "# Age VS Fraud Status\n",
    "plt.figure(figsize=(10,6))\n",
    "\n",
    "for c in set(data['class']):\n",
    "    sns.distplot(data.loc[data['class']==c, 'age'], label=c)\n",
    "    \n",
    "plt.title('Age of user VS Fraud Status')\n",
    "plt.xlabel('Age of user')\n",
    "plt.legend(title='Fraud status')\n",
    "plt.show()"
   ]
  },
  {
   "cell_type": "markdown",
   "metadata": {},
   "source": [
    "The distributions of age variables for both fraudulent and non-fraudulent activities are the almost the same. Once again, one cannot conclude on the fraud status of a transaction based on the age of the user."
   ]
  },
  {
   "cell_type": "markdown",
   "metadata": {},
   "source": [
    "## 3.8 - IP address"
   ]
  },
  {
   "cell_type": "markdown",
   "metadata": {},
   "source": [
    "The IP address as it is in our dataset can't be integrated into a ML model. However, as previously mentionned, we can derive the country from an IP address using the \"ip_country\" dataset."
   ]
  },
  {
   "cell_type": "code",
   "execution_count": 19,
   "metadata": {},
   "outputs": [],
   "source": [
    "# Function that returns the country from an IP address\n",
    "def transform_ip(arg):\n",
    "    try:\n",
    "        return ip_country.country[(ip_country.lower_bound_ip_address < arg) & (ip_country.upper_bound_ip_address > arg)].iloc[0]\n",
    "    except IndexError:\n",
    "        return \"Unknown country\"  \n",
    "\n",
    "# Applying our function to the ip_address column\n",
    "data[\"country\"] = data[\"ip_address\"].apply(transform_ip)"
   ]
  },
  {
   "cell_type": "code",
   "execution_count": 20,
   "metadata": {},
   "outputs": [
    {
     "data": {
      "text/html": [
       "<div>\n",
       "<style scoped>\n",
       "    .dataframe tbody tr th:only-of-type {\n",
       "        vertical-align: middle;\n",
       "    }\n",
       "\n",
       "    .dataframe tbody tr th {\n",
       "        vertical-align: top;\n",
       "    }\n",
       "\n",
       "    .dataframe thead th {\n",
       "        text-align: right;\n",
       "    }\n",
       "</style>\n",
       "<table border=\"1\" class=\"dataframe\">\n",
       "  <thead>\n",
       "    <tr style=\"text-align: right;\">\n",
       "      <th></th>\n",
       "      <th>user_id</th>\n",
       "      <th>signup_time</th>\n",
       "      <th>purchase_time</th>\n",
       "      <th>purchase_value</th>\n",
       "      <th>device_id</th>\n",
       "      <th>source</th>\n",
       "      <th>browser</th>\n",
       "      <th>sex</th>\n",
       "      <th>age</th>\n",
       "      <th>ip_address</th>\n",
       "      <th>class</th>\n",
       "      <th>purchase_month</th>\n",
       "      <th>purchase_day</th>\n",
       "      <th>signup_month</th>\n",
       "      <th>signup_day</th>\n",
       "      <th>time_delta</th>\n",
       "      <th>country</th>\n",
       "    </tr>\n",
       "  </thead>\n",
       "  <tbody>\n",
       "    <tr>\n",
       "      <th>0</th>\n",
       "      <td>22058</td>\n",
       "      <td>2015-02-24 22:55:49</td>\n",
       "      <td>2015-04-18 02:47:11</td>\n",
       "      <td>34</td>\n",
       "      <td>QVPSPJUOCKZAR</td>\n",
       "      <td>SEO</td>\n",
       "      <td>Chrome</td>\n",
       "      <td>M</td>\n",
       "      <td>39</td>\n",
       "      <td>7.327584e+08</td>\n",
       "      <td>0</td>\n",
       "      <td>4</td>\n",
       "      <td>18</td>\n",
       "      <td>2</td>\n",
       "      <td>24</td>\n",
       "      <td>4506682.0</td>\n",
       "      <td>Japan</td>\n",
       "    </tr>\n",
       "    <tr>\n",
       "      <th>1</th>\n",
       "      <td>333320</td>\n",
       "      <td>2015-06-07 20:39:50</td>\n",
       "      <td>2015-06-08 01:38:54</td>\n",
       "      <td>16</td>\n",
       "      <td>EOGFQPIZPYXFZ</td>\n",
       "      <td>Ads</td>\n",
       "      <td>Chrome</td>\n",
       "      <td>F</td>\n",
       "      <td>53</td>\n",
       "      <td>3.503114e+08</td>\n",
       "      <td>0</td>\n",
       "      <td>6</td>\n",
       "      <td>8</td>\n",
       "      <td>6</td>\n",
       "      <td>7</td>\n",
       "      <td>17944.0</td>\n",
       "      <td>United States</td>\n",
       "    </tr>\n",
       "    <tr>\n",
       "      <th>2</th>\n",
       "      <td>1359</td>\n",
       "      <td>2015-01-01 18:52:44</td>\n",
       "      <td>2015-01-01 18:52:45</td>\n",
       "      <td>15</td>\n",
       "      <td>YSSKYOSJHPPLJ</td>\n",
       "      <td>SEO</td>\n",
       "      <td>Opera</td>\n",
       "      <td>M</td>\n",
       "      <td>53</td>\n",
       "      <td>2.621474e+09</td>\n",
       "      <td>1</td>\n",
       "      <td>1</td>\n",
       "      <td>1</td>\n",
       "      <td>1</td>\n",
       "      <td>1</td>\n",
       "      <td>1.0</td>\n",
       "      <td>United States</td>\n",
       "    </tr>\n",
       "    <tr>\n",
       "      <th>3</th>\n",
       "      <td>150084</td>\n",
       "      <td>2015-04-28 21:13:25</td>\n",
       "      <td>2015-05-04 13:54:50</td>\n",
       "      <td>44</td>\n",
       "      <td>ATGTXKYKUDUQN</td>\n",
       "      <td>SEO</td>\n",
       "      <td>Safari</td>\n",
       "      <td>M</td>\n",
       "      <td>41</td>\n",
       "      <td>3.840542e+09</td>\n",
       "      <td>0</td>\n",
       "      <td>5</td>\n",
       "      <td>4</td>\n",
       "      <td>4</td>\n",
       "      <td>28</td>\n",
       "      <td>492085.0</td>\n",
       "      <td>Unknown country</td>\n",
       "    </tr>\n",
       "    <tr>\n",
       "      <th>4</th>\n",
       "      <td>221365</td>\n",
       "      <td>2015-07-21 07:09:52</td>\n",
       "      <td>2015-09-09 18:40:53</td>\n",
       "      <td>39</td>\n",
       "      <td>NAUITBZFJKHWW</td>\n",
       "      <td>Ads</td>\n",
       "      <td>Safari</td>\n",
       "      <td>M</td>\n",
       "      <td>45</td>\n",
       "      <td>4.155831e+08</td>\n",
       "      <td>0</td>\n",
       "      <td>9</td>\n",
       "      <td>9</td>\n",
       "      <td>7</td>\n",
       "      <td>21</td>\n",
       "      <td>4361461.0</td>\n",
       "      <td>United States</td>\n",
       "    </tr>\n",
       "  </tbody>\n",
       "</table>\n",
       "</div>"
      ],
      "text/plain": [
       "   user_id         signup_time       purchase_time  purchase_value  \\\n",
       "0    22058 2015-02-24 22:55:49 2015-04-18 02:47:11              34   \n",
       "1   333320 2015-06-07 20:39:50 2015-06-08 01:38:54              16   \n",
       "2     1359 2015-01-01 18:52:44 2015-01-01 18:52:45              15   \n",
       "3   150084 2015-04-28 21:13:25 2015-05-04 13:54:50              44   \n",
       "4   221365 2015-07-21 07:09:52 2015-09-09 18:40:53              39   \n",
       "\n",
       "       device_id source browser sex  age    ip_address  class  purchase_month  \\\n",
       "0  QVPSPJUOCKZAR    SEO  Chrome   M   39  7.327584e+08      0               4   \n",
       "1  EOGFQPIZPYXFZ    Ads  Chrome   F   53  3.503114e+08      0               6   \n",
       "2  YSSKYOSJHPPLJ    SEO   Opera   M   53  2.621474e+09      1               1   \n",
       "3  ATGTXKYKUDUQN    SEO  Safari   M   41  3.840542e+09      0               5   \n",
       "4  NAUITBZFJKHWW    Ads  Safari   M   45  4.155831e+08      0               9   \n",
       "\n",
       "   purchase_day  signup_month  signup_day  time_delta          country  \n",
       "0            18             2          24   4506682.0            Japan  \n",
       "1             8             6           7     17944.0    United States  \n",
       "2             1             1           1         1.0    United States  \n",
       "3             4             4          28    492085.0  Unknown country  \n",
       "4             9             7          21   4361461.0    United States  "
      ]
     },
     "execution_count": 20,
     "metadata": {},
     "output_type": "execute_result"
    }
   ],
   "source": [
    "# Data preview\n",
    "data.head()"
   ]
  },
  {
   "cell_type": "code",
   "execution_count": 31,
   "metadata": {},
   "outputs": [
    {
     "data": {
      "text/plain": [
       "182"
      ]
     },
     "execution_count": 31,
     "metadata": {},
     "output_type": "execute_result"
    }
   ],
   "source": [
    "# Numbe of unique countries\n",
    "data['country'].nunique()"
   ]
  },
  {
   "cell_type": "markdown",
   "metadata": {},
   "source": [
    "# 4 - Filtering out unnecessary data"
   ]
  },
  {
   "cell_type": "markdown",
   "metadata": {},
   "source": [
    "## 4.1 - Dropping features"
   ]
  },
  {
   "cell_type": "markdown",
   "metadata": {},
   "source": [
    "After our EDA, we conclude that we can drop the following columns:\n",
    "\n",
    "* user_id: unique id, does not contain useful information\n",
    "* signup_time, signup_month, signup_day: redundant with purchase_day, purchase_month and time_delta\n",
    "* device_id: Does not contain useful information\n",
    "* ip_address: Not useful, we derived the country from it"
   ]
  },
  {
   "cell_type": "code",
   "execution_count": 22,
   "metadata": {},
   "outputs": [
    {
     "data": {
      "text/html": [
       "<div>\n",
       "<style scoped>\n",
       "    .dataframe tbody tr th:only-of-type {\n",
       "        vertical-align: middle;\n",
       "    }\n",
       "\n",
       "    .dataframe tbody tr th {\n",
       "        vertical-align: top;\n",
       "    }\n",
       "\n",
       "    .dataframe thead th {\n",
       "        text-align: right;\n",
       "    }\n",
       "</style>\n",
       "<table border=\"1\" class=\"dataframe\">\n",
       "  <thead>\n",
       "    <tr style=\"text-align: right;\">\n",
       "      <th></th>\n",
       "      <th>purchase_value</th>\n",
       "      <th>source</th>\n",
       "      <th>browser</th>\n",
       "      <th>sex</th>\n",
       "      <th>age</th>\n",
       "      <th>class</th>\n",
       "      <th>purchase_month</th>\n",
       "      <th>purchase_day</th>\n",
       "      <th>time_delta</th>\n",
       "      <th>country</th>\n",
       "    </tr>\n",
       "  </thead>\n",
       "  <tbody>\n",
       "    <tr>\n",
       "      <th>0</th>\n",
       "      <td>34</td>\n",
       "      <td>SEO</td>\n",
       "      <td>Chrome</td>\n",
       "      <td>M</td>\n",
       "      <td>39</td>\n",
       "      <td>0</td>\n",
       "      <td>4</td>\n",
       "      <td>18</td>\n",
       "      <td>4506682.0</td>\n",
       "      <td>Japan</td>\n",
       "    </tr>\n",
       "    <tr>\n",
       "      <th>1</th>\n",
       "      <td>16</td>\n",
       "      <td>Ads</td>\n",
       "      <td>Chrome</td>\n",
       "      <td>F</td>\n",
       "      <td>53</td>\n",
       "      <td>0</td>\n",
       "      <td>6</td>\n",
       "      <td>8</td>\n",
       "      <td>17944.0</td>\n",
       "      <td>United States</td>\n",
       "    </tr>\n",
       "    <tr>\n",
       "      <th>2</th>\n",
       "      <td>15</td>\n",
       "      <td>SEO</td>\n",
       "      <td>Opera</td>\n",
       "      <td>M</td>\n",
       "      <td>53</td>\n",
       "      <td>1</td>\n",
       "      <td>1</td>\n",
       "      <td>1</td>\n",
       "      <td>1.0</td>\n",
       "      <td>United States</td>\n",
       "    </tr>\n",
       "    <tr>\n",
       "      <th>3</th>\n",
       "      <td>44</td>\n",
       "      <td>SEO</td>\n",
       "      <td>Safari</td>\n",
       "      <td>M</td>\n",
       "      <td>41</td>\n",
       "      <td>0</td>\n",
       "      <td>5</td>\n",
       "      <td>4</td>\n",
       "      <td>492085.0</td>\n",
       "      <td>Unknown country</td>\n",
       "    </tr>\n",
       "    <tr>\n",
       "      <th>4</th>\n",
       "      <td>39</td>\n",
       "      <td>Ads</td>\n",
       "      <td>Safari</td>\n",
       "      <td>M</td>\n",
       "      <td>45</td>\n",
       "      <td>0</td>\n",
       "      <td>9</td>\n",
       "      <td>9</td>\n",
       "      <td>4361461.0</td>\n",
       "      <td>United States</td>\n",
       "    </tr>\n",
       "  </tbody>\n",
       "</table>\n",
       "</div>"
      ],
      "text/plain": [
       "   purchase_value source browser sex  age  class  purchase_month  \\\n",
       "0              34    SEO  Chrome   M   39      0               4   \n",
       "1              16    Ads  Chrome   F   53      0               6   \n",
       "2              15    SEO   Opera   M   53      1               1   \n",
       "3              44    SEO  Safari   M   41      0               5   \n",
       "4              39    Ads  Safari   M   45      0               9   \n",
       "\n",
       "   purchase_day  time_delta          country  \n",
       "0            18   4506682.0            Japan  \n",
       "1             8     17944.0    United States  \n",
       "2             1         1.0    United States  \n",
       "3             4    492085.0  Unknown country  \n",
       "4             9   4361461.0    United States  "
      ]
     },
     "execution_count": 22,
     "metadata": {},
     "output_type": "execute_result"
    }
   ],
   "source": [
    "# Dropping columns\n",
    "to_drop = ['user_id', 'signup_time', 'signup_month', 'signup_day', 'purchase_time', 'device_id', 'ip_address']\n",
    "data_processed = data.drop(columns=to_drop, axis=1)\n",
    "data_processed.head()"
   ]
  },
  {
   "cell_type": "markdown",
   "metadata": {},
   "source": [
    "## 4.2 - Additional cleaning"
   ]
  },
  {
   "cell_type": "markdown",
   "metadata": {},
   "source": [
    "Some countries are very rare. In the following, we will not consider the countries that are represented more that 50 times."
   ]
  },
  {
   "cell_type": "code",
   "execution_count": 23,
   "metadata": {},
   "outputs": [
    {
     "data": {
      "text/html": [
       "<div>\n",
       "<style scoped>\n",
       "    .dataframe tbody tr th:only-of-type {\n",
       "        vertical-align: middle;\n",
       "    }\n",
       "\n",
       "    .dataframe tbody tr th {\n",
       "        vertical-align: top;\n",
       "    }\n",
       "\n",
       "    .dataframe thead th {\n",
       "        text-align: right;\n",
       "    }\n",
       "</style>\n",
       "<table border=\"1\" class=\"dataframe\">\n",
       "  <thead>\n",
       "    <tr style=\"text-align: right;\">\n",
       "      <th></th>\n",
       "      <th>purchase_value</th>\n",
       "      <th>source</th>\n",
       "      <th>browser</th>\n",
       "      <th>sex</th>\n",
       "      <th>age</th>\n",
       "      <th>class</th>\n",
       "      <th>purchase_month</th>\n",
       "      <th>purchase_day</th>\n",
       "      <th>time_delta</th>\n",
       "      <th>country</th>\n",
       "    </tr>\n",
       "  </thead>\n",
       "  <tbody>\n",
       "    <tr>\n",
       "      <th>0</th>\n",
       "      <td>34</td>\n",
       "      <td>SEO</td>\n",
       "      <td>Chrome</td>\n",
       "      <td>M</td>\n",
       "      <td>39</td>\n",
       "      <td>0</td>\n",
       "      <td>4</td>\n",
       "      <td>18</td>\n",
       "      <td>4506682.0</td>\n",
       "      <td>Japan</td>\n",
       "    </tr>\n",
       "    <tr>\n",
       "      <th>1</th>\n",
       "      <td>16</td>\n",
       "      <td>Ads</td>\n",
       "      <td>Chrome</td>\n",
       "      <td>F</td>\n",
       "      <td>53</td>\n",
       "      <td>0</td>\n",
       "      <td>6</td>\n",
       "      <td>8</td>\n",
       "      <td>17944.0</td>\n",
       "      <td>United States</td>\n",
       "    </tr>\n",
       "    <tr>\n",
       "      <th>2</th>\n",
       "      <td>15</td>\n",
       "      <td>SEO</td>\n",
       "      <td>Opera</td>\n",
       "      <td>M</td>\n",
       "      <td>53</td>\n",
       "      <td>1</td>\n",
       "      <td>1</td>\n",
       "      <td>1</td>\n",
       "      <td>1.0</td>\n",
       "      <td>United States</td>\n",
       "    </tr>\n",
       "    <tr>\n",
       "      <th>3</th>\n",
       "      <td>44</td>\n",
       "      <td>SEO</td>\n",
       "      <td>Safari</td>\n",
       "      <td>M</td>\n",
       "      <td>41</td>\n",
       "      <td>0</td>\n",
       "      <td>5</td>\n",
       "      <td>4</td>\n",
       "      <td>492085.0</td>\n",
       "      <td>Unknown country</td>\n",
       "    </tr>\n",
       "    <tr>\n",
       "      <th>4</th>\n",
       "      <td>39</td>\n",
       "      <td>Ads</td>\n",
       "      <td>Safari</td>\n",
       "      <td>M</td>\n",
       "      <td>45</td>\n",
       "      <td>0</td>\n",
       "      <td>9</td>\n",
       "      <td>9</td>\n",
       "      <td>4361461.0</td>\n",
       "      <td>United States</td>\n",
       "    </tr>\n",
       "  </tbody>\n",
       "</table>\n",
       "</div>"
      ],
      "text/plain": [
       "   purchase_value source browser sex  age  class  purchase_month  \\\n",
       "0              34    SEO  Chrome   M   39      0               4   \n",
       "1              16    Ads  Chrome   F   53      0               6   \n",
       "2              15    SEO   Opera   M   53      1               1   \n",
       "3              44    SEO  Safari   M   41      0               5   \n",
       "4              39    Ads  Safari   M   45      0               9   \n",
       "\n",
       "   purchase_day  time_delta          country  \n",
       "0            18   4506682.0            Japan  \n",
       "1             8     17944.0    United States  \n",
       "2             1         1.0    United States  \n",
       "3             4    492085.0  Unknown country  \n",
       "4             9   4361461.0    United States  "
      ]
     },
     "execution_count": 23,
     "metadata": {},
     "output_type": "execute_result"
    }
   ],
   "source": [
    "# Defining a count of countries Pandas Series\n",
    "country_counts = data_processed['country'].value_counts()\n",
    "\n",
    "# Defining the list of countries to keep\n",
    "to_keep = country_counts[country_counts > 50].index.values\n",
    "\n",
    "# Filtering out data\n",
    "data_processed = data_processed.loc[data_processed['country'].isin(to_keep), :].reset_index(drop=True)\n",
    "data_processed.head()"
   ]
  },
  {
   "cell_type": "code",
   "execution_count": 24,
   "metadata": {},
   "outputs": [
    {
     "name": "stdout",
     "output_type": "stream",
     "text": [
      "Number of rows in the processed dataset : 149933 rows\n",
      "Number of columns in the processed dataset : 10 columns\n"
     ]
    }
   ],
   "source": [
    "print(\"Number of rows in the processed dataset : {} rows\".format(data_processed.shape[0]))\n",
    "print(\"Number of columns in the processed dataset : {} columns\".format(data_processed.shape[1]))"
   ]
  },
  {
   "cell_type": "markdown",
   "metadata": {},
   "source": [
    "# 5 - Machine Learning"
   ]
  },
  {
   "cell_type": "markdown",
   "metadata": {},
   "source": [
    "In this section, we will process our data and build predictive machine learning models to detect fraudulent transactions."
   ]
  },
  {
   "cell_type": "markdown",
   "metadata": {},
   "source": [
    "## 5.1 - Setting train and test data"
   ]
  },
  {
   "cell_type": "code",
   "execution_count": 25,
   "metadata": {},
   "outputs": [
    {
     "name": "stdout",
     "output_type": "stream",
     "text": [
      "['purchase_value' 'source' 'browser' 'sex' 'age' 'class' 'purchase_month'\n",
      " 'purchase_day' 'time_delta' 'country']\n"
     ]
    }
   ],
   "source": [
    "# Printing the list of potential features\n",
    "print(data_processed.columns.values)"
   ]
  },
  {
   "cell_type": "markdown",
   "metadata": {},
   "source": [
    "Let's define some useful variables that will help us construct our pipeline:"
   ]
  },
  {
   "cell_type": "code",
   "execution_count": 26,
   "metadata": {},
   "outputs": [],
   "source": [
    "# Defining the list of selected features\n",
    "features_list = ['time_delta', 'purchase_value', 'age',\n",
    "                 'source', 'browser', 'sex', 'country',\n",
    "                 'purchase_month', 'purchase_day']\n",
    "\n",
    "# Indentifying the indexes of numerical and categorical features\n",
    "numeric_indices = [0, 1, 2]\n",
    "categorical_indices = [3, 4, 5, 6, 7, 8]\n",
    "\n",
    "# Defining the target variable\n",
    "target_variable = 'class'"
   ]
  },
  {
   "cell_type": "markdown",
   "metadata": {},
   "source": [
    "Now, let's split our explanatory variables and target variable into two separate dataframes."
   ]
  },
  {
   "cell_type": "code",
   "execution_count": 27,
   "metadata": {},
   "outputs": [
    {
     "name": "stdout",
     "output_type": "stream",
     "text": [
      "Explanatory variables:  ['time_delta' 'purchase_value' 'age' 'source' 'browser' 'sex' 'country'\n",
      " 'purchase_month' 'purchase_day']\n"
     ]
    }
   ],
   "source": [
    "# Features dataframe\n",
    "X = data_processed.loc[:, features_list]\n",
    "\n",
    "# Labels dataframe\n",
    "y = data_processed.loc[:, target_variable]\n",
    "\n",
    "print('Explanatory variables: ', X.columns.values)"
   ]
  },
  {
   "cell_type": "markdown",
   "metadata": {},
   "source": [
    "We are now ready to split our data into training and testing data. The method train_test_split() is used to do so. As our data is largely skewed, we used the \"stratify\" parameter to reproduce the same distribution of the target labels into our training and testing data."
   ]
  },
  {
   "cell_type": "code",
   "execution_count": 28,
   "metadata": {},
   "outputs": [
    {
     "name": "stdout",
     "output_type": "stream",
     "text": [
      "Dividing into train and test sets...\n",
      "...Done.\n",
      "\n"
     ]
    }
   ],
   "source": [
    "# Divide dataset Train set & Test set \n",
    "print(\"Dividing into train and test sets...\")\n",
    "X_train, X_test, y_train, y_test = train_test_split(X, y, test_size=0.2, random_state=22, stratify=y)\n",
    "print(\"...Done.\")\n",
    "print()"
   ]
  },
  {
   "cell_type": "code",
   "execution_count": 29,
   "metadata": {},
   "outputs": [
    {
     "name": "stdout",
     "output_type": "stream",
     "text": [
      "Convert pandas DataFrames to numpy arrays...\n",
      "...Done\n",
      "[[7124079.0 22 41 'SEO' 'Safari' 'M' 'United States' 6 25]\n",
      " [6970977.0 41 33 'SEO' 'FireFox' 'F' 'United Kingdom' 3 27]\n",
      " [1357239.0 28 45 'SEO' 'Chrome' 'F' 'United States' 2 23]\n",
      " [5402697.0 32 36 'Direct' 'Safari' 'F' 'Unknown country' 7 28]\n",
      " [8387086.0 39 29 'SEO' 'FireFox' 'M' 'Denmark' 4 13]]\n",
      "[[5844173.0 15 39 'Ads' 'Safari' 'F' 'Denmark' 7 12]\n",
      " [3844857.0 50 35 'Ads' 'Chrome' 'M' 'Ireland' 2 22]]\n",
      "\n",
      "[0 0 0 1 0]\n",
      "[0 0]\n"
     ]
    }
   ],
   "source": [
    "# Convert pandas DataFrames to numpy arrays before using scikit-learn\n",
    "print(\"Convert pandas DataFrames to numpy arrays...\")\n",
    "X_train = X_train.values\n",
    "X_test = X_test.values\n",
    "y_train = y_train.values\n",
    "y_test = y_test.values\n",
    "print(\"...Done\")\n",
    "\n",
    "print(X_train[0:5,:])\n",
    "print(X_test[0:2,:])\n",
    "print()\n",
    "print(y_train[0:5])\n",
    "print(y_test[0:2])"
   ]
  },
  {
   "cell_type": "markdown",
   "metadata": {},
   "source": [
    "## 5.2 - Features processing"
   ]
  },
  {
   "cell_type": "markdown",
   "metadata": {},
   "source": [
    "The last step before training our models is to transform and standerdize our data :\n",
    "\n",
    "* Numerical columns: Strandard scaling\n",
    "* Categorical columns: One Hot encoding \n",
    "\n",
    "The Pipeline() and ColumnTransformer() are used to define a series of transformations to apply to specific columns."
   ]
  },
  {
   "cell_type": "code",
   "execution_count": 30,
   "metadata": {},
   "outputs": [],
   "source": [
    "# Creating a preprocessing pipeline\n",
    "numeric_transformer = Pipeline(steps=[('scaler', StandardScaler())\n",
    "                                     ]\n",
    "                              )\n",
    "    \n",
    "categorical_transformer = Pipeline(steps=[('encoder', OneHotEncoder(drop='first'))\n",
    "                                         ]\n",
    "                                  )\n",
    "\n",
    "preprocessor = ColumnTransformer(\n",
    "    transformers=[\n",
    "        ('num', numeric_transformer, numeric_indices),\n",
    "        ('cat', categorical_transformer, categorical_indices)\n",
    "    ])"
   ]
  },
  {
   "cell_type": "code",
   "execution_count": 32,
   "metadata": {},
   "outputs": [
    {
     "name": "stdout",
     "output_type": "stream",
     "text": [
      "Encoding categorical features and standardizing numerical features...\n",
      "...Done\n",
      "  (0, 0)\t0.700838193204952\n",
      "  (0, 1)\t-0.8131614140682454\n",
      "  (0, 2)\t0.9124683309381226\n",
      "  (0, 4)\t1.0\n",
      "  (0, 8)\t1.0\n",
      "  (0, 9)\t1.0\n",
      "  (0, 82)\t1.0\n",
      "  (0, 91)\t1.0\n",
      "  (0, 121)\t1.0\n",
      "  (1, 0)\t0.6518837660002775\n",
      "  (1, 1)\t0.22402011232326413\n",
      "  (1, 2)\t-0.015572967191998093\n",
      "  (1, 4)\t1.0\n",
      "  (1, 5)\t1.0\n",
      "  (1, 81)\t1.0\n",
      "  (1, 88)\t1.0\n",
      "  (1, 123)\t1.0\n",
      "  (2, 0)\t-1.1431112586703\n",
      "  (2, 1)\t-0.48563040573408445\n",
      "  (2, 2)\t1.376488980003183\n",
      "  (2, 4)\t1.0\n",
      "  (2, 82)\t1.0\n",
      "  (2, 87)\t1.0\n",
      "  (2, 119)\t1.0\n",
      "  (3, 0)\t0.150425593693274\n",
      "  (3, 1)\t-0.2672764001779772\n",
      "  (3, 2)\t0.33244251960679716\n",
      "  (3, 3)\t1.0\n",
      "  (3, 8)\t1.0\n",
      "  (3, 83)\t1.0\n",
      "  (3, 92)\t1.0\n",
      "  (3, 124)\t1.0\n",
      "  (4, 0)\t1.1046851987339084\n",
      "  (4, 1)\t0.1148431095452105\n",
      "  (4, 2)\t-0.47959361625705843\n",
      "  (4, 4)\t1.0\n",
      "  (4, 5)\t1.0\n",
      "  (4, 9)\t1.0\n",
      "  (4, 25)\t1.0\n",
      "  (4, 89)\t1.0\n",
      "  (4, 109)\t1.0\n"
     ]
    }
   ],
   "source": [
    "# Put here all the preprocessings\n",
    "print(\"Encoding categorical features and standardizing numerical features...\")\n",
    "\n",
    "# Fitting and transforming training data\n",
    "X_train = preprocessor.fit_transform(X_train)\n",
    "\n",
    "# Transforming ONLY our testing data to prevent data leakage\n",
    "X_test = preprocessor.transform(X_test)\n",
    "\n",
    "print(\"...Done\")\n",
    "print(X_train[0:5, :])"
   ]
  },
  {
   "cell_type": "markdown",
   "metadata": {},
   "source": [
    "## 5.3 - Evaluation metrics"
   ]
  },
  {
   "cell_type": "markdown",
   "metadata": {},
   "source": [
    "#### Interpreting the scores\n",
    "\n",
    "* The **precision** represents the \"purity\" of the predictions \"1\". In other words, it's the ratio of examples being predicted as 1s that are indeed true 1s: $P = \\frac{TP}{TP + FP}$ \n",
    "* The **recall** represents the ability to detect the true \"1\". It's the ratio of examples that are true 1s and have been predicted as 1s: $R = \\frac{TP}{TP + FN}$ \n",
    "* From the formulae above, one can see the the precision is maximal when there are no false positives, and the recall is maximal when there are no false negatives\n",
    "* The **F1-score** is a harmonic average between Precision and Recall. It allows to account for both false positivies and false negatives, which very useful when dealing with class imbalance: $F1 = 2.\\frac{P . R}{P + R}$ \n",
    "\n",
    "#### What does that mean in the context of fraud detection ?\n",
    "\n",
    "* False positives represent transactions that are reported as frauds but in fact aren't\n",
    "* False negatives represent frauds that are not detected (this is the kind of error that we want to avoid)\n",
    "* In this case, **we would like to detect as much frauds as possible while having a number of false positives that is as close as possible to 0 (because we want to avoid fake alerts that would be time-consuming for the company)**"
   ]
  },
  {
   "cell_type": "markdown",
   "metadata": {},
   "source": [
    "## 5.4 - Logistic Regression"
   ]
  },
  {
   "cell_type": "markdown",
   "metadata": {},
   "source": [
    "In this part, we will perform a Logistic Regression on our data. We will use the GridSearchCV module to train multiple models using a range of hyperparameters, and automatically selecting the model with the best score."
   ]
  },
  {
   "cell_type": "code",
   "execution_count": 33,
   "metadata": {},
   "outputs": [
    {
     "name": "stdout",
     "output_type": "stream",
     "text": [
      "Train model...\n",
      "Fitting 5 folds for each of 24 candidates, totalling 120 fits\n",
      "[CV] END .............................C=0.0001, penalty=none; total time=   0.7s\n",
      "[CV] END .............................C=0.0001, penalty=none; total time=   0.6s\n",
      "[CV] END .............................C=0.0001, penalty=none; total time=   0.6s\n",
      "[CV] END .............................C=0.0001, penalty=none; total time=   0.6s\n",
      "[CV] END .............................C=0.0001, penalty=none; total time=   0.6s\n",
      "[CV] END ...............................C=0.0001, penalty=l1; total time=   0.0s\n",
      "[CV] END ...............................C=0.0001, penalty=l1; total time=   0.0s\n",
      "[CV] END ...............................C=0.0001, penalty=l1; total time=   0.0s\n",
      "[CV] END ...............................C=0.0001, penalty=l1; total time=   0.0s\n",
      "[CV] END ...............................C=0.0001, penalty=l1; total time=   0.0s\n",
      "[CV] END ...............................C=0.0001, penalty=l2; total time=   0.1s\n",
      "[CV] END ...............................C=0.0001, penalty=l2; total time=   0.1s\n",
      "[CV] END ...............................C=0.0001, penalty=l2; total time=   0.1s\n",
      "[CV] END ...............................C=0.0001, penalty=l2; total time=   0.1s\n",
      "[CV] END ...............................C=0.0001, penalty=l2; total time=   0.1s\n",
      "[CV] END ..............................C=0.001, penalty=none; total time=   0.7s\n",
      "[CV] END ..............................C=0.001, penalty=none; total time=   0.6s\n",
      "[CV] END ..............................C=0.001, penalty=none; total time=   0.7s\n",
      "[CV] END ..............................C=0.001, penalty=none; total time=   0.6s\n",
      "[CV] END ..............................C=0.001, penalty=none; total time=   0.6s\n",
      "[CV] END ................................C=0.001, penalty=l1; total time=   0.0s\n",
      "[CV] END ................................C=0.001, penalty=l1; total time=   0.0s\n",
      "[CV] END ................................C=0.001, penalty=l1; total time=   0.0s\n",
      "[CV] END ................................C=0.001, penalty=l1; total time=   0.0s\n",
      "[CV] END ................................C=0.001, penalty=l1; total time=   0.0s\n",
      "[CV] END ................................C=0.001, penalty=l2; total time=   0.2s\n",
      "[CV] END ................................C=0.001, penalty=l2; total time=   0.2s\n",
      "[CV] END ................................C=0.001, penalty=l2; total time=   0.2s\n",
      "[CV] END ................................C=0.001, penalty=l2; total time=   0.2s\n",
      "[CV] END ................................C=0.001, penalty=l2; total time=   0.2s\n",
      "[CV] END ...............................C=0.01, penalty=none; total time=   0.7s\n",
      "[CV] END ...............................C=0.01, penalty=none; total time=   0.6s\n",
      "[CV] END ...............................C=0.01, penalty=none; total time=   0.7s\n",
      "[CV] END ...............................C=0.01, penalty=none; total time=   0.7s\n",
      "[CV] END ...............................C=0.01, penalty=none; total time=   0.6s\n",
      "[CV] END .................................C=0.01, penalty=l1; total time=   0.0s\n",
      "[CV] END .................................C=0.01, penalty=l1; total time=   0.0s\n",
      "[CV] END .................................C=0.01, penalty=l1; total time=   0.0s\n",
      "[CV] END .................................C=0.01, penalty=l1; total time=   0.0s\n",
      "[CV] END .................................C=0.01, penalty=l1; total time=   0.0s\n",
      "[CV] END .................................C=0.01, penalty=l2; total time=   0.4s\n",
      "[CV] END .................................C=0.01, penalty=l2; total time=   0.4s\n",
      "[CV] END .................................C=0.01, penalty=l2; total time=   0.4s\n",
      "[CV] END .................................C=0.01, penalty=l2; total time=   0.4s\n",
      "[CV] END .................................C=0.01, penalty=l2; total time=   0.4s\n",
      "[CV] END ................................C=0.1, penalty=none; total time=   0.7s\n",
      "[CV] END ................................C=0.1, penalty=none; total time=   0.6s\n",
      "[CV] END ................................C=0.1, penalty=none; total time=   0.6s\n",
      "[CV] END ................................C=0.1, penalty=none; total time=   0.7s\n",
      "[CV] END ................................C=0.1, penalty=none; total time=   0.6s\n",
      "[CV] END ..................................C=0.1, penalty=l1; total time=   0.0s\n",
      "[CV] END ..................................C=0.1, penalty=l1; total time=   0.0s\n",
      "[CV] END ..................................C=0.1, penalty=l1; total time=   0.0s\n",
      "[CV] END ..................................C=0.1, penalty=l1; total time=   0.0s\n",
      "[CV] END ..................................C=0.1, penalty=l1; total time=   0.0s\n",
      "[CV] END ..................................C=0.1, penalty=l2; total time=   0.6s\n",
      "[CV] END ..................................C=0.1, penalty=l2; total time=   0.7s\n",
      "[CV] END ..................................C=0.1, penalty=l2; total time=   0.6s\n",
      "[CV] END ..................................C=0.1, penalty=l2; total time=   0.6s\n",
      "[CV] END ..................................C=0.1, penalty=l2; total time=   0.6s\n",
      "[CV] END ..................................C=1, penalty=none; total time=   0.7s\n",
      "[CV] END ..................................C=1, penalty=none; total time=   0.6s\n",
      "[CV] END ..................................C=1, penalty=none; total time=   0.6s\n",
      "[CV] END ..................................C=1, penalty=none; total time=   0.7s\n",
      "[CV] END ..................................C=1, penalty=none; total time=   0.6s\n",
      "[CV] END ....................................C=1, penalty=l1; total time=   0.0s\n",
      "[CV] END ....................................C=1, penalty=l1; total time=   0.0s\n",
      "[CV] END ....................................C=1, penalty=l1; total time=   0.0s\n",
      "[CV] END ....................................C=1, penalty=l1; total time=   0.0s\n",
      "[CV] END ....................................C=1, penalty=l1; total time=   0.0s\n",
      "[CV] END ....................................C=1, penalty=l2; total time=   0.7s\n",
      "[CV] END ....................................C=1, penalty=l2; total time=   0.6s\n",
      "[CV] END ....................................C=1, penalty=l2; total time=   0.7s\n",
      "[CV] END ....................................C=1, penalty=l2; total time=   0.7s\n",
      "[CV] END ....................................C=1, penalty=l2; total time=   0.6s\n",
      "[CV] END .................................C=10, penalty=none; total time=   0.7s\n",
      "[CV] END .................................C=10, penalty=none; total time=   0.6s\n",
      "[CV] END .................................C=10, penalty=none; total time=   0.6s\n",
      "[CV] END .................................C=10, penalty=none; total time=   0.6s\n",
      "[CV] END .................................C=10, penalty=none; total time=   0.6s\n",
      "[CV] END ...................................C=10, penalty=l1; total time=   0.0s\n",
      "[CV] END ...................................C=10, penalty=l1; total time=   0.0s\n",
      "[CV] END ...................................C=10, penalty=l1; total time=   0.0s\n",
      "[CV] END ...................................C=10, penalty=l1; total time=   0.0s\n",
      "[CV] END ...................................C=10, penalty=l1; total time=   0.0s\n",
      "[CV] END ...................................C=10, penalty=l2; total time=   0.6s\n",
      "[CV] END ...................................C=10, penalty=l2; total time=   0.6s\n",
      "[CV] END ...................................C=10, penalty=l2; total time=   0.6s\n",
      "[CV] END ...................................C=10, penalty=l2; total time=   0.6s\n",
      "[CV] END ...................................C=10, penalty=l2; total time=   0.6s\n",
      "[CV] END ................................C=100, penalty=none; total time=   0.7s\n",
      "[CV] END ................................C=100, penalty=none; total time=   0.6s\n",
      "[CV] END ................................C=100, penalty=none; total time=   0.6s\n",
      "[CV] END ................................C=100, penalty=none; total time=   0.6s\n",
      "[CV] END ................................C=100, penalty=none; total time=   0.6s\n",
      "[CV] END ..................................C=100, penalty=l1; total time=   0.0s\n",
      "[CV] END ..................................C=100, penalty=l1; total time=   0.0s\n",
      "[CV] END ..................................C=100, penalty=l1; total time=   0.0s\n",
      "[CV] END ..................................C=100, penalty=l1; total time=   0.0s\n",
      "[CV] END ..................................C=100, penalty=l1; total time=   0.0s\n",
      "[CV] END ..................................C=100, penalty=l2; total time=   0.6s\n",
      "[CV] END ..................................C=100, penalty=l2; total time=   0.8s\n",
      "[CV] END ..................................C=100, penalty=l2; total time=   0.7s\n",
      "[CV] END ..................................C=100, penalty=l2; total time=   0.7s\n",
      "[CV] END ..................................C=100, penalty=l2; total time=   0.7s\n",
      "[CV] END ...............................C=1000, penalty=none; total time=   0.7s\n",
      "[CV] END ...............................C=1000, penalty=none; total time=   0.7s\n",
      "[CV] END ...............................C=1000, penalty=none; total time=   0.7s\n",
      "[CV] END ...............................C=1000, penalty=none; total time=   0.7s\n",
      "[CV] END ...............................C=1000, penalty=none; total time=   0.7s\n",
      "[CV] END .................................C=1000, penalty=l1; total time=   0.0s\n",
      "[CV] END .................................C=1000, penalty=l1; total time=   0.0s\n",
      "[CV] END .................................C=1000, penalty=l1; total time=   0.0s\n",
      "[CV] END .................................C=1000, penalty=l1; total time=   0.0s\n",
      "[CV] END .................................C=1000, penalty=l1; total time=   0.0s\n",
      "[CV] END .................................C=1000, penalty=l2; total time=   0.7s\n",
      "[CV] END .................................C=1000, penalty=l2; total time=   0.7s\n",
      "[CV] END .................................C=1000, penalty=l2; total time=   0.7s\n",
      "[CV] END .................................C=1000, penalty=l2; total time=   0.7s\n",
      "[CV] END .................................C=1000, penalty=l2; total time=   0.7s\n"
     ]
    },
    {
     "data": {
      "text/plain": [
       "GridSearchCV(cv=5, estimator=LogisticRegression(class_weight='balanced'),\n",
       "             param_grid={'C': [0.0001, 0.001, 0.01, 0.1, 1, 10, 100, 1000],\n",
       "                         'penalty': ['none', 'l1', 'l2']},\n",
       "             scoring='f1', verbose=2)"
      ]
     },
     "execution_count": 33,
     "metadata": {},
     "output_type": "execute_result"
    }
   ],
   "source": [
    "# Train model\n",
    "print(\"Train model...\")\n",
    "\n",
    "# Defining a ranges of hyperparameters\n",
    "Cs = [10**i for i in range(-4,4)] # Regularization parameter\n",
    "penalties = ['none', \"l1\", \"l2\"] # Regularization penalty ('l2':Ridge, 'l1':Lasso)\n",
    "\n",
    "# Dictionnary of hyperparameters\n",
    "params = {\"penalty\":penalties, \"C\":Cs}\n",
    "\n",
    "# Defining our GridSearchCV instance\n",
    "lr_grid = GridSearchCV(LogisticRegression(class_weight = \"balanced\"),\n",
    "                    param_grid=params,\n",
    "                    verbose=2,\n",
    "                    cv=5, \n",
    "                    scoring=\"f1\")\n",
    "\n",
    "# Fitting to training data\n",
    "lr_grid.fit(X_train, y_train)"
   ]
  },
  {
   "cell_type": "code",
   "execution_count": 34,
   "metadata": {},
   "outputs": [
    {
     "name": "stdout",
     "output_type": "stream",
     "text": [
      "Hyperparameters that give the best score : {'C': 0.1, 'penalty': 'l2'}\n",
      "\n",
      "Best score : 0.6343671141532481\n",
      "\n",
      "...Done.\n"
     ]
    }
   ],
   "source": [
    "# Retrieving best parameters and the best score (f1 score)\n",
    "print(\"Hyperparameters that give the best score : {}\\n\".format(lr_grid.best_params_))\n",
    "print(\"Best score : {}\\n\".format(lr_grid.best_score_))\n",
    "print(\"...Done.\")"
   ]
  },
  {
   "cell_type": "code",
   "execution_count": 35,
   "metadata": {},
   "outputs": [
    {
     "name": "stdout",
     "output_type": "stream",
     "text": [
      "Predictions on training set...\n",
      "...Done.\n",
      "\n",
      "Predictions on test set...\n",
      "...Done.\n"
     ]
    }
   ],
   "source": [
    "# Predictions on training set\n",
    "print(\"Predictions on training set...\")\n",
    "y_train_pred = lr_grid.predict(X_train)\n",
    "print(\"...Done.\")\n",
    "\n",
    "print()\n",
    "\n",
    "# Predictions on test set\n",
    "print(\"Predictions on test set...\")\n",
    "y_test_pred = lr_grid.predict(X_test)\n",
    "print(\"...Done.\")"
   ]
  },
  {
   "cell_type": "code",
   "execution_count": 36,
   "metadata": {},
   "outputs": [
    {
     "name": "stdout",
     "output_type": "stream",
     "text": [
      "f1-score on train set :  0.6361149816793105\n",
      "f1-score on test set :  0.6360453141091658\n"
     ]
    }
   ],
   "source": [
    "# f1-score on both training and testing sets\n",
    "print(\"f1-score on train set : \", lr_grid.score(X_train, y_train))\n",
    "print(\"f1-score on test set : \", lr_grid.score(X_test, y_test))"
   ]
  },
  {
   "cell_type": "code",
   "execution_count": 37,
   "metadata": {},
   "outputs": [
    {
     "name": "stdout",
     "output_type": "stream",
     "text": [
      "              precision    recall  f1-score   support\n",
      "\n",
      "           0       0.95      0.98      0.97     27171\n",
      "           1       0.76      0.55      0.64      2816\n",
      "\n",
      "    accuracy                           0.94     29987\n",
      "   macro avg       0.86      0.77      0.80     29987\n",
      "weighted avg       0.94      0.94      0.94     29987\n",
      "\n"
     ]
    }
   ],
   "source": [
    "# classifiction report\n",
    "print(classification_report(y_test, y_test_pred))"
   ]
  },
  {
   "cell_type": "code",
   "execution_count": 38,
   "metadata": {},
   "outputs": [
    {
     "data": {
      "image/png": "[encoded data removed]",
      "text/plain": [
       "<Figure size 432x288 with 2 Axes>"
      ]
     },
     "metadata": {
      "needs_background": "light"
     },
     "output_type": "display_data"
    }
   ],
   "source": [
    "# Confusion matrix\n",
    "cm = confusion_matrix(y_test, y_test_pred)\n",
    "sns.heatmap(cm, annot=True, fmt=\"d\")\n",
    "plt.show()"
   ]
  },
  {
   "cell_type": "markdown",
   "metadata": {},
   "source": [
    "#### What is our model doing here ?\n",
    "\n",
    "This model allows to detect fraudulent transactions with a good precision. However, the recall is low because it misclassifies an important amount of fraudulent transactions as non-fraudulent (false negatives)."
   ]
  },
  {
   "cell_type": "markdown",
   "metadata": {},
   "source": [
    "## 5.5 - Random Forest"
   ]
  },
  {
   "cell_type": "markdown",
   "metadata": {},
   "source": [
    "In this part, we will perform a Random Forest classification on our data to see if we can further improve the first results. Random forest is an **Ensemble** algorithm which uses the **Bagging** technique."
   ]
  },
  {
   "cell_type": "code",
   "execution_count": 39,
   "metadata": {},
   "outputs": [
    {
     "name": "stdout",
     "output_type": "stream",
     "text": [
      "Fitting 5 folds for each of 140 candidates, totalling 700 fits\n",
      "[CV] END ..max_depth=4, min_samples_split=2, n_estimators=30; total time=   0.7s\n",
      "[CV] END ..max_depth=4, min_samples_split=2, n_estimators=30; total time=   0.6s\n",
      "[CV] END ..max_depth=4, min_samples_split=2, n_estimators=30; total time=   0.6s\n",
      "[CV] END ..max_depth=4, min_samples_split=2, n_estimators=30; total time=   0.6s\n",
      "[CV] END ..max_depth=4, min_samples_split=2, n_estimators=30; total time=   0.6s\n",
      "[CV] END ..max_depth=4, min_samples_split=2, n_estimators=40; total time=   0.8s\n",
      "[CV] END ..max_depth=4, min_samples_split=2, n_estimators=40; total time=   0.7s\n",
      "[CV] END ..max_depth=4, min_samples_split=2, n_estimators=40; total time=   0.8s\n",
      "[CV] END ..max_depth=4, min_samples_split=2, n_estimators=40; total time=   0.8s\n",
      "[CV] END ..max_depth=4, min_samples_split=2, n_estimators=40; total time=   0.7s\n",
      "[CV] END ..max_depth=4, min_samples_split=2, n_estimators=50; total time=   1.0s\n",
      "[CV] END ..max_depth=4, min_samples_split=2, n_estimators=50; total time=   1.0s\n",
      "[CV] END ..max_depth=4, min_samples_split=2, n_estimators=50; total time=   1.0s\n",
      "[CV] END ..max_depth=4, min_samples_split=2, n_estimators=50; total time=   0.9s\n",
      "[CV] END ..max_depth=4, min_samples_split=2, n_estimators=50; total time=   0.9s\n",
      "[CV] END ..max_depth=4, min_samples_split=2, n_estimators=80; total time=   1.5s\n",
      "[CV] END ..max_depth=4, min_samples_split=2, n_estimators=80; total time=   1.5s\n",
      "[CV] END ..max_depth=4, min_samples_split=2, n_estimators=80; total time=   1.5s\n",
      "[CV] END ..max_depth=4, min_samples_split=2, n_estimators=80; total time=   1.5s\n",
      "[CV] END ..max_depth=4, min_samples_split=2, n_estimators=80; total time=   1.4s\n",
      "[CV] END .max_depth=4, min_samples_split=2, n_estimators=100; total time=   1.9s\n",
      "[CV] END .max_depth=4, min_samples_split=2, n_estimators=100; total time=   1.8s\n",
      "[CV] END .max_depth=4, min_samples_split=2, n_estimators=100; total time=   2.0s\n",
      "[CV] END .max_depth=4, min_samples_split=2, n_estimators=100; total time=   2.0s\n",
      "[CV] END .max_depth=4, min_samples_split=2, n_estimators=100; total time=   1.9s\n",
      "[CV] END .max_depth=4, min_samples_split=2, n_estimators=150; total time=   2.8s\n",
      "[CV] END .max_depth=4, min_samples_split=2, n_estimators=150; total time=   2.8s\n",
      "[CV] END .max_depth=4, min_samples_split=2, n_estimators=150; total time=   2.9s\n",
      "[CV] END .max_depth=4, min_samples_split=2, n_estimators=150; total time=   3.0s\n",
      "[CV] END .max_depth=4, min_samples_split=2, n_estimators=150; total time=   3.0s\n",
      "[CV] END .max_depth=4, min_samples_split=2, n_estimators=200; total time=   4.0s\n",
      "[CV] END .max_depth=4, min_samples_split=2, n_estimators=200; total time=   3.8s\n",
      "[CV] END .max_depth=4, min_samples_split=2, n_estimators=200; total time=   3.8s\n",
      "[CV] END .max_depth=4, min_samples_split=2, n_estimators=200; total time=   4.0s\n",
      "[CV] END .max_depth=4, min_samples_split=2, n_estimators=200; total time=   3.8s\n",
      "[CV] END ..max_depth=4, min_samples_split=5, n_estimators=30; total time=   0.7s\n",
      "[CV] END ..max_depth=4, min_samples_split=5, n_estimators=30; total time=   0.6s\n",
      "[CV] END ..max_depth=4, min_samples_split=5, n_estimators=30; total time=   0.6s\n",
      "[CV] END ..max_depth=4, min_samples_split=5, n_estimators=30; total time=   0.6s\n",
      "[CV] END ..max_depth=4, min_samples_split=5, n_estimators=30; total time=   0.6s\n",
      "[CV] END ..max_depth=4, min_samples_split=5, n_estimators=40; total time=   0.8s\n",
      "[CV] END ..max_depth=4, min_samples_split=5, n_estimators=40; total time=   0.8s\n",
      "[CV] END ..max_depth=4, min_samples_split=5, n_estimators=40; total time=   0.8s\n",
      "[CV] END ..max_depth=4, min_samples_split=5, n_estimators=40; total time=   0.7s\n",
      "[CV] END ..max_depth=4, min_samples_split=5, n_estimators=40; total time=   0.8s\n",
      "[CV] END ..max_depth=4, min_samples_split=5, n_estimators=50; total time=   1.0s\n",
      "[CV] END ..max_depth=4, min_samples_split=5, n_estimators=50; total time=   0.9s\n",
      "[CV] END ..max_depth=4, min_samples_split=5, n_estimators=50; total time=   1.0s\n",
      "[CV] END ..max_depth=4, min_samples_split=5, n_estimators=50; total time=   1.1s\n",
      "[CV] END ..max_depth=4, min_samples_split=5, n_estimators=50; total time=   1.0s\n",
      "[CV] END ..max_depth=4, min_samples_split=5, n_estimators=80; total time=   1.6s\n",
      "[CV] END ..max_depth=4, min_samples_split=5, n_estimators=80; total time=   1.5s\n",
      "[CV] END ..max_depth=4, min_samples_split=5, n_estimators=80; total time=   1.4s\n",
      "[CV] END ..max_depth=4, min_samples_split=5, n_estimators=80; total time=   1.5s\n",
      "[CV] END ..max_depth=4, min_samples_split=5, n_estimators=80; total time=   1.5s\n",
      "[CV] END .max_depth=4, min_samples_split=5, n_estimators=100; total time=   1.9s\n",
      "[CV] END .max_depth=4, min_samples_split=5, n_estimators=100; total time=   1.9s\n",
      "[CV] END .max_depth=4, min_samples_split=5, n_estimators=100; total time=   1.8s\n",
      "[CV] END .max_depth=4, min_samples_split=5, n_estimators=100; total time=   2.0s\n",
      "[CV] END .max_depth=4, min_samples_split=5, n_estimators=100; total time=   2.0s\n",
      "[CV] END .max_depth=4, min_samples_split=5, n_estimators=150; total time=   2.7s\n",
      "[CV] END .max_depth=4, min_samples_split=5, n_estimators=150; total time=   2.7s\n",
      "[CV] END .max_depth=4, min_samples_split=5, n_estimators=150; total time=   2.9s\n",
      "[CV] END .max_depth=4, min_samples_split=5, n_estimators=150; total time=   2.8s\n",
      "[CV] END .max_depth=4, min_samples_split=5, n_estimators=150; total time=   2.7s\n",
      "[CV] END .max_depth=4, min_samples_split=5, n_estimators=200; total time=   3.8s\n",
      "[CV] END .max_depth=4, min_samples_split=5, n_estimators=200; total time=   4.0s\n",
      "[CV] END .max_depth=4, min_samples_split=5, n_estimators=200; total time=   3.8s\n",
      "[CV] END .max_depth=4, min_samples_split=5, n_estimators=200; total time=   3.8s\n",
      "[CV] END .max_depth=4, min_samples_split=5, n_estimators=200; total time=   3.7s\n",
      "[CV] END .max_depth=4, min_samples_split=10, n_estimators=30; total time=   0.6s\n",
      "[CV] END .max_depth=4, min_samples_split=10, n_estimators=30; total time=   0.5s\n",
      "[CV] END .max_depth=4, min_samples_split=10, n_estimators=30; total time=   0.6s\n",
      "[CV] END .max_depth=4, min_samples_split=10, n_estimators=30; total time=   0.6s\n",
      "[CV] END .max_depth=4, min_samples_split=10, n_estimators=30; total time=   0.6s\n",
      "[CV] END .max_depth=4, min_samples_split=10, n_estimators=40; total time=   0.8s\n",
      "[CV] END .max_depth=4, min_samples_split=10, n_estimators=40; total time=   0.8s\n",
      "[CV] END .max_depth=4, min_samples_split=10, n_estimators=40; total time=   0.8s\n",
      "[CV] END .max_depth=4, min_samples_split=10, n_estimators=40; total time=   0.8s\n",
      "[CV] END .max_depth=4, min_samples_split=10, n_estimators=40; total time=   0.8s\n",
      "[CV] END .max_depth=4, min_samples_split=10, n_estimators=50; total time=   1.0s\n",
      "[CV] END .max_depth=4, min_samples_split=10, n_estimators=50; total time=   0.9s\n",
      "[CV] END .max_depth=4, min_samples_split=10, n_estimators=50; total time=   0.9s\n",
      "[CV] END .max_depth=4, min_samples_split=10, n_estimators=50; total time=   0.9s\n",
      "[CV] END .max_depth=4, min_samples_split=10, n_estimators=50; total time=   1.0s\n",
      "[CV] END .max_depth=4, min_samples_split=10, n_estimators=80; total time=   1.5s\n",
      "[CV] END .max_depth=4, min_samples_split=10, n_estimators=80; total time=   1.4s\n",
      "[CV] END .max_depth=4, min_samples_split=10, n_estimators=80; total time=   1.5s\n",
      "[CV] END .max_depth=4, min_samples_split=10, n_estimators=80; total time=   1.5s\n",
      "[CV] END .max_depth=4, min_samples_split=10, n_estimators=80; total time=   1.4s\n",
      "[CV] END max_depth=4, min_samples_split=10, n_estimators=100; total time=   1.9s\n",
      "[CV] END max_depth=4, min_samples_split=10, n_estimators=100; total time=   1.8s\n",
      "[CV] END max_depth=4, min_samples_split=10, n_estimators=100; total time=   1.8s\n",
      "[CV] END max_depth=4, min_samples_split=10, n_estimators=100; total time=   1.9s\n",
      "[CV] END max_depth=4, min_samples_split=10, n_estimators=100; total time=   1.9s\n",
      "[CV] END max_depth=4, min_samples_split=10, n_estimators=150; total time=   2.7s\n",
      "[CV] END max_depth=4, min_samples_split=10, n_estimators=150; total time=   2.7s\n",
      "[CV] END max_depth=4, min_samples_split=10, n_estimators=150; total time=   2.7s\n",
      "[CV] END max_depth=4, min_samples_split=10, n_estimators=150; total time=   2.6s\n",
      "[CV] END max_depth=4, min_samples_split=10, n_estimators=150; total time=   2.8s\n",
      "[CV] END max_depth=4, min_samples_split=10, n_estimators=200; total time=   3.6s\n",
      "[CV] END max_depth=4, min_samples_split=10, n_estimators=200; total time=   3.6s\n",
      "[CV] END max_depth=4, min_samples_split=10, n_estimators=200; total time=   3.5s\n",
      "[CV] END max_depth=4, min_samples_split=10, n_estimators=200; total time=   3.6s\n",
      "[CV] END max_depth=4, min_samples_split=10, n_estimators=200; total time=   3.7s\n",
      "[CV] END .max_depth=4, min_samples_split=20, n_estimators=30; total time=   0.6s\n",
      "[CV] END .max_depth=4, min_samples_split=20, n_estimators=30; total time=   0.5s\n",
      "[CV] END .max_depth=4, min_samples_split=20, n_estimators=30; total time=   0.6s\n",
      "[CV] END .max_depth=4, min_samples_split=20, n_estimators=30; total time=   0.6s\n",
      "[CV] END .max_depth=4, min_samples_split=20, n_estimators=30; total time=   0.5s\n",
      "[CV] END .max_depth=4, min_samples_split=20, n_estimators=40; total time=   0.7s\n",
      "[CV] END .max_depth=4, min_samples_split=20, n_estimators=40; total time=   0.8s\n",
      "[CV] END .max_depth=4, min_samples_split=20, n_estimators=40; total time=   0.8s\n",
      "[CV] END .max_depth=4, min_samples_split=20, n_estimators=40; total time=   0.7s\n",
      "[CV] END .max_depth=4, min_samples_split=20, n_estimators=40; total time=   0.7s\n",
      "[CV] END .max_depth=4, min_samples_split=20, n_estimators=50; total time=   0.9s\n",
      "[CV] END .max_depth=4, min_samples_split=20, n_estimators=50; total time=   0.9s\n",
      "[CV] END .max_depth=4, min_samples_split=20, n_estimators=50; total time=   0.9s\n",
      "[CV] END .max_depth=4, min_samples_split=20, n_estimators=50; total time=   0.9s\n",
      "[CV] END .max_depth=4, min_samples_split=20, n_estimators=50; total time=   1.0s\n",
      "[CV] END .max_depth=4, min_samples_split=20, n_estimators=80; total time=   1.5s\n",
      "[CV] END .max_depth=4, min_samples_split=20, n_estimators=80; total time=   1.5s\n",
      "[CV] END .max_depth=4, min_samples_split=20, n_estimators=80; total time=   1.5s\n",
      "[CV] END .max_depth=4, min_samples_split=20, n_estimators=80; total time=   1.5s\n",
      "[CV] END .max_depth=4, min_samples_split=20, n_estimators=80; total time=   1.5s\n",
      "[CV] END max_depth=4, min_samples_split=20, n_estimators=100; total time=   1.8s\n",
      "[CV] END max_depth=4, min_samples_split=20, n_estimators=100; total time=   1.8s\n",
      "[CV] END max_depth=4, min_samples_split=20, n_estimators=100; total time=   1.8s\n",
      "[CV] END max_depth=4, min_samples_split=20, n_estimators=100; total time=   1.9s\n",
      "[CV] END max_depth=4, min_samples_split=20, n_estimators=100; total time=   1.9s\n",
      "[CV] END max_depth=4, min_samples_split=20, n_estimators=150; total time=   2.7s\n",
      "[CV] END max_depth=4, min_samples_split=20, n_estimators=150; total time=   2.7s\n",
      "[CV] END max_depth=4, min_samples_split=20, n_estimators=150; total time=   2.7s\n",
      "[CV] END max_depth=4, min_samples_split=20, n_estimators=150; total time=   2.7s\n",
      "[CV] END max_depth=4, min_samples_split=20, n_estimators=150; total time=   2.8s\n",
      "[CV] END max_depth=4, min_samples_split=20, n_estimators=200; total time=   3.6s\n",
      "[CV] END max_depth=4, min_samples_split=20, n_estimators=200; total time=   3.7s\n",
      "[CV] END max_depth=4, min_samples_split=20, n_estimators=200; total time=   3.5s\n",
      "[CV] END max_depth=4, min_samples_split=20, n_estimators=200; total time=   3.6s\n",
      "[CV] END max_depth=4, min_samples_split=20, n_estimators=200; total time=   3.4s\n",
      "[CV] END .max_depth=4, min_samples_split=30, n_estimators=30; total time=   0.6s\n",
      "[CV] END .max_depth=4, min_samples_split=30, n_estimators=30; total time=   0.5s\n",
      "[CV] END .max_depth=4, min_samples_split=30, n_estimators=30; total time=   0.6s\n",
      "[CV] END .max_depth=4, min_samples_split=30, n_estimators=30; total time=   0.5s\n",
      "[CV] END .max_depth=4, min_samples_split=30, n_estimators=30; total time=   0.6s\n",
      "[CV] END .max_depth=4, min_samples_split=30, n_estimators=40; total time=   0.7s\n",
      "[CV] END .max_depth=4, min_samples_split=30, n_estimators=40; total time=   0.7s\n",
      "[CV] END .max_depth=4, min_samples_split=30, n_estimators=40; total time=   0.8s\n",
      "[CV] END .max_depth=4, min_samples_split=30, n_estimators=40; total time=   0.7s\n",
      "[CV] END .max_depth=4, min_samples_split=30, n_estimators=40; total time=   0.8s\n",
      "[CV] END .max_depth=4, min_samples_split=30, n_estimators=50; total time=   0.9s\n",
      "[CV] END .max_depth=4, min_samples_split=30, n_estimators=50; total time=   0.9s\n",
      "[CV] END .max_depth=4, min_samples_split=30, n_estimators=50; total time=   0.9s\n",
      "[CV] END .max_depth=4, min_samples_split=30, n_estimators=50; total time=   0.9s\n",
      "[CV] END .max_depth=4, min_samples_split=30, n_estimators=50; total time=   1.0s\n",
      "[CV] END .max_depth=4, min_samples_split=30, n_estimators=80; total time=   1.5s\n",
      "[CV] END .max_depth=4, min_samples_split=30, n_estimators=80; total time=   1.5s\n",
      "[CV] END .max_depth=4, min_samples_split=30, n_estimators=80; total time=   1.5s\n",
      "[CV] END .max_depth=4, min_samples_split=30, n_estimators=80; total time=   1.5s\n",
      "[CV] END .max_depth=4, min_samples_split=30, n_estimators=80; total time=   1.4s\n",
      "[CV] END max_depth=4, min_samples_split=30, n_estimators=100; total time=   1.8s\n",
      "[CV] END max_depth=4, min_samples_split=30, n_estimators=100; total time=   1.8s\n",
      "[CV] END max_depth=4, min_samples_split=30, n_estimators=100; total time=   1.9s\n",
      "[CV] END max_depth=4, min_samples_split=30, n_estimators=100; total time=   1.8s\n",
      "[CV] END max_depth=4, min_samples_split=30, n_estimators=100; total time=   1.7s\n",
      "[CV] END max_depth=4, min_samples_split=30, n_estimators=150; total time=   2.7s\n",
      "[CV] END max_depth=4, min_samples_split=30, n_estimators=150; total time=   2.7s\n",
      "[CV] END max_depth=4, min_samples_split=30, n_estimators=150; total time=   2.7s\n",
      "[CV] END max_depth=4, min_samples_split=30, n_estimators=150; total time=   2.7s\n",
      "[CV] END max_depth=4, min_samples_split=30, n_estimators=150; total time=   2.7s\n",
      "[CV] END max_depth=4, min_samples_split=30, n_estimators=200; total time=   3.7s\n",
      "[CV] END max_depth=4, min_samples_split=30, n_estimators=200; total time=   3.7s\n",
      "[CV] END max_depth=4, min_samples_split=30, n_estimators=200; total time=   3.8s\n",
      "[CV] END max_depth=4, min_samples_split=30, n_estimators=200; total time=   3.6s\n",
      "[CV] END max_depth=4, min_samples_split=30, n_estimators=200; total time=   3.5s\n",
      "[CV] END ..max_depth=6, min_samples_split=2, n_estimators=30; total time=   0.8s\n",
      "[CV] END ..max_depth=6, min_samples_split=2, n_estimators=30; total time=   0.8s\n",
      "[CV] END ..max_depth=6, min_samples_split=2, n_estimators=30; total time=   0.7s\n",
      "[CV] END ..max_depth=6, min_samples_split=2, n_estimators=30; total time=   0.8s\n",
      "[CV] END ..max_depth=6, min_samples_split=2, n_estimators=30; total time=   0.8s\n",
      "[CV] END ..max_depth=6, min_samples_split=2, n_estimators=40; total time=   1.0s\n",
      "[CV] END ..max_depth=6, min_samples_split=2, n_estimators=40; total time=   1.0s\n",
      "[CV] END ..max_depth=6, min_samples_split=2, n_estimators=40; total time=   1.1s\n",
      "[CV] END ..max_depth=6, min_samples_split=2, n_estimators=40; total time=   1.1s\n",
      "[CV] END ..max_depth=6, min_samples_split=2, n_estimators=40; total time=   1.0s\n",
      "[CV] END ..max_depth=6, min_samples_split=2, n_estimators=50; total time=   1.2s\n",
      "[CV] END ..max_depth=6, min_samples_split=2, n_estimators=50; total time=   1.3s\n",
      "[CV] END ..max_depth=6, min_samples_split=2, n_estimators=50; total time=   1.3s\n",
      "[CV] END ..max_depth=6, min_samples_split=2, n_estimators=50; total time=   1.3s\n",
      "[CV] END ..max_depth=6, min_samples_split=2, n_estimators=50; total time=   1.2s\n",
      "[CV] END ..max_depth=6, min_samples_split=2, n_estimators=80; total time=   2.0s\n",
      "[CV] END ..max_depth=6, min_samples_split=2, n_estimators=80; total time=   2.1s\n",
      "[CV] END ..max_depth=6, min_samples_split=2, n_estimators=80; total time=   2.1s\n",
      "[CV] END ..max_depth=6, min_samples_split=2, n_estimators=80; total time=   2.0s\n",
      "[CV] END ..max_depth=6, min_samples_split=2, n_estimators=80; total time=   2.0s\n",
      "[CV] END .max_depth=6, min_samples_split=2, n_estimators=100; total time=   2.7s\n",
      "[CV] END .max_depth=6, min_samples_split=2, n_estimators=100; total time=   2.8s\n",
      "[CV] END .max_depth=6, min_samples_split=2, n_estimators=100; total time=   2.7s\n",
      "[CV] END .max_depth=6, min_samples_split=2, n_estimators=100; total time=   2.7s\n",
      "[CV] END .max_depth=6, min_samples_split=2, n_estimators=100; total time=   2.6s\n",
      "[CV] END .max_depth=6, min_samples_split=2, n_estimators=150; total time=   3.7s\n",
      "[CV] END .max_depth=6, min_samples_split=2, n_estimators=150; total time=   3.7s\n",
      "[CV] END .max_depth=6, min_samples_split=2, n_estimators=150; total time=   3.8s\n",
      "[CV] END .max_depth=6, min_samples_split=2, n_estimators=150; total time=   3.8s\n",
      "[CV] END .max_depth=6, min_samples_split=2, n_estimators=150; total time=   3.7s\n",
      "[CV] END .max_depth=6, min_samples_split=2, n_estimators=200; total time=   5.1s\n",
      "[CV] END .max_depth=6, min_samples_split=2, n_estimators=200; total time=   5.4s\n",
      "[CV] END .max_depth=6, min_samples_split=2, n_estimators=200; total time=   5.1s\n",
      "[CV] END .max_depth=6, min_samples_split=2, n_estimators=200; total time=   5.0s\n",
      "[CV] END .max_depth=6, min_samples_split=2, n_estimators=200; total time=   4.9s\n",
      "[CV] END ..max_depth=6, min_samples_split=5, n_estimators=30; total time=   0.8s\n",
      "[CV] END ..max_depth=6, min_samples_split=5, n_estimators=30; total time=   0.8s\n",
      "[CV] END ..max_depth=6, min_samples_split=5, n_estimators=30; total time=   0.8s\n",
      "[CV] END ..max_depth=6, min_samples_split=5, n_estimators=30; total time=   0.8s\n",
      "[CV] END ..max_depth=6, min_samples_split=5, n_estimators=30; total time=   0.7s\n",
      "[CV] END ..max_depth=6, min_samples_split=5, n_estimators=40; total time=   0.9s\n",
      "[CV] END ..max_depth=6, min_samples_split=5, n_estimators=40; total time=   1.1s\n",
      "[CV] END ..max_depth=6, min_samples_split=5, n_estimators=40; total time=   1.0s\n",
      "[CV] END ..max_depth=6, min_samples_split=5, n_estimators=40; total time=   1.2s\n",
      "[CV] END ..max_depth=6, min_samples_split=5, n_estimators=40; total time=   1.1s\n",
      "[CV] END ..max_depth=6, min_samples_split=5, n_estimators=50; total time=   1.2s\n",
      "[CV] END ..max_depth=6, min_samples_split=5, n_estimators=50; total time=   1.3s\n",
      "[CV] END ..max_depth=6, min_samples_split=5, n_estimators=50; total time=   1.3s\n",
      "[CV] END ..max_depth=6, min_samples_split=5, n_estimators=50; total time=   1.4s\n",
      "[CV] END ..max_depth=6, min_samples_split=5, n_estimators=50; total time=   1.3s\n",
      "[CV] END ..max_depth=6, min_samples_split=5, n_estimators=80; total time=   2.0s\n",
      "[CV] END ..max_depth=6, min_samples_split=5, n_estimators=80; total time=   2.0s\n",
      "[CV] END ..max_depth=6, min_samples_split=5, n_estimators=80; total time=   2.0s\n",
      "[CV] END ..max_depth=6, min_samples_split=5, n_estimators=80; total time=   1.9s\n",
      "[CV] END ..max_depth=6, min_samples_split=5, n_estimators=80; total time=   2.0s\n",
      "[CV] END .max_depth=6, min_samples_split=5, n_estimators=100; total time=   2.5s\n",
      "[CV] END .max_depth=6, min_samples_split=5, n_estimators=100; total time=   2.6s\n",
      "[CV] END .max_depth=6, min_samples_split=5, n_estimators=100; total time=   2.4s\n",
      "[CV] END .max_depth=6, min_samples_split=5, n_estimators=100; total time=   2.5s\n",
      "[CV] END .max_depth=6, min_samples_split=5, n_estimators=100; total time=   2.4s\n",
      "[CV] END .max_depth=6, min_samples_split=5, n_estimators=150; total time=   3.7s\n",
      "[CV] END .max_depth=6, min_samples_split=5, n_estimators=150; total time=   3.6s\n",
      "[CV] END .max_depth=6, min_samples_split=5, n_estimators=150; total time=   3.7s\n",
      "[CV] END .max_depth=6, min_samples_split=5, n_estimators=150; total time=   3.8s\n",
      "[CV] END .max_depth=6, min_samples_split=5, n_estimators=150; total time=   3.7s\n",
      "[CV] END .max_depth=6, min_samples_split=5, n_estimators=200; total time=   4.9s\n",
      "[CV] END .max_depth=6, min_samples_split=5, n_estimators=200; total time=   5.0s\n",
      "[CV] END .max_depth=6, min_samples_split=5, n_estimators=200; total time=   4.9s\n",
      "[CV] END .max_depth=6, min_samples_split=5, n_estimators=200; total time=   4.9s\n",
      "[CV] END .max_depth=6, min_samples_split=5, n_estimators=200; total time=   4.9s\n",
      "[CV] END .max_depth=6, min_samples_split=10, n_estimators=30; total time=   0.8s\n",
      "[CV] END .max_depth=6, min_samples_split=10, n_estimators=30; total time=   0.8s\n",
      "[CV] END .max_depth=6, min_samples_split=10, n_estimators=30; total time=   0.8s\n",
      "[CV] END .max_depth=6, min_samples_split=10, n_estimators=30; total time=   0.8s\n",
      "[CV] END .max_depth=6, min_samples_split=10, n_estimators=30; total time=   0.8s\n",
      "[CV] END .max_depth=6, min_samples_split=10, n_estimators=40; total time=   1.0s\n",
      "[CV] END .max_depth=6, min_samples_split=10, n_estimators=40; total time=   1.0s\n",
      "[CV] END .max_depth=6, min_samples_split=10, n_estimators=40; total time=   1.1s\n",
      "[CV] END .max_depth=6, min_samples_split=10, n_estimators=40; total time=   1.0s\n",
      "[CV] END .max_depth=6, min_samples_split=10, n_estimators=40; total time=   1.0s\n",
      "[CV] END .max_depth=6, min_samples_split=10, n_estimators=50; total time=   1.3s\n",
      "[CV] END .max_depth=6, min_samples_split=10, n_estimators=50; total time=   1.2s\n",
      "[CV] END .max_depth=6, min_samples_split=10, n_estimators=50; total time=   1.3s\n",
      "[CV] END .max_depth=6, min_samples_split=10, n_estimators=50; total time=   1.5s\n",
      "[CV] END .max_depth=6, min_samples_split=10, n_estimators=50; total time=   1.4s\n",
      "[CV] END .max_depth=6, min_samples_split=10, n_estimators=80; total time=   2.0s\n",
      "[CV] END .max_depth=6, min_samples_split=10, n_estimators=80; total time=   2.0s\n",
      "[CV] END .max_depth=6, min_samples_split=10, n_estimators=80; total time=   1.9s\n",
      "[CV] END .max_depth=6, min_samples_split=10, n_estimators=80; total time=   2.2s\n",
      "[CV] END .max_depth=6, min_samples_split=10, n_estimators=80; total time=   2.0s\n",
      "[CV] END max_depth=6, min_samples_split=10, n_estimators=100; total time=   2.6s\n",
      "[CV] END max_depth=6, min_samples_split=10, n_estimators=100; total time=   2.8s\n",
      "[CV] END max_depth=6, min_samples_split=10, n_estimators=100; total time=   2.5s\n",
      "[CV] END max_depth=6, min_samples_split=10, n_estimators=100; total time=   2.5s\n",
      "[CV] END max_depth=6, min_samples_split=10, n_estimators=100; total time=   2.5s\n",
      "[CV] END max_depth=6, min_samples_split=10, n_estimators=150; total time=   3.8s\n",
      "[CV] END max_depth=6, min_samples_split=10, n_estimators=150; total time=   3.7s\n",
      "[CV] END max_depth=6, min_samples_split=10, n_estimators=150; total time=   3.6s\n",
      "[CV] END max_depth=6, min_samples_split=10, n_estimators=150; total time=   3.7s\n",
      "[CV] END max_depth=6, min_samples_split=10, n_estimators=150; total time=   3.7s\n",
      "[CV] END max_depth=6, min_samples_split=10, n_estimators=200; total time=   5.0s\n",
      "[CV] END max_depth=6, min_samples_split=10, n_estimators=200; total time=   4.8s\n",
      "[CV] END max_depth=6, min_samples_split=10, n_estimators=200; total time=   4.9s\n",
      "[CV] END max_depth=6, min_samples_split=10, n_estimators=200; total time=   4.9s\n",
      "[CV] END max_depth=6, min_samples_split=10, n_estimators=200; total time=   4.9s\n",
      "[CV] END .max_depth=6, min_samples_split=20, n_estimators=30; total time=   0.8s\n",
      "[CV] END .max_depth=6, min_samples_split=20, n_estimators=30; total time=   0.8s\n",
      "[CV] END .max_depth=6, min_samples_split=20, n_estimators=30; total time=   0.8s\n",
      "[CV] END .max_depth=6, min_samples_split=20, n_estimators=30; total time=   0.8s\n",
      "[CV] END .max_depth=6, min_samples_split=20, n_estimators=30; total time=   0.8s\n",
      "[CV] END .max_depth=6, min_samples_split=20, n_estimators=40; total time=   1.0s\n",
      "[CV] END .max_depth=6, min_samples_split=20, n_estimators=40; total time=   1.0s\n",
      "[CV] END .max_depth=6, min_samples_split=20, n_estimators=40; total time=   1.0s\n",
      "[CV] END .max_depth=6, min_samples_split=20, n_estimators=40; total time=   1.0s\n",
      "[CV] END .max_depth=6, min_samples_split=20, n_estimators=40; total time=   0.9s\n",
      "[CV] END .max_depth=6, min_samples_split=20, n_estimators=50; total time=   1.3s\n",
      "[CV] END .max_depth=6, min_samples_split=20, n_estimators=50; total time=   1.3s\n",
      "[CV] END .max_depth=6, min_samples_split=20, n_estimators=50; total time=   1.4s\n",
      "[CV] END .max_depth=6, min_samples_split=20, n_estimators=50; total time=   1.4s\n",
      "[CV] END .max_depth=6, min_samples_split=20, n_estimators=50; total time=   1.4s\n",
      "[CV] END .max_depth=6, min_samples_split=20, n_estimators=80; total time=   2.0s\n",
      "[CV] END .max_depth=6, min_samples_split=20, n_estimators=80; total time=   2.1s\n",
      "[CV] END .max_depth=6, min_samples_split=20, n_estimators=80; total time=   2.1s\n",
      "[CV] END .max_depth=6, min_samples_split=20, n_estimators=80; total time=   2.0s\n",
      "[CV] END .max_depth=6, min_samples_split=20, n_estimators=80; total time=   2.0s\n",
      "[CV] END max_depth=6, min_samples_split=20, n_estimators=100; total time=   2.6s\n",
      "[CV] END max_depth=6, min_samples_split=20, n_estimators=100; total time=   2.4s\n",
      "[CV] END max_depth=6, min_samples_split=20, n_estimators=100; total time=   2.6s\n",
      "[CV] END max_depth=6, min_samples_split=20, n_estimators=100; total time=   2.7s\n",
      "[CV] END max_depth=6, min_samples_split=20, n_estimators=100; total time=   2.7s\n",
      "[CV] END max_depth=6, min_samples_split=20, n_estimators=150; total time=   4.0s\n",
      "[CV] END max_depth=6, min_samples_split=20, n_estimators=150; total time=   4.0s\n",
      "[CV] END max_depth=6, min_samples_split=20, n_estimators=150; total time=   3.9s\n",
      "[CV] END max_depth=6, min_samples_split=20, n_estimators=150; total time=   4.1s\n",
      "[CV] END max_depth=6, min_samples_split=20, n_estimators=150; total time=   3.8s\n",
      "[CV] END max_depth=6, min_samples_split=20, n_estimators=200; total time=   5.2s\n",
      "[CV] END max_depth=6, min_samples_split=20, n_estimators=200; total time=   5.4s\n",
      "[CV] END max_depth=6, min_samples_split=20, n_estimators=200; total time=   5.2s\n",
      "[CV] END max_depth=6, min_samples_split=20, n_estimators=200; total time=   5.2s\n",
      "[CV] END max_depth=6, min_samples_split=20, n_estimators=200; total time=   5.0s\n",
      "[CV] END .max_depth=6, min_samples_split=30, n_estimators=30; total time=   0.9s\n",
      "[CV] END .max_depth=6, min_samples_split=30, n_estimators=30; total time=   0.8s\n",
      "[CV] END .max_depth=6, min_samples_split=30, n_estimators=30; total time=   0.8s\n",
      "[CV] END .max_depth=6, min_samples_split=30, n_estimators=30; total time=   0.8s\n",
      "[CV] END .max_depth=6, min_samples_split=30, n_estimators=30; total time=   0.9s\n",
      "[CV] END .max_depth=6, min_samples_split=30, n_estimators=40; total time=   1.1s\n",
      "[CV] END .max_depth=6, min_samples_split=30, n_estimators=40; total time=   1.0s\n",
      "[CV] END .max_depth=6, min_samples_split=30, n_estimators=40; total time=   1.1s\n",
      "[CV] END .max_depth=6, min_samples_split=30, n_estimators=40; total time=   1.1s\n",
      "[CV] END .max_depth=6, min_samples_split=30, n_estimators=40; total time=   1.1s\n",
      "[CV] END .max_depth=6, min_samples_split=30, n_estimators=50; total time=   1.3s\n",
      "[CV] END .max_depth=6, min_samples_split=30, n_estimators=50; total time=   1.3s\n",
      "[CV] END .max_depth=6, min_samples_split=30, n_estimators=50; total time=   1.2s\n",
      "[CV] END .max_depth=6, min_samples_split=30, n_estimators=50; total time=   1.3s\n",
      "[CV] END .max_depth=6, min_samples_split=30, n_estimators=50; total time=   1.3s\n",
      "[CV] END .max_depth=6, min_samples_split=30, n_estimators=80; total time=   2.1s\n",
      "[CV] END .max_depth=6, min_samples_split=30, n_estimators=80; total time=   2.1s\n",
      "[CV] END .max_depth=6, min_samples_split=30, n_estimators=80; total time=   2.0s\n",
      "[CV] END .max_depth=6, min_samples_split=30, n_estimators=80; total time=   2.0s\n",
      "[CV] END .max_depth=6, min_samples_split=30, n_estimators=80; total time=   2.0s\n",
      "[CV] END max_depth=6, min_samples_split=30, n_estimators=100; total time=   2.5s\n",
      "[CV] END max_depth=6, min_samples_split=30, n_estimators=100; total time=   2.5s\n",
      "[CV] END max_depth=6, min_samples_split=30, n_estimators=100; total time=   2.6s\n",
      "[CV] END max_depth=6, min_samples_split=30, n_estimators=100; total time=   2.5s\n",
      "[CV] END max_depth=6, min_samples_split=30, n_estimators=100; total time=   2.6s\n",
      "[CV] END max_depth=6, min_samples_split=30, n_estimators=150; total time=   3.7s\n",
      "[CV] END max_depth=6, min_samples_split=30, n_estimators=150; total time=   3.7s\n",
      "[CV] END max_depth=6, min_samples_split=30, n_estimators=150; total time=   3.7s\n",
      "[CV] END max_depth=6, min_samples_split=30, n_estimators=150; total time=   3.8s\n",
      "[CV] END max_depth=6, min_samples_split=30, n_estimators=150; total time=   3.7s\n",
      "[CV] END max_depth=6, min_samples_split=30, n_estimators=200; total time=   5.0s\n",
      "[CV] END max_depth=6, min_samples_split=30, n_estimators=200; total time=   5.0s\n",
      "[CV] END max_depth=6, min_samples_split=30, n_estimators=200; total time=   4.9s\n",
      "[CV] END max_depth=6, min_samples_split=30, n_estimators=200; total time=   4.8s\n",
      "[CV] END max_depth=6, min_samples_split=30, n_estimators=200; total time=   4.9s\n",
      "[CV] END ..max_depth=8, min_samples_split=2, n_estimators=30; total time=   1.0s\n",
      "[CV] END ..max_depth=8, min_samples_split=2, n_estimators=30; total time=   1.1s\n",
      "[CV] END ..max_depth=8, min_samples_split=2, n_estimators=30; total time=   1.1s\n",
      "[CV] END ..max_depth=8, min_samples_split=2, n_estimators=30; total time=   1.0s\n",
      "[CV] END ..max_depth=8, min_samples_split=2, n_estimators=30; total time=   1.0s\n",
      "[CV] END ..max_depth=8, min_samples_split=2, n_estimators=40; total time=   1.4s\n",
      "[CV] END ..max_depth=8, min_samples_split=2, n_estimators=40; total time=   1.4s\n",
      "[CV] END ..max_depth=8, min_samples_split=2, n_estimators=40; total time=   1.5s\n",
      "[CV] END ..max_depth=8, min_samples_split=2, n_estimators=40; total time=   1.5s\n",
      "[CV] END ..max_depth=8, min_samples_split=2, n_estimators=40; total time=   1.4s\n",
      "[CV] END ..max_depth=8, min_samples_split=2, n_estimators=50; total time=   1.9s\n",
      "[CV] END ..max_depth=8, min_samples_split=2, n_estimators=50; total time=   1.8s\n",
      "[CV] END ..max_depth=8, min_samples_split=2, n_estimators=50; total time=   1.9s\n",
      "[CV] END ..max_depth=8, min_samples_split=2, n_estimators=50; total time=   1.8s\n",
      "[CV] END ..max_depth=8, min_samples_split=2, n_estimators=50; total time=   1.9s\n",
      "[CV] END ..max_depth=8, min_samples_split=2, n_estimators=80; total time=   2.9s\n",
      "[CV] END ..max_depth=8, min_samples_split=2, n_estimators=80; total time=   3.0s\n",
      "[CV] END ..max_depth=8, min_samples_split=2, n_estimators=80; total time=   2.8s\n",
      "[CV] END ..max_depth=8, min_samples_split=2, n_estimators=80; total time=   2.7s\n",
      "[CV] END ..max_depth=8, min_samples_split=2, n_estimators=80; total time=   2.9s\n",
      "[CV] END .max_depth=8, min_samples_split=2, n_estimators=100; total time=   3.5s\n",
      "[CV] END .max_depth=8, min_samples_split=2, n_estimators=100; total time=   3.6s\n",
      "[CV] END .max_depth=8, min_samples_split=2, n_estimators=100; total time=   3.5s\n",
      "[CV] END .max_depth=8, min_samples_split=2, n_estimators=100; total time=   3.4s\n",
      "[CV] END .max_depth=8, min_samples_split=2, n_estimators=100; total time=   3.4s\n",
      "[CV] END .max_depth=8, min_samples_split=2, n_estimators=150; total time=   5.0s\n",
      "[CV] END .max_depth=8, min_samples_split=2, n_estimators=150; total time=   5.1s\n",
      "[CV] END .max_depth=8, min_samples_split=2, n_estimators=150; total time=   5.2s\n",
      "[CV] END .max_depth=8, min_samples_split=2, n_estimators=150; total time=   5.3s\n",
      "[CV] END .max_depth=8, min_samples_split=2, n_estimators=150; total time=   5.1s\n",
      "[CV] END .max_depth=8, min_samples_split=2, n_estimators=200; total time=   6.8s\n",
      "[CV] END .max_depth=8, min_samples_split=2, n_estimators=200; total time=   6.8s\n",
      "[CV] END .max_depth=8, min_samples_split=2, n_estimators=200; total time=   6.7s\n",
      "[CV] END .max_depth=8, min_samples_split=2, n_estimators=200; total time=   6.8s\n",
      "[CV] END .max_depth=8, min_samples_split=2, n_estimators=200; total time=   6.7s\n",
      "[CV] END ..max_depth=8, min_samples_split=5, n_estimators=30; total time=   1.1s\n",
      "[CV] END ..max_depth=8, min_samples_split=5, n_estimators=30; total time=   1.1s\n",
      "[CV] END ..max_depth=8, min_samples_split=5, n_estimators=30; total time=   1.0s\n",
      "[CV] END ..max_depth=8, min_samples_split=5, n_estimators=30; total time=   1.0s\n",
      "[CV] END ..max_depth=8, min_samples_split=5, n_estimators=30; total time=   1.1s\n",
      "[CV] END ..max_depth=8, min_samples_split=5, n_estimators=40; total time=   1.4s\n",
      "[CV] END ..max_depth=8, min_samples_split=5, n_estimators=40; total time=   1.4s\n",
      "[CV] END ..max_depth=8, min_samples_split=5, n_estimators=40; total time=   1.4s\n",
      "[CV] END ..max_depth=8, min_samples_split=5, n_estimators=40; total time=   1.3s\n",
      "[CV] END ..max_depth=8, min_samples_split=5, n_estimators=40; total time=   1.4s\n",
      "[CV] END ..max_depth=8, min_samples_split=5, n_estimators=50; total time=   1.7s\n",
      "[CV] END ..max_depth=8, min_samples_split=5, n_estimators=50; total time=   1.7s\n",
      "[CV] END ..max_depth=8, min_samples_split=5, n_estimators=50; total time=   1.8s\n",
      "[CV] END ..max_depth=8, min_samples_split=5, n_estimators=50; total time=   1.8s\n",
      "[CV] END ..max_depth=8, min_samples_split=5, n_estimators=50; total time=   1.8s\n",
      "[CV] END ..max_depth=8, min_samples_split=5, n_estimators=80; total time=   2.8s\n",
      "[CV] END ..max_depth=8, min_samples_split=5, n_estimators=80; total time=   2.9s\n",
      "[CV] END ..max_depth=8, min_samples_split=5, n_estimators=80; total time=   2.9s\n",
      "[CV] END ..max_depth=8, min_samples_split=5, n_estimators=80; total time=   3.0s\n",
      "[CV] END ..max_depth=8, min_samples_split=5, n_estimators=80; total time=   3.0s\n",
      "[CV] END .max_depth=8, min_samples_split=5, n_estimators=100; total time=   3.6s\n",
      "[CV] END .max_depth=8, min_samples_split=5, n_estimators=100; total time=   3.7s\n",
      "[CV] END .max_depth=8, min_samples_split=5, n_estimators=100; total time=   3.5s\n",
      "[CV] END .max_depth=8, min_samples_split=5, n_estimators=100; total time=   3.6s\n",
      "[CV] END .max_depth=8, min_samples_split=5, n_estimators=100; total time=   3.6s\n",
      "[CV] END .max_depth=8, min_samples_split=5, n_estimators=150; total time=   5.3s\n",
      "[CV] END .max_depth=8, min_samples_split=5, n_estimators=150; total time=   5.3s\n",
      "[CV] END .max_depth=8, min_samples_split=5, n_estimators=150; total time=   5.2s\n",
      "[CV] END .max_depth=8, min_samples_split=5, n_estimators=150; total time=   5.4s\n",
      "[CV] END .max_depth=8, min_samples_split=5, n_estimators=150; total time=   5.4s\n",
      "[CV] END .max_depth=8, min_samples_split=5, n_estimators=200; total time=   7.1s\n",
      "[CV] END .max_depth=8, min_samples_split=5, n_estimators=200; total time=   7.2s\n",
      "[CV] END .max_depth=8, min_samples_split=5, n_estimators=200; total time=   7.1s\n",
      "[CV] END .max_depth=8, min_samples_split=5, n_estimators=200; total time=   7.2s\n",
      "[CV] END .max_depth=8, min_samples_split=5, n_estimators=200; total time=   7.2s\n",
      "[CV] END .max_depth=8, min_samples_split=10, n_estimators=30; total time=   1.1s\n",
      "[CV] END .max_depth=8, min_samples_split=10, n_estimators=30; total time=   1.1s\n",
      "[CV] END .max_depth=8, min_samples_split=10, n_estimators=30; total time=   1.1s\n",
      "[CV] END .max_depth=8, min_samples_split=10, n_estimators=30; total time=   1.1s\n",
      "[CV] END .max_depth=8, min_samples_split=10, n_estimators=30; total time=   1.1s\n",
      "[CV] END .max_depth=8, min_samples_split=10, n_estimators=40; total time=   1.5s\n",
      "[CV] END .max_depth=8, min_samples_split=10, n_estimators=40; total time=   1.5s\n",
      "[CV] END .max_depth=8, min_samples_split=10, n_estimators=40; total time=   1.5s\n",
      "[CV] END .max_depth=8, min_samples_split=10, n_estimators=40; total time=   1.5s\n",
      "[CV] END .max_depth=8, min_samples_split=10, n_estimators=40; total time=   1.5s\n",
      "[CV] END .max_depth=8, min_samples_split=10, n_estimators=50; total time=   1.9s\n",
      "[CV] END .max_depth=8, min_samples_split=10, n_estimators=50; total time=   1.9s\n",
      "[CV] END .max_depth=8, min_samples_split=10, n_estimators=50; total time=   1.9s\n",
      "[CV] END .max_depth=8, min_samples_split=10, n_estimators=50; total time=   1.8s\n",
      "[CV] END .max_depth=8, min_samples_split=10, n_estimators=50; total time=   1.9s\n",
      "[CV] END .max_depth=8, min_samples_split=10, n_estimators=80; total time=   3.0s\n",
      "[CV] END .max_depth=8, min_samples_split=10, n_estimators=80; total time=   2.8s\n",
      "[CV] END .max_depth=8, min_samples_split=10, n_estimators=80; total time=   2.8s\n",
      "[CV] END .max_depth=8, min_samples_split=10, n_estimators=80; total time=   2.9s\n",
      "[CV] END .max_depth=8, min_samples_split=10, n_estimators=80; total time=   3.0s\n",
      "[CV] END max_depth=8, min_samples_split=10, n_estimators=100; total time=   3.6s\n",
      "[CV] END max_depth=8, min_samples_split=10, n_estimators=100; total time=   3.5s\n",
      "[CV] END max_depth=8, min_samples_split=10, n_estimators=100; total time=   3.4s\n",
      "[CV] END max_depth=8, min_samples_split=10, n_estimators=100; total time=   3.4s\n",
      "[CV] END max_depth=8, min_samples_split=10, n_estimators=100; total time=   3.4s\n",
      "[CV] END max_depth=8, min_samples_split=10, n_estimators=150; total time=   5.1s\n",
      "[CV] END max_depth=8, min_samples_split=10, n_estimators=150; total time=   4.9s\n",
      "[CV] END max_depth=8, min_samples_split=10, n_estimators=150; total time=   5.2s\n",
      "[CV] END max_depth=8, min_samples_split=10, n_estimators=150; total time=   5.3s\n",
      "[CV] END max_depth=8, min_samples_split=10, n_estimators=150; total time=   5.4s\n",
      "[CV] END max_depth=8, min_samples_split=10, n_estimators=200; total time=   6.9s\n",
      "[CV] END max_depth=8, min_samples_split=10, n_estimators=200; total time=   6.9s\n",
      "[CV] END max_depth=8, min_samples_split=10, n_estimators=200; total time=   6.7s\n",
      "[CV] END max_depth=8, min_samples_split=10, n_estimators=200; total time=   6.8s\n",
      "[CV] END max_depth=8, min_samples_split=10, n_estimators=200; total time=   7.3s\n",
      "[CV] END .max_depth=8, min_samples_split=20, n_estimators=30; total time=   1.1s\n",
      "[CV] END .max_depth=8, min_samples_split=20, n_estimators=30; total time=   1.1s\n",
      "[CV] END .max_depth=8, min_samples_split=20, n_estimators=30; total time=   1.1s\n",
      "[CV] END .max_depth=8, min_samples_split=20, n_estimators=30; total time=   1.1s\n",
      "[CV] END .max_depth=8, min_samples_split=20, n_estimators=30; total time=   1.1s\n",
      "[CV] END .max_depth=8, min_samples_split=20, n_estimators=40; total time=   1.5s\n",
      "[CV] END .max_depth=8, min_samples_split=20, n_estimators=40; total time=   1.5s\n",
      "[CV] END .max_depth=8, min_samples_split=20, n_estimators=40; total time=   1.4s\n",
      "[CV] END .max_depth=8, min_samples_split=20, n_estimators=40; total time=   1.4s\n",
      "[CV] END .max_depth=8, min_samples_split=20, n_estimators=40; total time=   1.4s\n",
      "[CV] END .max_depth=8, min_samples_split=20, n_estimators=50; total time=   1.8s\n",
      "[CV] END .max_depth=8, min_samples_split=20, n_estimators=50; total time=   1.8s\n",
      "[CV] END .max_depth=8, min_samples_split=20, n_estimators=50; total time=   1.7s\n",
      "[CV] END .max_depth=8, min_samples_split=20, n_estimators=50; total time=   1.7s\n",
      "[CV] END .max_depth=8, min_samples_split=20, n_estimators=50; total time=   1.7s\n",
      "[CV] END .max_depth=8, min_samples_split=20, n_estimators=80; total time=   2.7s\n",
      "[CV] END .max_depth=8, min_samples_split=20, n_estimators=80; total time=   2.6s\n",
      "[CV] END .max_depth=8, min_samples_split=20, n_estimators=80; total time=   2.7s\n",
      "[CV] END .max_depth=8, min_samples_split=20, n_estimators=80; total time=   2.7s\n",
      "[CV] END .max_depth=8, min_samples_split=20, n_estimators=80; total time=   2.7s\n",
      "[CV] END max_depth=8, min_samples_split=20, n_estimators=100; total time=   3.3s\n",
      "[CV] END max_depth=8, min_samples_split=20, n_estimators=100; total time=   3.4s\n",
      "[CV] END max_depth=8, min_samples_split=20, n_estimators=100; total time=   3.4s\n",
      "[CV] END max_depth=8, min_samples_split=20, n_estimators=100; total time=   3.3s\n",
      "[CV] END max_depth=8, min_samples_split=20, n_estimators=100; total time=   3.3s\n",
      "[CV] END max_depth=8, min_samples_split=20, n_estimators=150; total time=   5.0s\n",
      "[CV] END max_depth=8, min_samples_split=20, n_estimators=150; total time=   5.0s\n",
      "[CV] END max_depth=8, min_samples_split=20, n_estimators=150; total time=   5.0s\n",
      "[CV] END max_depth=8, min_samples_split=20, n_estimators=150; total time=   4.9s\n",
      "[CV] END max_depth=8, min_samples_split=20, n_estimators=150; total time=   4.9s\n",
      "[CV] END max_depth=8, min_samples_split=20, n_estimators=200; total time=   6.5s\n",
      "[CV] END max_depth=8, min_samples_split=20, n_estimators=200; total time=   6.7s\n",
      "[CV] END max_depth=8, min_samples_split=20, n_estimators=200; total time=   6.6s\n",
      "[CV] END max_depth=8, min_samples_split=20, n_estimators=200; total time=   6.5s\n",
      "[CV] END max_depth=8, min_samples_split=20, n_estimators=200; total time=   6.4s\n",
      "[CV] END .max_depth=8, min_samples_split=30, n_estimators=30; total time=   1.1s\n",
      "[CV] END .max_depth=8, min_samples_split=30, n_estimators=30; total time=   1.0s\n",
      "[CV] END .max_depth=8, min_samples_split=30, n_estimators=30; total time=   1.0s\n",
      "[CV] END .max_depth=8, min_samples_split=30, n_estimators=30; total time=   1.0s\n",
      "[CV] END .max_depth=8, min_samples_split=30, n_estimators=30; total time=   1.0s\n",
      "[CV] END .max_depth=8, min_samples_split=30, n_estimators=40; total time=   1.3s\n",
      "[CV] END .max_depth=8, min_samples_split=30, n_estimators=40; total time=   1.4s\n",
      "[CV] END .max_depth=8, min_samples_split=30, n_estimators=40; total time=   1.3s\n",
      "[CV] END .max_depth=8, min_samples_split=30, n_estimators=40; total time=   1.3s\n",
      "[CV] END .max_depth=8, min_samples_split=30, n_estimators=40; total time=   1.4s\n",
      "[CV] END .max_depth=8, min_samples_split=30, n_estimators=50; total time=   1.8s\n",
      "[CV] END .max_depth=8, min_samples_split=30, n_estimators=50; total time=   1.7s\n",
      "[CV] END .max_depth=8, min_samples_split=30, n_estimators=50; total time=   1.6s\n",
      "[CV] END .max_depth=8, min_samples_split=30, n_estimators=50; total time=   1.8s\n",
      "[CV] END .max_depth=8, min_samples_split=30, n_estimators=50; total time=   1.6s\n",
      "[CV] END .max_depth=8, min_samples_split=30, n_estimators=80; total time=   2.6s\n",
      "[CV] END .max_depth=8, min_samples_split=30, n_estimators=80; total time=   2.6s\n",
      "[CV] END .max_depth=8, min_samples_split=30, n_estimators=80; total time=   2.7s\n",
      "[CV] END .max_depth=8, min_samples_split=30, n_estimators=80; total time=   2.6s\n",
      "[CV] END .max_depth=8, min_samples_split=30, n_estimators=80; total time=   2.7s\n",
      "[CV] END max_depth=8, min_samples_split=30, n_estimators=100; total time=   3.4s\n",
      "[CV] END max_depth=8, min_samples_split=30, n_estimators=100; total time=   3.4s\n",
      "[CV] END max_depth=8, min_samples_split=30, n_estimators=100; total time=   3.3s\n",
      "[CV] END max_depth=8, min_samples_split=30, n_estimators=100; total time=   3.2s\n",
      "[CV] END max_depth=8, min_samples_split=30, n_estimators=100; total time=   3.4s\n",
      "[CV] END max_depth=8, min_samples_split=30, n_estimators=150; total time=   4.9s\n",
      "[CV] END max_depth=8, min_samples_split=30, n_estimators=150; total time=   4.9s\n",
      "[CV] END max_depth=8, min_samples_split=30, n_estimators=150; total time=   4.9s\n",
      "[CV] END max_depth=8, min_samples_split=30, n_estimators=150; total time=   4.8s\n",
      "[CV] END max_depth=8, min_samples_split=30, n_estimators=150; total time=   4.9s\n",
      "[CV] END max_depth=8, min_samples_split=30, n_estimators=200; total time=   6.6s\n",
      "[CV] END max_depth=8, min_samples_split=30, n_estimators=200; total time=   6.7s\n",
      "[CV] END max_depth=8, min_samples_split=30, n_estimators=200; total time=   6.5s\n",
      "[CV] END max_depth=8, min_samples_split=30, n_estimators=200; total time=   6.6s\n",
      "[CV] END max_depth=8, min_samples_split=30, n_estimators=200; total time=   6.4s\n",
      "[CV] END .max_depth=10, min_samples_split=2, n_estimators=30; total time=   1.4s\n",
      "[CV] END .max_depth=10, min_samples_split=2, n_estimators=30; total time=   1.4s\n",
      "[CV] END .max_depth=10, min_samples_split=2, n_estimators=30; total time=   1.2s\n",
      "[CV] END .max_depth=10, min_samples_split=2, n_estimators=30; total time=   1.4s\n",
      "[CV] END .max_depth=10, min_samples_split=2, n_estimators=30; total time=   1.4s\n",
      "[CV] END .max_depth=10, min_samples_split=2, n_estimators=40; total time=   1.9s\n",
      "[CV] END .max_depth=10, min_samples_split=2, n_estimators=40; total time=   1.9s\n",
      "[CV] END .max_depth=10, min_samples_split=2, n_estimators=40; total time=   1.9s\n",
      "[CV] END .max_depth=10, min_samples_split=2, n_estimators=40; total time=   1.9s\n",
      "[CV] END .max_depth=10, min_samples_split=2, n_estimators=40; total time=   1.9s\n",
      "[CV] END .max_depth=10, min_samples_split=2, n_estimators=50; total time=   2.3s\n",
      "[CV] END .max_depth=10, min_samples_split=2, n_estimators=50; total time=   2.4s\n",
      "[CV] END .max_depth=10, min_samples_split=2, n_estimators=50; total time=   2.4s\n",
      "[CV] END .max_depth=10, min_samples_split=2, n_estimators=50; total time=   2.2s\n",
      "[CV] END .max_depth=10, min_samples_split=2, n_estimators=50; total time=   2.3s\n",
      "[CV] END .max_depth=10, min_samples_split=2, n_estimators=80; total time=   4.1s\n",
      "[CV] END .max_depth=10, min_samples_split=2, n_estimators=80; total time=   4.2s\n",
      "[CV] END .max_depth=10, min_samples_split=2, n_estimators=80; total time=   4.1s\n",
      "[CV] END .max_depth=10, min_samples_split=2, n_estimators=80; total time=   4.0s\n",
      "[CV] END .max_depth=10, min_samples_split=2, n_estimators=80; total time=   3.9s\n",
      "[CV] END max_depth=10, min_samples_split=2, n_estimators=100; total time=   4.9s\n",
      "[CV] END max_depth=10, min_samples_split=2, n_estimators=100; total time=   5.1s\n",
      "[CV] END max_depth=10, min_samples_split=2, n_estimators=100; total time=   5.0s\n",
      "[CV] END max_depth=10, min_samples_split=2, n_estimators=100; total time=   5.0s\n",
      "[CV] END max_depth=10, min_samples_split=2, n_estimators=100; total time=   4.6s\n",
      "[CV] END max_depth=10, min_samples_split=2, n_estimators=150; total time=   7.1s\n",
      "[CV] END max_depth=10, min_samples_split=2, n_estimators=150; total time=   6.9s\n",
      "[CV] END max_depth=10, min_samples_split=2, n_estimators=150; total time=   6.9s\n",
      "[CV] END max_depth=10, min_samples_split=2, n_estimators=150; total time=   7.0s\n",
      "[CV] END max_depth=10, min_samples_split=2, n_estimators=150; total time=   6.9s\n",
      "[CV] END max_depth=10, min_samples_split=2, n_estimators=200; total time=   9.0s\n",
      "[CV] END max_depth=10, min_samples_split=2, n_estimators=200; total time=   9.5s\n",
      "[CV] END max_depth=10, min_samples_split=2, n_estimators=200; total time=   9.3s\n",
      "[CV] END max_depth=10, min_samples_split=2, n_estimators=200; total time=   9.2s\n",
      "[CV] END max_depth=10, min_samples_split=2, n_estimators=200; total time=   9.1s\n",
      "[CV] END .max_depth=10, min_samples_split=5, n_estimators=30; total time=   1.4s\n",
      "[CV] END .max_depth=10, min_samples_split=5, n_estimators=30; total time=   1.4s\n",
      "[CV] END .max_depth=10, min_samples_split=5, n_estimators=30; total time=   1.4s\n",
      "[CV] END .max_depth=10, min_samples_split=5, n_estimators=30; total time=   1.4s\n",
      "[CV] END .max_depth=10, min_samples_split=5, n_estimators=30; total time=   1.4s\n",
      "[CV] END .max_depth=10, min_samples_split=5, n_estimators=40; total time=   1.9s\n",
      "[CV] END .max_depth=10, min_samples_split=5, n_estimators=40; total time=   1.9s\n",
      "[CV] END .max_depth=10, min_samples_split=5, n_estimators=40; total time=   1.8s\n",
      "[CV] END .max_depth=10, min_samples_split=5, n_estimators=40; total time=   1.9s\n",
      "[CV] END .max_depth=10, min_samples_split=5, n_estimators=40; total time=   1.8s\n",
      "[CV] END .max_depth=10, min_samples_split=5, n_estimators=50; total time=   2.3s\n",
      "[CV] END .max_depth=10, min_samples_split=5, n_estimators=50; total time=   2.3s\n",
      "[CV] END .max_depth=10, min_samples_split=5, n_estimators=50; total time=   2.3s\n",
      "[CV] END .max_depth=10, min_samples_split=5, n_estimators=50; total time=   2.3s\n",
      "[CV] END .max_depth=10, min_samples_split=5, n_estimators=50; total time=   2.3s\n",
      "[CV] END .max_depth=10, min_samples_split=5, n_estimators=80; total time=   3.6s\n",
      "[CV] END .max_depth=10, min_samples_split=5, n_estimators=80; total time=   3.7s\n",
      "[CV] END .max_depth=10, min_samples_split=5, n_estimators=80; total time=   3.6s\n",
      "[CV] END .max_depth=10, min_samples_split=5, n_estimators=80; total time=   3.6s\n",
      "[CV] END .max_depth=10, min_samples_split=5, n_estimators=80; total time=   3.6s\n",
      "[CV] END max_depth=10, min_samples_split=5, n_estimators=100; total time=   4.5s\n",
      "[CV] END max_depth=10, min_samples_split=5, n_estimators=100; total time=   4.5s\n",
      "[CV] END max_depth=10, min_samples_split=5, n_estimators=100; total time=   4.5s\n",
      "[CV] END max_depth=10, min_samples_split=5, n_estimators=100; total time=   4.4s\n",
      "[CV] END max_depth=10, min_samples_split=5, n_estimators=100; total time=   4.6s\n",
      "[CV] END max_depth=10, min_samples_split=5, n_estimators=150; total time=   6.8s\n",
      "[CV] END max_depth=10, min_samples_split=5, n_estimators=150; total time=   7.3s\n",
      "[CV] END max_depth=10, min_samples_split=5, n_estimators=150; total time=   6.8s\n",
      "[CV] END max_depth=10, min_samples_split=5, n_estimators=150; total time=   7.3s\n",
      "[CV] END max_depth=10, min_samples_split=5, n_estimators=150; total time=   7.2s\n",
      "[CV] END max_depth=10, min_samples_split=5, n_estimators=200; total time=   9.7s\n",
      "[CV] END max_depth=10, min_samples_split=5, n_estimators=200; total time=  10.0s\n",
      "[CV] END max_depth=10, min_samples_split=5, n_estimators=200; total time=  10.0s\n",
      "[CV] END max_depth=10, min_samples_split=5, n_estimators=200; total time=   9.4s\n",
      "[CV] END max_depth=10, min_samples_split=5, n_estimators=200; total time=   9.8s\n",
      "[CV] END max_depth=10, min_samples_split=10, n_estimators=30; total time=   1.5s\n",
      "[CV] END max_depth=10, min_samples_split=10, n_estimators=30; total time=   1.8s\n",
      "[CV] END max_depth=10, min_samples_split=10, n_estimators=30; total time=   1.6s\n",
      "[CV] END max_depth=10, min_samples_split=10, n_estimators=30; total time=   1.5s\n",
      "[CV] END max_depth=10, min_samples_split=10, n_estimators=30; total time=   1.5s\n",
      "[CV] END max_depth=10, min_samples_split=10, n_estimators=40; total time=   2.0s\n",
      "[CV] END max_depth=10, min_samples_split=10, n_estimators=40; total time=   2.0s\n",
      "[CV] END max_depth=10, min_samples_split=10, n_estimators=40; total time=   2.0s\n",
      "[CV] END max_depth=10, min_samples_split=10, n_estimators=40; total time=   1.9s\n",
      "[CV] END max_depth=10, min_samples_split=10, n_estimators=40; total time=   2.0s\n",
      "[CV] END max_depth=10, min_samples_split=10, n_estimators=50; total time=   2.4s\n",
      "[CV] END max_depth=10, min_samples_split=10, n_estimators=50; total time=   2.5s\n",
      "[CV] END max_depth=10, min_samples_split=10, n_estimators=50; total time=   2.6s\n",
      "[CV] END max_depth=10, min_samples_split=10, n_estimators=50; total time=   2.6s\n",
      "[CV] END max_depth=10, min_samples_split=10, n_estimators=50; total time=   2.4s\n",
      "[CV] END max_depth=10, min_samples_split=10, n_estimators=80; total time=   4.0s\n",
      "[CV] END max_depth=10, min_samples_split=10, n_estimators=80; total time=   4.2s\n",
      "[CV] END max_depth=10, min_samples_split=10, n_estimators=80; total time=   3.9s\n",
      "[CV] END max_depth=10, min_samples_split=10, n_estimators=80; total time=   3.8s\n",
      "[CV] END max_depth=10, min_samples_split=10, n_estimators=80; total time=   3.9s\n",
      "[CV] END max_depth=10, min_samples_split=10, n_estimators=100; total time=   4.7s\n",
      "[CV] END max_depth=10, min_samples_split=10, n_estimators=100; total time=   4.8s\n",
      "[CV] END max_depth=10, min_samples_split=10, n_estimators=100; total time=   4.7s\n",
      "[CV] END max_depth=10, min_samples_split=10, n_estimators=100; total time=   4.8s\n",
      "[CV] END max_depth=10, min_samples_split=10, n_estimators=100; total time=   4.9s\n",
      "[CV] END max_depth=10, min_samples_split=10, n_estimators=150; total time=   6.9s\n",
      "[CV] END max_depth=10, min_samples_split=10, n_estimators=150; total time=   7.2s\n",
      "[CV] END max_depth=10, min_samples_split=10, n_estimators=150; total time=   7.2s\n",
      "[CV] END max_depth=10, min_samples_split=10, n_estimators=150; total time=   7.1s\n",
      "[CV] END max_depth=10, min_samples_split=10, n_estimators=150; total time=   7.5s\n",
      "[CV] END max_depth=10, min_samples_split=10, n_estimators=200; total time=   9.9s\n",
      "[CV] END max_depth=10, min_samples_split=10, n_estimators=200; total time=   9.2s\n",
      "[CV] END max_depth=10, min_samples_split=10, n_estimators=200; total time=   9.0s\n",
      "[CV] END max_depth=10, min_samples_split=10, n_estimators=200; total time=   9.1s\n",
      "[CV] END max_depth=10, min_samples_split=10, n_estimators=200; total time=   9.4s\n",
      "[CV] END max_depth=10, min_samples_split=20, n_estimators=30; total time=   1.4s\n",
      "[CV] END max_depth=10, min_samples_split=20, n_estimators=30; total time=   1.6s\n",
      "[CV] END max_depth=10, min_samples_split=20, n_estimators=30; total time=   1.5s\n",
      "[CV] END max_depth=10, min_samples_split=20, n_estimators=30; total time=   1.5s\n",
      "[CV] END max_depth=10, min_samples_split=20, n_estimators=30; total time=   1.5s\n",
      "[CV] END max_depth=10, min_samples_split=20, n_estimators=40; total time=   1.9s\n",
      "[CV] END max_depth=10, min_samples_split=20, n_estimators=40; total time=   1.9s\n",
      "[CV] END max_depth=10, min_samples_split=20, n_estimators=40; total time=   2.0s\n",
      "[CV] END max_depth=10, min_samples_split=20, n_estimators=40; total time=   1.9s\n",
      "[CV] END max_depth=10, min_samples_split=20, n_estimators=40; total time=   1.8s\n",
      "[CV] END max_depth=10, min_samples_split=20, n_estimators=50; total time=   2.3s\n",
      "[CV] END max_depth=10, min_samples_split=20, n_estimators=50; total time=   2.4s\n",
      "[CV] END max_depth=10, min_samples_split=20, n_estimators=50; total time=   2.4s\n",
      "[CV] END max_depth=10, min_samples_split=20, n_estimators=50; total time=   2.4s\n",
      "[CV] END max_depth=10, min_samples_split=20, n_estimators=50; total time=   2.4s\n",
      "[CV] END max_depth=10, min_samples_split=20, n_estimators=80; total time=   3.7s\n",
      "[CV] END max_depth=10, min_samples_split=20, n_estimators=80; total time=   3.8s\n",
      "[CV] END max_depth=10, min_samples_split=20, n_estimators=80; total time=   3.7s\n",
      "[CV] END max_depth=10, min_samples_split=20, n_estimators=80; total time=   3.6s\n",
      "[CV] END max_depth=10, min_samples_split=20, n_estimators=80; total time=   3.8s\n",
      "[CV] END max_depth=10, min_samples_split=20, n_estimators=100; total time=   4.9s\n",
      "[CV] END max_depth=10, min_samples_split=20, n_estimators=100; total time=   4.9s\n",
      "[CV] END max_depth=10, min_samples_split=20, n_estimators=100; total time=   5.3s\n",
      "[CV] END max_depth=10, min_samples_split=20, n_estimators=100; total time=   4.5s\n",
      "[CV] END max_depth=10, min_samples_split=20, n_estimators=100; total time=   4.7s\n",
      "[CV] END max_depth=10, min_samples_split=20, n_estimators=150; total time=   7.4s\n",
      "[CV] END max_depth=10, min_samples_split=20, n_estimators=150; total time=   7.5s\n",
      "[CV] END max_depth=10, min_samples_split=20, n_estimators=150; total time=   7.2s\n",
      "[CV] END max_depth=10, min_samples_split=20, n_estimators=150; total time=   7.2s\n",
      "[CV] END max_depth=10, min_samples_split=20, n_estimators=150; total time=   7.0s\n",
      "[CV] END max_depth=10, min_samples_split=20, n_estimators=200; total time=   9.4s\n",
      "[CV] END max_depth=10, min_samples_split=20, n_estimators=200; total time=   9.8s\n",
      "[CV] END max_depth=10, min_samples_split=20, n_estimators=200; total time=   9.2s\n",
      "[CV] END max_depth=10, min_samples_split=20, n_estimators=200; total time=   9.3s\n",
      "[CV] END max_depth=10, min_samples_split=20, n_estimators=200; total time=   9.1s\n",
      "[CV] END max_depth=10, min_samples_split=30, n_estimators=30; total time=   1.5s\n",
      "[CV] END max_depth=10, min_samples_split=30, n_estimators=30; total time=   1.4s\n",
      "[CV] END max_depth=10, min_samples_split=30, n_estimators=30; total time=   1.5s\n",
      "[CV] END max_depth=10, min_samples_split=30, n_estimators=30; total time=   1.4s\n",
      "[CV] END max_depth=10, min_samples_split=30, n_estimators=30; total time=   1.5s\n",
      "[CV] END max_depth=10, min_samples_split=30, n_estimators=40; total time=   1.9s\n",
      "[CV] END max_depth=10, min_samples_split=30, n_estimators=40; total time=   2.0s\n",
      "[CV] END max_depth=10, min_samples_split=30, n_estimators=40; total time=   1.9s\n",
      "[CV] END max_depth=10, min_samples_split=30, n_estimators=40; total time=   2.0s\n",
      "[CV] END max_depth=10, min_samples_split=30, n_estimators=40; total time=   2.0s\n",
      "[CV] END max_depth=10, min_samples_split=30, n_estimators=50; total time=   2.5s\n",
      "[CV] END max_depth=10, min_samples_split=30, n_estimators=50; total time=   2.5s\n",
      "[CV] END max_depth=10, min_samples_split=30, n_estimators=50; total time=   2.3s\n",
      "[CV] END max_depth=10, min_samples_split=30, n_estimators=50; total time=   2.3s\n",
      "[CV] END max_depth=10, min_samples_split=30, n_estimators=50; total time=   2.3s\n",
      "[CV] END max_depth=10, min_samples_split=30, n_estimators=80; total time=   3.6s\n",
      "[CV] END max_depth=10, min_samples_split=30, n_estimators=80; total time=   3.7s\n",
      "[CV] END max_depth=10, min_samples_split=30, n_estimators=80; total time=   3.6s\n",
      "[CV] END max_depth=10, min_samples_split=30, n_estimators=80; total time=   3.5s\n",
      "[CV] END max_depth=10, min_samples_split=30, n_estimators=80; total time=   3.7s\n",
      "[CV] END max_depth=10, min_samples_split=30, n_estimators=100; total time=   4.5s\n",
      "[CV] END max_depth=10, min_samples_split=30, n_estimators=100; total time=   4.7s\n",
      "[CV] END max_depth=10, min_samples_split=30, n_estimators=100; total time=   4.7s\n",
      "[CV] END max_depth=10, min_samples_split=30, n_estimators=100; total time=   4.5s\n",
      "[CV] END max_depth=10, min_samples_split=30, n_estimators=100; total time=   4.5s\n",
      "[CV] END max_depth=10, min_samples_split=30, n_estimators=150; total time=   7.3s\n",
      "[CV] END max_depth=10, min_samples_split=30, n_estimators=150; total time=   6.9s\n",
      "[CV] END max_depth=10, min_samples_split=30, n_estimators=150; total time=   6.7s\n",
      "[CV] END max_depth=10, min_samples_split=30, n_estimators=150; total time=   6.6s\n",
      "[CV] END max_depth=10, min_samples_split=30, n_estimators=150; total time=   6.7s\n",
      "[CV] END max_depth=10, min_samples_split=30, n_estimators=200; total time=   8.7s\n",
      "[CV] END max_depth=10, min_samples_split=30, n_estimators=200; total time=   8.9s\n",
      "[CV] END max_depth=10, min_samples_split=30, n_estimators=200; total time=   9.0s\n",
      "[CV] END max_depth=10, min_samples_split=30, n_estimators=200; total time=   8.9s\n",
      "[CV] END max_depth=10, min_samples_split=30, n_estimators=200; total time=   8.9s\n"
     ]
    },
    {
     "data": {
      "text/plain": [
       "GridSearchCV(cv=5, estimator=RandomForestClassifier(class_weight='balanced'),\n",
       "             param_grid={'max_depth': [4, 6, 8, 10],\n",
       "                         'min_samples_split': [2, 5, 10, 20, 30],\n",
       "                         'n_estimators': [30, 40, 50, 80, 100, 150, 200]},\n",
       "             scoring='f1', verbose=2)"
      ]
     },
     "execution_count": 39,
     "metadata": {},
     "output_type": "execute_result"
    }
   ],
   "source": [
    "# Defining a ranges of hyperparameters\n",
    "max_depth = [4, 6, 8 ,10] # maximum depth of each estimator (tree)\n",
    "min_samples_split = [2, 5, 10, 20, 30] # minimum samples in a node in order to be split\n",
    "n_estimators = [30, 40, 50, 80, 100, 150, 200] # number of estimators (trees)\n",
    "\n",
    "# Defining our GridSearchCV instance\n",
    "rf_grid = GridSearchCV(estimator=RandomForestClassifier(class_weight=\"balanced\"), cv=5,\n",
    "                       param_grid={\"max_depth\":max_depth, \n",
    "                                   \"min_samples_split\":min_samples_split,\n",
    "                                   \"n_estimators\":n_estimators},\n",
    "                       scoring=\"f1\",\n",
    "                       verbose=2\n",
    "                      )\n",
    "\n",
    "# Fitting to training data\n",
    "rf_grid.fit(X_train, y_train)"
   ]
  },
  {
   "cell_type": "code",
   "execution_count": 40,
   "metadata": {},
   "outputs": [
    {
     "name": "stdout",
     "output_type": "stream",
     "text": [
      "Hyperparameters that give the best score : {'max_depth': 10, 'min_samples_split': 5, 'n_estimators': 200}\n",
      "\n",
      "Best score : 0.6995000842884636\n",
      "\n",
      "...Done.\n"
     ]
    }
   ],
   "source": [
    "# Retrieving best parameters and the best score (f1 score)\n",
    "\n",
    "print(\"Hyperparameters that give the best score : {}\\n\".format(rf_grid.best_params_))\n",
    "print(\"Best score : {}\\n\".format(rf_grid.best_score_))\n",
    "print(\"...Done.\")"
   ]
  },
  {
   "cell_type": "code",
   "execution_count": 41,
   "metadata": {},
   "outputs": [
    {
     "name": "stdout",
     "output_type": "stream",
     "text": [
      "Predictions on training set...\n",
      "...Done.\n",
      "\n",
      "Predictions on test set...\n",
      "...Done.\n"
     ]
    }
   ],
   "source": [
    "# Predictions on training set\n",
    "print(\"Predictions on training set...\")\n",
    "y_train_pred = rf_grid.predict(X_train)\n",
    "print(\"...Done.\")\n",
    "\n",
    "print()\n",
    "\n",
    "# Predictions on test set\n",
    "print(\"Predictions on test set...\")\n",
    "y_test_pred = rf_grid.predict(X_test)\n",
    "print(\"...Done.\")"
   ]
  },
  {
   "cell_type": "code",
   "execution_count": 42,
   "metadata": {},
   "outputs": [
    {
     "name": "stdout",
     "output_type": "stream",
     "text": [
      "f1-score on train set :  0.6997518610421837\n",
      "f1-score on test set :  0.6998846597462514\n"
     ]
    }
   ],
   "source": [
    "# f1-score on both training and testing sets\n",
    "print(\"f1-score on train set : \", rf_grid.score(X_train, y_train))\n",
    "print(\"f1-score on test set : \", rf_grid.score(X_test, y_test))"
   ]
  },
  {
   "cell_type": "code",
   "execution_count": 43,
   "metadata": {},
   "outputs": [
    {
     "name": "stdout",
     "output_type": "stream",
     "text": [
      "              precision    recall  f1-score   support\n",
      "\n",
      "           0       0.95      1.00      0.98     27171\n",
      "           1       1.00      0.54      0.70      2816\n",
      "\n",
      "    accuracy                           0.96     29987\n",
      "   macro avg       0.98      0.77      0.84     29987\n",
      "weighted avg       0.96      0.96      0.95     29987\n",
      "\n"
     ]
    }
   ],
   "source": [
    "# classifiction report\n",
    "print(classification_report(y_test, y_test_pred))"
   ]
  },
  {
   "cell_type": "code",
   "execution_count": 44,
   "metadata": {},
   "outputs": [
    {
     "data": {
      "image/png": "[encoded data removed]",
      "text/plain": [
       "<Figure size 432x288 with 2 Axes>"
      ]
     },
     "metadata": {
      "needs_background": "light"
     },
     "output_type": "display_data"
    }
   ],
   "source": [
    "# Confusion matrix\n",
    "cm = confusion_matrix(y_test, y_test_pred)\n",
    "sns.heatmap(cm, annot=True, fmt=\"d\")\n",
    "plt.show()"
   ]
  },
  {
   "cell_type": "markdown",
   "metadata": {},
   "source": [
    "#### What is our model doing here ?\n",
    "\n",
    "When we compare the random forest with logistic regression, we notice that we have slightly improved the performances in general. Particularly, we have considerably improved the precision as the number of False Positives (False frauds alerts) has dropped to nearly 0."
   ]
  },
  {
   "cell_type": "markdown",
   "metadata": {},
   "source": [
    "## 5.6 - XGBoost"
   ]
  },
  {
   "cell_type": "markdown",
   "metadata": {},
   "source": [
    "Let's now try another ensemble method: **Boosting**. In this section, we will implement the XGBoost algorithm to see if wee can improve our results."
   ]
  },
  {
   "cell_type": "code",
   "execution_count": 45,
   "metadata": {},
   "outputs": [
    {
     "name": "stdout",
     "output_type": "stream",
     "text": [
      "Fitting 5 folds for each of 75 candidates, totalling 375 fits\n",
      "[CV] END ..learning_rate=0.001, max_depth=3, n_estimators=30; total time=   0.8s\n",
      "[CV] END ..learning_rate=0.001, max_depth=3, n_estimators=30; total time=   0.7s\n",
      "[CV] END ..learning_rate=0.001, max_depth=3, n_estimators=30; total time=   0.7s\n",
      "[CV] END ..learning_rate=0.001, max_depth=3, n_estimators=30; total time=   0.7s\n",
      "[CV] END ..learning_rate=0.001, max_depth=3, n_estimators=30; total time=   0.7s\n",
      "[CV] END ..learning_rate=0.001, max_depth=3, n_estimators=50; total time=   0.9s\n",
      "[CV] END ..learning_rate=0.001, max_depth=3, n_estimators=50; total time=   0.9s\n",
      "[CV] END ..learning_rate=0.001, max_depth=3, n_estimators=50; total time=   0.9s\n",
      "[CV] END ..learning_rate=0.001, max_depth=3, n_estimators=50; total time=   0.9s\n",
      "[CV] END ..learning_rate=0.001, max_depth=3, n_estimators=50; total time=   1.0s\n",
      "[CV] END .learning_rate=0.001, max_depth=3, n_estimators=100; total time=   1.7s\n",
      "[CV] END .learning_rate=0.001, max_depth=3, n_estimators=100; total time=   2.1s\n",
      "[CV] END .learning_rate=0.001, max_depth=3, n_estimators=100; total time=   2.0s\n",
      "[CV] END .learning_rate=0.001, max_depth=3, n_estimators=100; total time=   1.9s\n",
      "[CV] END .learning_rate=0.001, max_depth=3, n_estimators=100; total time=   1.8s\n",
      "[CV] END ..learning_rate=0.001, max_depth=4, n_estimators=30; total time=   0.9s\n",
      "[CV] END ..learning_rate=0.001, max_depth=4, n_estimators=30; total time=   0.9s\n",
      "[CV] END ..learning_rate=0.001, max_depth=4, n_estimators=30; total time=   0.9s\n",
      "[CV] END ..learning_rate=0.001, max_depth=4, n_estimators=30; total time=   1.0s\n",
      "[CV] END ..learning_rate=0.001, max_depth=4, n_estimators=30; total time=   1.0s\n",
      "[CV] END ..learning_rate=0.001, max_depth=4, n_estimators=50; total time=   1.3s\n",
      "[CV] END ..learning_rate=0.001, max_depth=4, n_estimators=50; total time=   1.4s\n",
      "[CV] END ..learning_rate=0.001, max_depth=4, n_estimators=50; total time=   1.4s\n",
      "[CV] END ..learning_rate=0.001, max_depth=4, n_estimators=50; total time=   1.4s\n",
      "[CV] END ..learning_rate=0.001, max_depth=4, n_estimators=50; total time=   1.4s\n",
      "[CV] END .learning_rate=0.001, max_depth=4, n_estimators=100; total time=   2.3s\n",
      "[CV] END .learning_rate=0.001, max_depth=4, n_estimators=100; total time=   2.3s\n",
      "[CV] END .learning_rate=0.001, max_depth=4, n_estimators=100; total time=   2.2s\n",
      "[CV] END .learning_rate=0.001, max_depth=4, n_estimators=100; total time=   2.1s\n",
      "[CV] END .learning_rate=0.001, max_depth=4, n_estimators=100; total time=   2.3s\n",
      "[CV] END ..learning_rate=0.001, max_depth=6, n_estimators=30; total time=   1.0s\n",
      "[CV] END ..learning_rate=0.001, max_depth=6, n_estimators=30; total time=   1.1s\n",
      "[CV] END ..learning_rate=0.001, max_depth=6, n_estimators=30; total time=   0.9s\n",
      "[CV] END ..learning_rate=0.001, max_depth=6, n_estimators=30; total time=   1.0s\n",
      "[CV] END ..learning_rate=0.001, max_depth=6, n_estimators=30; total time=   1.0s\n",
      "[CV] END ..learning_rate=0.001, max_depth=6, n_estimators=50; total time=   1.5s\n",
      "[CV] END ..learning_rate=0.001, max_depth=6, n_estimators=50; total time=   1.3s\n",
      "[CV] END ..learning_rate=0.001, max_depth=6, n_estimators=50; total time=   1.3s\n",
      "[CV] END ..learning_rate=0.001, max_depth=6, n_estimators=50; total time=   1.4s\n",
      "[CV] END ..learning_rate=0.001, max_depth=6, n_estimators=50; total time=   1.4s\n",
      "[CV] END .learning_rate=0.001, max_depth=6, n_estimators=100; total time=   2.4s\n",
      "[CV] END .learning_rate=0.001, max_depth=6, n_estimators=100; total time=   2.3s\n",
      "[CV] END .learning_rate=0.001, max_depth=6, n_estimators=100; total time=   2.3s\n",
      "[CV] END .learning_rate=0.001, max_depth=6, n_estimators=100; total time=   2.5s\n",
      "[CV] END .learning_rate=0.001, max_depth=6, n_estimators=100; total time=   2.5s\n",
      "[CV] END ..learning_rate=0.001, max_depth=8, n_estimators=30; total time=   1.1s\n",
      "[CV] END ..learning_rate=0.001, max_depth=8, n_estimators=30; total time=   1.0s\n",
      "[CV] END ..learning_rate=0.001, max_depth=8, n_estimators=30; total time=   1.1s\n",
      "[CV] END ..learning_rate=0.001, max_depth=8, n_estimators=30; total time=   1.0s\n",
      "[CV] END ..learning_rate=0.001, max_depth=8, n_estimators=30; total time=   1.0s\n",
      "[CV] END ..learning_rate=0.001, max_depth=8, n_estimators=50; total time=   1.4s\n",
      "[CV] END ..learning_rate=0.001, max_depth=8, n_estimators=50; total time=   1.3s\n",
      "[CV] END ..learning_rate=0.001, max_depth=8, n_estimators=50; total time=   1.3s\n",
      "[CV] END ..learning_rate=0.001, max_depth=8, n_estimators=50; total time=   1.4s\n",
      "[CV] END ..learning_rate=0.001, max_depth=8, n_estimators=50; total time=   1.5s\n",
      "[CV] END .learning_rate=0.001, max_depth=8, n_estimators=100; total time=   2.6s\n",
      "[CV] END .learning_rate=0.001, max_depth=8, n_estimators=100; total time=   2.4s\n",
      "[CV] END .learning_rate=0.001, max_depth=8, n_estimators=100; total time=   2.3s\n",
      "[CV] END .learning_rate=0.001, max_depth=8, n_estimators=100; total time=   2.3s\n",
      "[CV] END .learning_rate=0.001, max_depth=8, n_estimators=100; total time=   2.3s\n",
      "[CV] END .learning_rate=0.001, max_depth=10, n_estimators=30; total time=   1.0s\n",
      "[CV] END .learning_rate=0.001, max_depth=10, n_estimators=30; total time=   0.9s\n",
      "[CV] END .learning_rate=0.001, max_depth=10, n_estimators=30; total time=   0.9s\n",
      "[CV] END .learning_rate=0.001, max_depth=10, n_estimators=30; total time=   1.0s\n",
      "[CV] END .learning_rate=0.001, max_depth=10, n_estimators=30; total time=   1.0s\n",
      "[CV] END .learning_rate=0.001, max_depth=10, n_estimators=50; total time=   1.4s\n",
      "[CV] END .learning_rate=0.001, max_depth=10, n_estimators=50; total time=   1.3s\n",
      "[CV] END .learning_rate=0.001, max_depth=10, n_estimators=50; total time=   1.3s\n",
      "[CV] END .learning_rate=0.001, max_depth=10, n_estimators=50; total time=   1.3s\n",
      "[CV] END .learning_rate=0.001, max_depth=10, n_estimators=50; total time=   1.3s\n",
      "[CV] END learning_rate=0.001, max_depth=10, n_estimators=100; total time=   2.5s\n",
      "[CV] END learning_rate=0.001, max_depth=10, n_estimators=100; total time=   2.3s\n",
      "[CV] END learning_rate=0.001, max_depth=10, n_estimators=100; total time=   2.1s\n",
      "[CV] END learning_rate=0.001, max_depth=10, n_estimators=100; total time=   2.4s\n",
      "[CV] END learning_rate=0.001, max_depth=10, n_estimators=100; total time=   2.5s\n",
      "[CV] END ...learning_rate=0.01, max_depth=3, n_estimators=30; total time=   0.8s\n",
      "[CV] END ...learning_rate=0.01, max_depth=3, n_estimators=30; total time=   0.8s\n",
      "[CV] END ...learning_rate=0.01, max_depth=3, n_estimators=30; total time=   0.8s\n",
      "[CV] END ...learning_rate=0.01, max_depth=3, n_estimators=30; total time=   0.8s\n",
      "[CV] END ...learning_rate=0.01, max_depth=3, n_estimators=30; total time=   0.8s\n",
      "[CV] END ...learning_rate=0.01, max_depth=3, n_estimators=50; total time=   1.1s\n",
      "[CV] END ...learning_rate=0.01, max_depth=3, n_estimators=50; total time=   1.1s\n",
      "[CV] END ...learning_rate=0.01, max_depth=3, n_estimators=50; total time=   1.1s\n",
      "[CV] END ...learning_rate=0.01, max_depth=3, n_estimators=50; total time=   1.1s\n",
      "[CV] END ...learning_rate=0.01, max_depth=3, n_estimators=50; total time=   1.1s\n",
      "[CV] END ..learning_rate=0.01, max_depth=3, n_estimators=100; total time=   1.7s\n",
      "[CV] END ..learning_rate=0.01, max_depth=3, n_estimators=100; total time=   1.7s\n",
      "[CV] END ..learning_rate=0.01, max_depth=3, n_estimators=100; total time=   1.8s\n",
      "[CV] END ..learning_rate=0.01, max_depth=3, n_estimators=100; total time=   1.8s\n",
      "[CV] END ..learning_rate=0.01, max_depth=3, n_estimators=100; total time=   1.8s\n",
      "[CV] END ...learning_rate=0.01, max_depth=4, n_estimators=30; total time=   0.9s\n",
      "[CV] END ...learning_rate=0.01, max_depth=4, n_estimators=30; total time=   0.9s\n",
      "[CV] END ...learning_rate=0.01, max_depth=4, n_estimators=30; total time=   0.9s\n",
      "[CV] END ...learning_rate=0.01, max_depth=4, n_estimators=30; total time=   0.9s\n",
      "[CV] END ...learning_rate=0.01, max_depth=4, n_estimators=30; total time=   0.9s\n",
      "[CV] END ...learning_rate=0.01, max_depth=4, n_estimators=50; total time=   1.2s\n",
      "[CV] END ...learning_rate=0.01, max_depth=4, n_estimators=50; total time=   1.3s\n",
      "[CV] END ...learning_rate=0.01, max_depth=4, n_estimators=50; total time=   1.3s\n",
      "[CV] END ...learning_rate=0.01, max_depth=4, n_estimators=50; total time=   1.3s\n",
      "[CV] END ...learning_rate=0.01, max_depth=4, n_estimators=50; total time=   1.3s\n",
      "[CV] END ..learning_rate=0.01, max_depth=4, n_estimators=100; total time=   2.1s\n",
      "[CV] END ..learning_rate=0.01, max_depth=4, n_estimators=100; total time=   2.3s\n",
      "[CV] END ..learning_rate=0.01, max_depth=4, n_estimators=100; total time=   2.3s\n",
      "[CV] END ..learning_rate=0.01, max_depth=4, n_estimators=100; total time=   2.4s\n",
      "[CV] END ..learning_rate=0.01, max_depth=4, n_estimators=100; total time=   2.2s\n",
      "[CV] END ...learning_rate=0.01, max_depth=6, n_estimators=30; total time=   1.0s\n",
      "[CV] END ...learning_rate=0.01, max_depth=6, n_estimators=30; total time=   0.9s\n",
      "[CV] END ...learning_rate=0.01, max_depth=6, n_estimators=30; total time=   0.9s\n",
      "[CV] END ...learning_rate=0.01, max_depth=6, n_estimators=30; total time=   0.9s\n",
      "[CV] END ...learning_rate=0.01, max_depth=6, n_estimators=30; total time=   0.9s\n",
      "[CV] END ...learning_rate=0.01, max_depth=6, n_estimators=50; total time=   1.4s\n",
      "[CV] END ...learning_rate=0.01, max_depth=6, n_estimators=50; total time=   1.3s\n",
      "[CV] END ...learning_rate=0.01, max_depth=6, n_estimators=50; total time=   1.4s\n",
      "[CV] END ...learning_rate=0.01, max_depth=6, n_estimators=50; total time=   1.4s\n",
      "[CV] END ...learning_rate=0.01, max_depth=6, n_estimators=50; total time=   1.5s\n",
      "[CV] END ..learning_rate=0.01, max_depth=6, n_estimators=100; total time=   2.9s\n",
      "[CV] END ..learning_rate=0.01, max_depth=6, n_estimators=100; total time=   2.7s\n",
      "[CV] END ..learning_rate=0.01, max_depth=6, n_estimators=100; total time=   2.9s\n",
      "[CV] END ..learning_rate=0.01, max_depth=6, n_estimators=100; total time=   2.8s\n",
      "[CV] END ..learning_rate=0.01, max_depth=6, n_estimators=100; total time=   2.6s\n",
      "[CV] END ...learning_rate=0.01, max_depth=8, n_estimators=30; total time=   0.9s\n",
      "[CV] END ...learning_rate=0.01, max_depth=8, n_estimators=30; total time=   0.9s\n",
      "[CV] END ...learning_rate=0.01, max_depth=8, n_estimators=30; total time=   0.9s\n",
      "[CV] END ...learning_rate=0.01, max_depth=8, n_estimators=30; total time=   0.9s\n",
      "[CV] END ...learning_rate=0.01, max_depth=8, n_estimators=30; total time=   0.9s\n",
      "[CV] END ...learning_rate=0.01, max_depth=8, n_estimators=50; total time=   1.4s\n",
      "[CV] END ...learning_rate=0.01, max_depth=8, n_estimators=50; total time=   1.2s\n",
      "[CV] END ...learning_rate=0.01, max_depth=8, n_estimators=50; total time=   1.4s\n",
      "[CV] END ...learning_rate=0.01, max_depth=8, n_estimators=50; total time=   1.4s\n",
      "[CV] END ...learning_rate=0.01, max_depth=8, n_estimators=50; total time=   1.4s\n",
      "[CV] END ..learning_rate=0.01, max_depth=8, n_estimators=100; total time=   3.0s\n",
      "[CV] END ..learning_rate=0.01, max_depth=8, n_estimators=100; total time=   2.7s\n",
      "[CV] END ..learning_rate=0.01, max_depth=8, n_estimators=100; total time=   2.9s\n",
      "[CV] END ..learning_rate=0.01, max_depth=8, n_estimators=100; total time=   2.9s\n",
      "[CV] END ..learning_rate=0.01, max_depth=8, n_estimators=100; total time=   2.9s\n",
      "[CV] END ..learning_rate=0.01, max_depth=10, n_estimators=30; total time=   0.9s\n",
      "[CV] END ..learning_rate=0.01, max_depth=10, n_estimators=30; total time=   0.9s\n",
      "[CV] END ..learning_rate=0.01, max_depth=10, n_estimators=30; total time=   0.9s\n",
      "[CV] END ..learning_rate=0.01, max_depth=10, n_estimators=30; total time=   0.9s\n",
      "[CV] END ..learning_rate=0.01, max_depth=10, n_estimators=30; total time=   0.9s\n",
      "[CV] END ..learning_rate=0.01, max_depth=10, n_estimators=50; total time=   1.5s\n",
      "[CV] END ..learning_rate=0.01, max_depth=10, n_estimators=50; total time=   1.2s\n",
      "[CV] END ..learning_rate=0.01, max_depth=10, n_estimators=50; total time=   1.4s\n",
      "[CV] END ..learning_rate=0.01, max_depth=10, n_estimators=50; total time=   1.4s\n",
      "[CV] END ..learning_rate=0.01, max_depth=10, n_estimators=50; total time=   1.4s\n",
      "[CV] END .learning_rate=0.01, max_depth=10, n_estimators=100; total time=   3.5s\n",
      "[CV] END .learning_rate=0.01, max_depth=10, n_estimators=100; total time=   3.2s\n",
      "[CV] END .learning_rate=0.01, max_depth=10, n_estimators=100; total time=   3.5s\n",
      "[CV] END .learning_rate=0.01, max_depth=10, n_estimators=100; total time=   3.9s\n",
      "[CV] END .learning_rate=0.01, max_depth=10, n_estimators=100; total time=   3.8s\n",
      "[CV] END ....learning_rate=0.1, max_depth=3, n_estimators=30; total time=   0.8s\n",
      "[CV] END ....learning_rate=0.1, max_depth=3, n_estimators=30; total time=   0.8s\n",
      "[CV] END ....learning_rate=0.1, max_depth=3, n_estimators=30; total time=   0.8s\n",
      "[CV] END ....learning_rate=0.1, max_depth=3, n_estimators=30; total time=   0.8s\n",
      "[CV] END ....learning_rate=0.1, max_depth=3, n_estimators=30; total time=   0.8s\n",
      "[CV] END ....learning_rate=0.1, max_depth=3, n_estimators=50; total time=   1.0s\n",
      "[CV] END ....learning_rate=0.1, max_depth=3, n_estimators=50; total time=   1.0s\n",
      "[CV] END ....learning_rate=0.1, max_depth=3, n_estimators=50; total time=   1.1s\n",
      "[CV] END ....learning_rate=0.1, max_depth=3, n_estimators=50; total time=   1.0s\n",
      "[CV] END ....learning_rate=0.1, max_depth=3, n_estimators=50; total time=   1.0s\n",
      "[CV] END ...learning_rate=0.1, max_depth=3, n_estimators=100; total time=   1.8s\n",
      "[CV] END ...learning_rate=0.1, max_depth=3, n_estimators=100; total time=   1.9s\n",
      "[CV] END ...learning_rate=0.1, max_depth=3, n_estimators=100; total time=   1.8s\n",
      "[CV] END ...learning_rate=0.1, max_depth=3, n_estimators=100; total time=   1.8s\n",
      "[CV] END ...learning_rate=0.1, max_depth=3, n_estimators=100; total time=   1.7s\n",
      "[CV] END ....learning_rate=0.1, max_depth=4, n_estimators=30; total time=   0.9s\n",
      "[CV] END ....learning_rate=0.1, max_depth=4, n_estimators=30; total time=   0.9s\n",
      "[CV] END ....learning_rate=0.1, max_depth=4, n_estimators=30; total time=   0.9s\n",
      "[CV] END ....learning_rate=0.1, max_depth=4, n_estimators=30; total time=   0.9s\n",
      "[CV] END ....learning_rate=0.1, max_depth=4, n_estimators=30; total time=   0.9s\n",
      "[CV] END ....learning_rate=0.1, max_depth=4, n_estimators=50; total time=   1.2s\n",
      "[CV] END ....learning_rate=0.1, max_depth=4, n_estimators=50; total time=   1.2s\n",
      "[CV] END ....learning_rate=0.1, max_depth=4, n_estimators=50; total time=   1.2s\n",
      "[CV] END ....learning_rate=0.1, max_depth=4, n_estimators=50; total time=   1.2s\n",
      "[CV] END ....learning_rate=0.1, max_depth=4, n_estimators=50; total time=   1.2s\n",
      "[CV] END ...learning_rate=0.1, max_depth=4, n_estimators=100; total time=   2.0s\n",
      "[CV] END ...learning_rate=0.1, max_depth=4, n_estimators=100; total time=   2.0s\n",
      "[CV] END ...learning_rate=0.1, max_depth=4, n_estimators=100; total time=   2.1s\n",
      "[CV] END ...learning_rate=0.1, max_depth=4, n_estimators=100; total time=   2.0s\n",
      "[CV] END ...learning_rate=0.1, max_depth=4, n_estimators=100; total time=   2.1s\n",
      "[CV] END ....learning_rate=0.1, max_depth=6, n_estimators=30; total time=   1.1s\n",
      "[CV] END ....learning_rate=0.1, max_depth=6, n_estimators=30; total time=   1.0s\n",
      "[CV] END ....learning_rate=0.1, max_depth=6, n_estimators=30; total time=   1.0s\n",
      "[CV] END ....learning_rate=0.1, max_depth=6, n_estimators=30; total time=   1.0s\n",
      "[CV] END ....learning_rate=0.1, max_depth=6, n_estimators=30; total time=   1.0s\n",
      "[CV] END ....learning_rate=0.1, max_depth=6, n_estimators=50; total time=   1.6s\n",
      "[CV] END ....learning_rate=0.1, max_depth=6, n_estimators=50; total time=   1.5s\n",
      "[CV] END ....learning_rate=0.1, max_depth=6, n_estimators=50; total time=   1.5s\n",
      "[CV] END ....learning_rate=0.1, max_depth=6, n_estimators=50; total time=   1.5s\n",
      "[CV] END ....learning_rate=0.1, max_depth=6, n_estimators=50; total time=   1.6s\n",
      "[CV] END ...learning_rate=0.1, max_depth=6, n_estimators=100; total time=   2.8s\n",
      "[CV] END ...learning_rate=0.1, max_depth=6, n_estimators=100; total time=   2.8s\n",
      "[CV] END ...learning_rate=0.1, max_depth=6, n_estimators=100; total time=   2.7s\n",
      "[CV] END ...learning_rate=0.1, max_depth=6, n_estimators=100; total time=   2.8s\n",
      "[CV] END ...learning_rate=0.1, max_depth=6, n_estimators=100; total time=   2.8s\n",
      "[CV] END ....learning_rate=0.1, max_depth=8, n_estimators=30; total time=   1.3s\n",
      "[CV] END ....learning_rate=0.1, max_depth=8, n_estimators=30; total time=   1.3s\n",
      "[CV] END ....learning_rate=0.1, max_depth=8, n_estimators=30; total time=   1.2s\n",
      "[CV] END ....learning_rate=0.1, max_depth=8, n_estimators=30; total time=   1.2s\n",
      "[CV] END ....learning_rate=0.1, max_depth=8, n_estimators=30; total time=   1.2s\n",
      "[CV] END ....learning_rate=0.1, max_depth=8, n_estimators=50; total time=   1.8s\n",
      "[CV] END ....learning_rate=0.1, max_depth=8, n_estimators=50; total time=   1.9s\n",
      "[CV] END ....learning_rate=0.1, max_depth=8, n_estimators=50; total time=   1.9s\n",
      "[CV] END ....learning_rate=0.1, max_depth=8, n_estimators=50; total time=   1.9s\n",
      "[CV] END ....learning_rate=0.1, max_depth=8, n_estimators=50; total time=   1.9s\n",
      "[CV] END ...learning_rate=0.1, max_depth=8, n_estimators=100; total time=   3.4s\n",
      "[CV] END ...learning_rate=0.1, max_depth=8, n_estimators=100; total time=   3.5s\n",
      "[CV] END ...learning_rate=0.1, max_depth=8, n_estimators=100; total time=   3.5s\n",
      "[CV] END ...learning_rate=0.1, max_depth=8, n_estimators=100; total time=   3.5s\n",
      "[CV] END ...learning_rate=0.1, max_depth=8, n_estimators=100; total time=   3.5s\n",
      "[CV] END ...learning_rate=0.1, max_depth=10, n_estimators=30; total time=   1.5s\n",
      "[CV] END ...learning_rate=0.1, max_depth=10, n_estimators=30; total time=   1.4s\n",
      "[CV] END ...learning_rate=0.1, max_depth=10, n_estimators=30; total time=   1.4s\n",
      "[CV] END ...learning_rate=0.1, max_depth=10, n_estimators=30; total time=   1.4s\n",
      "[CV] END ...learning_rate=0.1, max_depth=10, n_estimators=30; total time=   1.4s\n",
      "[CV] END ...learning_rate=0.1, max_depth=10, n_estimators=50; total time=   2.3s\n",
      "[CV] END ...learning_rate=0.1, max_depth=10, n_estimators=50; total time=   2.2s\n",
      "[CV] END ...learning_rate=0.1, max_depth=10, n_estimators=50; total time=   2.3s\n",
      "[CV] END ...learning_rate=0.1, max_depth=10, n_estimators=50; total time=   2.3s\n",
      "[CV] END ...learning_rate=0.1, max_depth=10, n_estimators=50; total time=   2.2s\n",
      "[CV] END ..learning_rate=0.1, max_depth=10, n_estimators=100; total time=   4.2s\n",
      "[CV] END ..learning_rate=0.1, max_depth=10, n_estimators=100; total time=   4.3s\n",
      "[CV] END ..learning_rate=0.1, max_depth=10, n_estimators=100; total time=   4.3s\n",
      "[CV] END ..learning_rate=0.1, max_depth=10, n_estimators=100; total time=   4.2s\n",
      "[CV] END ..learning_rate=0.1, max_depth=10, n_estimators=100; total time=   4.4s\n",
      "[CV] END ....learning_rate=0.2, max_depth=3, n_estimators=30; total time=   0.8s\n",
      "[CV] END ....learning_rate=0.2, max_depth=3, n_estimators=30; total time=   0.8s\n",
      "[CV] END ....learning_rate=0.2, max_depth=3, n_estimators=30; total time=   0.8s\n",
      "[CV] END ....learning_rate=0.2, max_depth=3, n_estimators=30; total time=   0.7s\n",
      "[CV] END ....learning_rate=0.2, max_depth=3, n_estimators=30; total time=   0.8s\n",
      "[CV] END ....learning_rate=0.2, max_depth=3, n_estimators=50; total time=   1.0s\n",
      "[CV] END ....learning_rate=0.2, max_depth=3, n_estimators=50; total time=   1.0s\n",
      "[CV] END ....learning_rate=0.2, max_depth=3, n_estimators=50; total time=   1.0s\n",
      "[CV] END ....learning_rate=0.2, max_depth=3, n_estimators=50; total time=   1.0s\n",
      "[CV] END ....learning_rate=0.2, max_depth=3, n_estimators=50; total time=   1.0s\n",
      "[CV] END ...learning_rate=0.2, max_depth=3, n_estimators=100; total time=   1.7s\n",
      "[CV] END ...learning_rate=0.2, max_depth=3, n_estimators=100; total time=   1.7s\n",
      "[CV] END ...learning_rate=0.2, max_depth=3, n_estimators=100; total time=   1.7s\n",
      "[CV] END ...learning_rate=0.2, max_depth=3, n_estimators=100; total time=   1.7s\n",
      "[CV] END ...learning_rate=0.2, max_depth=3, n_estimators=100; total time=   1.7s\n",
      "[CV] END ....learning_rate=0.2, max_depth=4, n_estimators=30; total time=   0.9s\n",
      "[CV] END ....learning_rate=0.2, max_depth=4, n_estimators=30; total time=   0.9s\n",
      "[CV] END ....learning_rate=0.2, max_depth=4, n_estimators=30; total time=   0.9s\n",
      "[CV] END ....learning_rate=0.2, max_depth=4, n_estimators=30; total time=   0.9s\n",
      "[CV] END ....learning_rate=0.2, max_depth=4, n_estimators=30; total time=   0.9s\n",
      "[CV] END ....learning_rate=0.2, max_depth=4, n_estimators=50; total time=   1.2s\n",
      "[CV] END ....learning_rate=0.2, max_depth=4, n_estimators=50; total time=   1.2s\n",
      "[CV] END ....learning_rate=0.2, max_depth=4, n_estimators=50; total time=   1.2s\n",
      "[CV] END ....learning_rate=0.2, max_depth=4, n_estimators=50; total time=   1.2s\n",
      "[CV] END ....learning_rate=0.2, max_depth=4, n_estimators=50; total time=   1.2s\n",
      "[CV] END ...learning_rate=0.2, max_depth=4, n_estimators=100; total time=   2.1s\n",
      "[CV] END ...learning_rate=0.2, max_depth=4, n_estimators=100; total time=   2.1s\n",
      "[CV] END ...learning_rate=0.2, max_depth=4, n_estimators=100; total time=   2.1s\n",
      "[CV] END ...learning_rate=0.2, max_depth=4, n_estimators=100; total time=   2.1s\n",
      "[CV] END ...learning_rate=0.2, max_depth=4, n_estimators=100; total time=   2.1s\n",
      "[CV] END ....learning_rate=0.2, max_depth=6, n_estimators=30; total time=   1.2s\n",
      "[CV] END ....learning_rate=0.2, max_depth=6, n_estimators=30; total time=   1.2s\n",
      "[CV] END ....learning_rate=0.2, max_depth=6, n_estimators=30; total time=   1.1s\n",
      "[CV] END ....learning_rate=0.2, max_depth=6, n_estimators=30; total time=   1.1s\n",
      "[CV] END ....learning_rate=0.2, max_depth=6, n_estimators=30; total time=   1.2s\n",
      "[CV] END ....learning_rate=0.2, max_depth=6, n_estimators=50; total time=   1.9s\n",
      "[CV] END ....learning_rate=0.2, max_depth=6, n_estimators=50; total time=   1.7s\n",
      "[CV] END ....learning_rate=0.2, max_depth=6, n_estimators=50; total time=   1.8s\n",
      "[CV] END ....learning_rate=0.2, max_depth=6, n_estimators=50; total time=   1.9s\n",
      "[CV] END ....learning_rate=0.2, max_depth=6, n_estimators=50; total time=   1.9s\n",
      "[CV] END ...learning_rate=0.2, max_depth=6, n_estimators=100; total time=   3.4s\n",
      "[CV] END ...learning_rate=0.2, max_depth=6, n_estimators=100; total time=   2.9s\n",
      "[CV] END ...learning_rate=0.2, max_depth=6, n_estimators=100; total time=   2.8s\n",
      "[CV] END ...learning_rate=0.2, max_depth=6, n_estimators=100; total time=   2.9s\n",
      "[CV] END ...learning_rate=0.2, max_depth=6, n_estimators=100; total time=   2.8s\n",
      "[CV] END ....learning_rate=0.2, max_depth=8, n_estimators=30; total time=   1.3s\n",
      "[CV] END ....learning_rate=0.2, max_depth=8, n_estimators=30; total time=   1.3s\n",
      "[CV] END ....learning_rate=0.2, max_depth=8, n_estimators=30; total time=   1.3s\n",
      "[CV] END ....learning_rate=0.2, max_depth=8, n_estimators=30; total time=   1.4s\n",
      "[CV] END ....learning_rate=0.2, max_depth=8, n_estimators=30; total time=   2.0s\n",
      "[CV] END ....learning_rate=0.2, max_depth=8, n_estimators=50; total time=   2.2s\n",
      "[CV] END ....learning_rate=0.2, max_depth=8, n_estimators=50; total time=   2.0s\n",
      "[CV] END ....learning_rate=0.2, max_depth=8, n_estimators=50; total time=   1.9s\n",
      "[CV] END ....learning_rate=0.2, max_depth=8, n_estimators=50; total time=   1.9s\n",
      "[CV] END ....learning_rate=0.2, max_depth=8, n_estimators=50; total time=   1.9s\n",
      "[CV] END ...learning_rate=0.2, max_depth=8, n_estimators=100; total time=   3.6s\n",
      "[CV] END ...learning_rate=0.2, max_depth=8, n_estimators=100; total time=   3.6s\n",
      "[CV] END ...learning_rate=0.2, max_depth=8, n_estimators=100; total time=   3.6s\n",
      "[CV] END ...learning_rate=0.2, max_depth=8, n_estimators=100; total time=   3.6s\n",
      "[CV] END ...learning_rate=0.2, max_depth=8, n_estimators=100; total time=   3.6s\n",
      "[CV] END ...learning_rate=0.2, max_depth=10, n_estimators=30; total time=   1.6s\n",
      "[CV] END ...learning_rate=0.2, max_depth=10, n_estimators=30; total time=   1.5s\n",
      "[CV] END ...learning_rate=0.2, max_depth=10, n_estimators=30; total time=   1.5s\n",
      "[CV] END ...learning_rate=0.2, max_depth=10, n_estimators=30; total time=   1.5s\n",
      "[CV] END ...learning_rate=0.2, max_depth=10, n_estimators=30; total time=   1.5s\n",
      "[CV] END ...learning_rate=0.2, max_depth=10, n_estimators=50; total time=   2.3s\n",
      "[CV] END ...learning_rate=0.2, max_depth=10, n_estimators=50; total time=   2.3s\n",
      "[CV] END ...learning_rate=0.2, max_depth=10, n_estimators=50; total time=   2.3s\n",
      "[CV] END ...learning_rate=0.2, max_depth=10, n_estimators=50; total time=   2.3s\n",
      "[CV] END ...learning_rate=0.2, max_depth=10, n_estimators=50; total time=   2.3s\n",
      "[CV] END ..learning_rate=0.2, max_depth=10, n_estimators=100; total time=   4.3s\n",
      "[CV] END ..learning_rate=0.2, max_depth=10, n_estimators=100; total time=   4.4s\n",
      "[CV] END ..learning_rate=0.2, max_depth=10, n_estimators=100; total time=   4.3s\n",
      "[CV] END ..learning_rate=0.2, max_depth=10, n_estimators=100; total time=   4.4s\n",
      "[CV] END ..learning_rate=0.2, max_depth=10, n_estimators=100; total time=   4.3s\n",
      "[CV] END ....learning_rate=0.3, max_depth=3, n_estimators=30; total time=   0.8s\n",
      "[CV] END ....learning_rate=0.3, max_depth=3, n_estimators=30; total time=   0.8s\n",
      "[CV] END ....learning_rate=0.3, max_depth=3, n_estimators=30; total time=   0.8s\n",
      "[CV] END ....learning_rate=0.3, max_depth=3, n_estimators=30; total time=   0.8s\n",
      "[CV] END ....learning_rate=0.3, max_depth=3, n_estimators=30; total time=   0.7s\n",
      "[CV] END ....learning_rate=0.3, max_depth=3, n_estimators=50; total time=   1.0s\n",
      "[CV] END ....learning_rate=0.3, max_depth=3, n_estimators=50; total time=   1.0s\n",
      "[CV] END ....learning_rate=0.3, max_depth=3, n_estimators=50; total time=   1.0s\n",
      "[CV] END ....learning_rate=0.3, max_depth=3, n_estimators=50; total time=   1.0s\n",
      "[CV] END ....learning_rate=0.3, max_depth=3, n_estimators=50; total time=   1.0s\n",
      "[CV] END ...learning_rate=0.3, max_depth=3, n_estimators=100; total time=   1.7s\n",
      "[CV] END ...learning_rate=0.3, max_depth=3, n_estimators=100; total time=   1.7s\n",
      "[CV] END ...learning_rate=0.3, max_depth=3, n_estimators=100; total time=   1.7s\n",
      "[CV] END ...learning_rate=0.3, max_depth=3, n_estimators=100; total time=   1.7s\n",
      "[CV] END ...learning_rate=0.3, max_depth=3, n_estimators=100; total time=   1.7s\n",
      "[CV] END ....learning_rate=0.3, max_depth=4, n_estimators=30; total time=   0.9s\n",
      "[CV] END ....learning_rate=0.3, max_depth=4, n_estimators=30; total time=   0.9s\n",
      "[CV] END ....learning_rate=0.3, max_depth=4, n_estimators=30; total time=   0.9s\n",
      "[CV] END ....learning_rate=0.3, max_depth=4, n_estimators=30; total time=   0.9s\n",
      "[CV] END ....learning_rate=0.3, max_depth=4, n_estimators=30; total time=   0.9s\n",
      "[CV] END ....learning_rate=0.3, max_depth=4, n_estimators=50; total time=   1.2s\n",
      "[CV] END ....learning_rate=0.3, max_depth=4, n_estimators=50; total time=   1.2s\n",
      "[CV] END ....learning_rate=0.3, max_depth=4, n_estimators=50; total time=   1.2s\n",
      "[CV] END ....learning_rate=0.3, max_depth=4, n_estimators=50; total time=   1.2s\n",
      "[CV] END ....learning_rate=0.3, max_depth=4, n_estimators=50; total time=   1.2s\n",
      "[CV] END ...learning_rate=0.3, max_depth=4, n_estimators=100; total time=   2.0s\n",
      "[CV] END ...learning_rate=0.3, max_depth=4, n_estimators=100; total time=   2.1s\n",
      "[CV] END ...learning_rate=0.3, max_depth=4, n_estimators=100; total time=   2.1s\n",
      "[CV] END ...learning_rate=0.3, max_depth=4, n_estimators=100; total time=   2.2s\n",
      "[CV] END ...learning_rate=0.3, max_depth=4, n_estimators=100; total time=   2.1s\n",
      "[CV] END ....learning_rate=0.3, max_depth=6, n_estimators=30; total time=   1.1s\n",
      "[CV] END ....learning_rate=0.3, max_depth=6, n_estimators=30; total time=   1.1s\n",
      "[CV] END ....learning_rate=0.3, max_depth=6, n_estimators=30; total time=   1.1s\n",
      "[CV] END ....learning_rate=0.3, max_depth=6, n_estimators=30; total time=   1.1s\n",
      "[CV] END ....learning_rate=0.3, max_depth=6, n_estimators=30; total time=   1.1s\n",
      "[CV] END ....learning_rate=0.3, max_depth=6, n_estimators=50; total time=   1.6s\n",
      "[CV] END ....learning_rate=0.3, max_depth=6, n_estimators=50; total time=   1.6s\n",
      "[CV] END ....learning_rate=0.3, max_depth=6, n_estimators=50; total time=   1.6s\n",
      "[CV] END ....learning_rate=0.3, max_depth=6, n_estimators=50; total time=   1.6s\n",
      "[CV] END ....learning_rate=0.3, max_depth=6, n_estimators=50; total time=   1.6s\n",
      "[CV] END ...learning_rate=0.3, max_depth=6, n_estimators=100; total time=   2.9s\n",
      "[CV] END ...learning_rate=0.3, max_depth=6, n_estimators=100; total time=   2.9s\n",
      "[CV] END ...learning_rate=0.3, max_depth=6, n_estimators=100; total time=   2.8s\n",
      "[CV] END ...learning_rate=0.3, max_depth=6, n_estimators=100; total time=   2.9s\n",
      "[CV] END ...learning_rate=0.3, max_depth=6, n_estimators=100; total time=   2.9s\n",
      "[CV] END ....learning_rate=0.3, max_depth=8, n_estimators=30; total time=   1.3s\n",
      "[CV] END ....learning_rate=0.3, max_depth=8, n_estimators=30; total time=   1.5s\n",
      "[CV] END ....learning_rate=0.3, max_depth=8, n_estimators=30; total time=   1.4s\n",
      "[CV] END ....learning_rate=0.3, max_depth=8, n_estimators=30; total time=   1.5s\n",
      "[CV] END ....learning_rate=0.3, max_depth=8, n_estimators=30; total time=   1.5s\n",
      "[CV] END ....learning_rate=0.3, max_depth=8, n_estimators=50; total time=   2.1s\n",
      "[CV] END ....learning_rate=0.3, max_depth=8, n_estimators=50; total time=   2.1s\n",
      "[CV] END ....learning_rate=0.3, max_depth=8, n_estimators=50; total time=   2.3s\n",
      "[CV] END ....learning_rate=0.3, max_depth=8, n_estimators=50; total time=   2.3s\n",
      "[CV] END ....learning_rate=0.3, max_depth=8, n_estimators=50; total time=   2.4s\n",
      "[CV] END ...learning_rate=0.3, max_depth=8, n_estimators=100; total time=   4.4s\n",
      "[CV] END ...learning_rate=0.3, max_depth=8, n_estimators=100; total time=   4.3s\n",
      "[CV] END ...learning_rate=0.3, max_depth=8, n_estimators=100; total time=   4.1s\n",
      "[CV] END ...learning_rate=0.3, max_depth=8, n_estimators=100; total time=   3.6s\n",
      "[CV] END ...learning_rate=0.3, max_depth=8, n_estimators=100; total time=   3.6s\n",
      "[CV] END ...learning_rate=0.3, max_depth=10, n_estimators=30; total time=   1.5s\n",
      "[CV] END ...learning_rate=0.3, max_depth=10, n_estimators=30; total time=   1.5s\n",
      "[CV] END ...learning_rate=0.3, max_depth=10, n_estimators=30; total time=   1.5s\n",
      "[CV] END ...learning_rate=0.3, max_depth=10, n_estimators=30; total time=   1.5s\n",
      "[CV] END ...learning_rate=0.3, max_depth=10, n_estimators=30; total time=   1.5s\n",
      "[CV] END ...learning_rate=0.3, max_depth=10, n_estimators=50; total time=   2.3s\n",
      "[CV] END ...learning_rate=0.3, max_depth=10, n_estimators=50; total time=   2.4s\n",
      "[CV] END ...learning_rate=0.3, max_depth=10, n_estimators=50; total time=   2.4s\n",
      "[CV] END ...learning_rate=0.3, max_depth=10, n_estimators=50; total time=   2.3s\n",
      "[CV] END ...learning_rate=0.3, max_depth=10, n_estimators=50; total time=   2.3s\n",
      "[CV] END ..learning_rate=0.3, max_depth=10, n_estimators=100; total time=   4.5s\n",
      "[CV] END ..learning_rate=0.3, max_depth=10, n_estimators=100; total time=   4.4s\n",
      "[CV] END ..learning_rate=0.3, max_depth=10, n_estimators=100; total time=   4.4s\n",
      "[CV] END ..learning_rate=0.3, max_depth=10, n_estimators=100; total time=   4.5s\n",
      "[CV] END ..learning_rate=0.3, max_depth=10, n_estimators=100; total time=   4.5s\n"
     ]
    },
    {
     "data": {
      "text/plain": [
       "GridSearchCV(cv=5,\n",
       "             estimator=XGBClassifier(base_score=None, booster=None,\n",
       "                                     colsample_bylevel=None,\n",
       "                                     colsample_bynode=None,\n",
       "                                     colsample_bytree=None, gamma=None,\n",
       "                                     gpu_id=None, importance_type='gain',\n",
       "                                     interaction_constraints=None,\n",
       "                                     learning_rate=None, max_delta_step=None,\n",
       "                                     max_depth=None, min_child_weight=None,\n",
       "                                     missing=nan, monotone_constraints=None,\n",
       "                                     n_estimators=100, n_jobs=None,\n",
       "                                     num_parallel_tree=None, random_state=None,\n",
       "                                     reg_alpha=None, reg_lambda=None,\n",
       "                                     scale_pos_weight=None, subsample=None,\n",
       "                                     tree_method=None, validate_parameters=None,\n",
       "                                     verbosity=None),\n",
       "             param_grid={'learning_rate': [0.001, 0.01, 0.1, 0.2, 0.3],\n",
       "                         'max_depth': [3, 4, 6, 8, 10],\n",
       "                         'n_estimators': [30, 50, 100]},\n",
       "             scoring='f1', verbose=2)"
      ]
     },
     "execution_count": 45,
     "metadata": {},
     "output_type": "execute_result"
    }
   ],
   "source": [
    "# Defining a ranges of hyperparameters\n",
    "max_depth = [3, 4, 6, 8 ,10] # maximum depth of each estimator (tree)\n",
    "n_estimators = [30, 50, 100] # number of estimators (trees)\n",
    "learning_rate = [0.001, 0.01, 0.1, 0.2, 0.3]\n",
    "\n",
    "# Defining our GridSearchCV instance\n",
    "xgb_grid = GridSearchCV(estimator=XGBClassifier(), cv=5,\n",
    "                       param_grid={\"max_depth\":max_depth, \n",
    "                                   \"learning_rate\":learning_rate,\n",
    "                                   \"n_estimators\":n_estimators},\n",
    "                       scoring=\"f1\",\n",
    "                       verbose=2\n",
    "                      )\n",
    "\n",
    "# Fitting to training data\n",
    "xgb_grid.fit(X_train, y_train)"
   ]
  },
  {
   "cell_type": "code",
   "execution_count": 46,
   "metadata": {},
   "outputs": [
    {
     "name": "stdout",
     "output_type": "stream",
     "text": [
      "Hyperparameters that give the best score : {'learning_rate': 0.2, 'max_depth': 10, 'n_estimators': 100}\n",
      "\n",
      "Best score : 0.6997080769095605\n",
      "\n",
      "...Done.\n"
     ]
    }
   ],
   "source": [
    "# Retrieving best parameters and the best score (f1 score)\n",
    "print(\"Hyperparameters that give the best score : {}\\n\".format(xgb_grid.best_params_))\n",
    "print(\"Best score : {}\\n\".format(xgb_grid.best_score_))\n",
    "print(\"...Done.\")"
   ]
  },
  {
   "cell_type": "code",
   "execution_count": 47,
   "metadata": {},
   "outputs": [
    {
     "name": "stdout",
     "output_type": "stream",
     "text": [
      "Predictions on training set...\n",
      "...Done.\n",
      "\n",
      "Predictions on test set...\n",
      "...Done.\n"
     ]
    }
   ],
   "source": [
    "# Predictions on training set\n",
    "print(\"Predictions on training set...\")\n",
    "y_train_pred = xgb_grid.predict(X_train)\n",
    "print(\"...Done.\")\n",
    "\n",
    "print()\n",
    "\n",
    "# Predictions on test set\n",
    "print(\"Predictions on test set...\")\n",
    "y_test_pred = xgb_grid.predict(X_test)\n",
    "print(\"...Done.\")"
   ]
  },
  {
   "cell_type": "code",
   "execution_count": 48,
   "metadata": {},
   "outputs": [
    {
     "name": "stdout",
     "output_type": "stream",
     "text": [
      "f1-score on train set :  0.7018211157215307\n",
      "f1-score on test set :  0.7000461467466543\n"
     ]
    }
   ],
   "source": [
    "# f1-score on both training and testing sets\n",
    "print(\"f1-score on train set : \", xgb_grid.score(X_train, y_train))\n",
    "print(\"f1-score on test set : \", xgb_grid.score(X_test, y_test))"
   ]
  },
  {
   "cell_type": "code",
   "execution_count": 49,
   "metadata": {},
   "outputs": [
    {
     "name": "stdout",
     "output_type": "stream",
     "text": [
      "              precision    recall  f1-score   support\n",
      "\n",
      "           0       0.95      1.00      0.98     27171\n",
      "           1       1.00      0.54      0.70      2816\n",
      "\n",
      "    accuracy                           0.96     29987\n",
      "   macro avg       0.98      0.77      0.84     29987\n",
      "weighted avg       0.96      0.96      0.95     29987\n",
      "\n"
     ]
    }
   ],
   "source": [
    "# classifiction report\n",
    "print(classification_report(y_test, y_test_pred))"
   ]
  },
  {
   "cell_type": "code",
   "execution_count": 50,
   "metadata": {},
   "outputs": [
    {
     "data": {
      "image/png": "[encoded data removed]",
      "text/plain": [
       "<Figure size 432x288 with 2 Axes>"
      ]
     },
     "metadata": {
      "needs_background": "light"
     },
     "output_type": "display_data"
    }
   ],
   "source": [
    "# Confusion matrix\n",
    "cm = confusion_matrix(y_test, y_test_pred)\n",
    "sns.heatmap(cm, annot=True, fmt=\"d\")\n",
    "plt.show()"
   ]
  },
  {
   "cell_type": "markdown",
   "metadata": {},
   "source": [
    "#### What is our model doing here ?\n",
    "\n",
    "It looks like this model does not improve our previous results. Therefore, we are achieving a 100% precision but only 54% recall on fraudulent transactions. "
   ]
  },
  {
   "cell_type": "markdown",
   "metadata": {},
   "source": [
    "# Conclusion"
   ]
  },
  {
   "cell_type": "markdown",
   "metadata": {},
   "source": [
    "#### Are the results satisfying ?\n",
    "Yes, we detect more than 50% of the frauds without making (almost) any false alert (which is way better than detecting no frauds at all). Also, we should not forget that our model has been trained on skewed data (only 9% of transactions were fraudulent). One way to improve the results is to fetch more samples for fraudulent transactions."
   ]
  }
 ],
 "metadata": {
  "kernelspec": {
   "display_name": "Python 3",
   "language": "python",
   "name": "python3"
  },
  "language_info": {
   "codemirror_mode": {
    "name": "ipython",
    "version": 3
   },
   "file_extension": ".py",
   "mimetype": "text/x-python",
   "name": "python",
   "nbconvert_exporter": "python",
   "pygments_lexer": "ipython3",
   "version": "3.8.8"
  }
 },
 "nbformat": 4,
 "nbformat_minor": 4
}
